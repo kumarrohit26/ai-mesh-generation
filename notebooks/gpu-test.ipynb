{
 "cells": [
  {
   "cell_type": "code",
   "execution_count": null,
   "metadata": {},
   "outputs": [],
   "source": [
    "!pip install tensorflow-gpu"
   ]
  },
  {
   "cell_type": "code",
   "execution_count": 1,
   "metadata": {},
   "outputs": [
    {
     "name": "stdout",
     "output_type": "stream",
     "text": [
      "Num GPUs Available:  0\n"
     ]
    }
   ],
   "source": [
    "import tensorflow as tf\n",
    "print(\"Num GPUs Available: \", len(tf.config.experimental.list_physical_devices('GPU')))\n"
   ]
  },
  {
   "cell_type": "code",
   "execution_count": 3,
   "metadata": {},
   "outputs": [],
   "source": [
    "gpus = tf.config.experimental.list_physical_devices('GPU')\n",
    "if gpus:\n",
    "    try:\n",
    "        for gpu in gpus:\n",
    "            tf.config.experimental.set_memory_growth(gpu, True)\n",
    "    except RuntimeError as e:\n",
    "        print(e)\n"
   ]
  },
  {
   "cell_type": "code",
   "execution_count": 1,
   "metadata": {},
   "outputs": [],
   "source": [
    "import json"
   ]
  },
  {
   "cell_type": "code",
   "execution_count": 18,
   "metadata": {},
   "outputs": [
    {
     "name": "stdout",
     "output_type": "stream",
     "text": [
      "{'planar_device': {'z_top': 25, 'z_bottom': 0}, 'microstrip_radial_stub': {'z_top': 0.635, 'z_bottom': 0}, 'planar_filter': {'z_top': 0, 'z_bottom': -31}, 'branch_line_coupler': {'z_top': 0, 'z_bottom': -0.794}, 'low_pass_filter': {'z_top': 0, 'z_bottom': -0.2}, 'microstrip_coupler': {'z_top': 10, 'z_bottom': 0}}\n"
     ]
    }
   ],
   "source": [
    "f = open('../data/z_axis.json')\n",
    "data = json.load(f)\n",
    "f.close()\n",
    "print(data)"
   ]
  },
  {
   "cell_type": "code",
   "execution_count": 19,
   "metadata": {},
   "outputs": [
    {
     "name": "stdout",
     "output_type": "stream",
     "text": [
      "{'z_top': 25, 'z_bottom': 0}\n"
     ]
    }
   ],
   "source": [
    "print(data['planar_device'])"
   ]
  },
  {
   "cell_type": "code",
   "execution_count": 41,
   "metadata": {},
   "outputs": [
    {
     "data": {
      "text/plain": [
       "['Microstrip', 'Coupler']"
      ]
     },
     "execution_count": 41,
     "metadata": {},
     "output_type": "execute_result"
    }
   ],
   "source": [
    "str = 'Microstrip_Coupler_0_0'\n",
    "data = str.rsplit('_')[0:2]\n",
    "data"
   ]
  },
  {
   "cell_type": "code",
   "execution_count": 15,
   "metadata": {},
   "outputs": [],
   "source": [
    "images = [\n",
    "    'planar_device',\n",
    "    'microstrip_radial_stub',\n",
    "    'planar_filter',\n",
    "    'branch_line_coupler',\n",
    "    'low_pass_filter',\n",
    "    'microstrip_coupler'\n",
    "]"
   ]
  },
  {
   "cell_type": "code",
   "execution_count": 24,
   "metadata": {},
   "outputs": [
    {
     "name": "stdout",
     "output_type": "stream",
     "text": [
      "planar_device - 23.75\n",
      "microstrip_radial_stub - 0.6\n",
      "planar_filter - -1.55\n",
      "branch_line_coupler - -0.04\n",
      "low_pass_filter - -0.01\n",
      "microstrip_coupler - 9.5\n"
     ]
    }
   ],
   "source": [
    "Z_AXIS_TOLERANCE = 0.95\n",
    "\n",
    "for image in images:\n",
    "    z_axis_data = data[image]\n",
    "    z_top = z_axis_data['z_top']\n",
    "    z_bottom = z_axis_data['z_bottom']\n",
    "    height = z_top - z_bottom\n",
    "    Z_AXIS = z_bottom + (Z_AXIS_TOLERANCE*height)\n",
    "    print(f'{image} - {round(Z_AXIS, 2)}')"
   ]
  },
  {
   "cell_type": "code",
   "execution_count": 42,
   "metadata": {},
   "outputs": [],
   "source": [
    "def resize_image(image, target_height):\n",
    "    height_percent = target_height / float(image.size[1])\n",
    "    target_width = int(float(image.size[0]) * float(height_percent))\n",
    "    resized_image = image.resize((target_width, target_height))\n",
    "    return resized_image"
   ]
  },
  {
   "cell_type": "code",
   "execution_count": 43,
   "metadata": {},
   "outputs": [
    {
     "name": "stdout",
     "output_type": "stream",
     "text": [
      "branch_line_coupler.png 2840 2648\n",
      "(2145, 2000)\n"
     ]
    }
   ],
   "source": [
    "import os\n",
    "from PIL import Image\n",
    "\n",
    "for image_name in os.listdir('../data/images/'):\n",
    "    image_path = os.path.join('../data/images/', image_name)\n",
    "    image = Image.open(image_path)\n",
    "    rgb_im = image.convert('RGB')\n",
    "    image_width, image_height = rgb_im.size\n",
    "    print(image_name, image_width, image_height)\n",
    "    resized_image = resize_image(image, 2000)\n",
    "    print(resized_image.size)"
   ]
  },
  {
   "cell_type": "code",
   "execution_count": 1,
   "metadata": {},
   "outputs": [],
   "source": [
    "def remove_white_images_without_neigbour(row):\n",
    "    if (row['neighbours'] == 0) & (int(row['len_of_boundry_inv']) == 0):\n",
    "        return False\n",
    "    else:\n",
    "        return True\n",
    "    \n",
    "def remove_white_images(row):   \n",
    "    if (int(row['len_of_boundry_inv']) == 0):\n",
    "        return False\n",
    "    else:\n",
    "        return True"
   ]
  },
  {
   "cell_type": "code",
   "execution_count": null,
   "metadata": {},
   "outputs": [],
   "source": [
    "import pandas as pd\n",
    "import matplotlib.pyplot as plt\n",
    "\n",
    "df = pd.read_csv('../output/training_data/train.csv')\n",
    "# 'len_of_boundry_inv', 'disjoint_image', 'neighbours'\n",
    "df.plot(x='', y='y', kind='scatter')\n",
    "plt.show()"
   ]
  },
  {
   "cell_type": "code",
   "execution_count": null,
   "metadata": {},
   "outputs": [],
   "source": [
    "data = pd.read_csv('../output/training_data/train.csv')"
   ]
  },
  {
   "cell_type": "code",
   "execution_count": 3,
   "metadata": {},
   "outputs": [],
   "source": [
    "from PIL import Image\n",
    "img = Image.open('../output/tiles/branch_line_coupler_0_250_2_2.png')\n",
    "extrema = img.convert(\"L\").getextrema()\n",
    "if extrema == (0, 0):\n",
    "    print('all black')"
   ]
  },
  {
   "cell_type": "code",
   "execution_count": 10,
   "metadata": {},
   "outputs": [
    {
     "data": {
      "text/plain": [
       "4901272"
      ]
     },
     "execution_count": 10,
     "metadata": {},
     "output_type": "execute_result"
    }
   ],
   "source": [
    "import numpy as np\n",
    "import cv2\n",
    "img = cv2.imread(\"../data/rotated_image/branch_line_coupler_0.png\")\n",
    "#img = Image.open(\"../data/rotated_image/branch_line_coupler_0.png\")\n",
    "number_of_black_pix = np.sum(img == 0)\n",
    "number_of_black_pix"
   ]
  }
 ],
 "metadata": {
  "kernelspec": {
   "display_name": "Python 3",
   "language": "python",
   "name": "python3"
  },
  "language_info": {
   "codemirror_mode": {
    "name": "ipython",
    "version": 3
   },
   "file_extension": ".py",
   "mimetype": "text/x-python",
   "name": "python",
   "nbconvert_exporter": "python",
   "pygments_lexer": "ipython3",
   "version": "3.10.0"
  }
 },
 "nbformat": 4,
 "nbformat_minor": 2
}
