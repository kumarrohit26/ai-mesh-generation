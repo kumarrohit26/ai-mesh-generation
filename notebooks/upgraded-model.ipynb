{
 "cells": [
  {
   "cell_type": "code",
   "execution_count": 1,
   "metadata": {},
   "outputs": [],
   "source": [
    "import pandas as pd\n",
    "import numpy as np\n",
    "from sklearn.model_selection import train_test_split\n",
    "import tensorflow as tf\n",
    "from tensorflow.keras.preprocessing.image import load_img, img_to_array\n",
    "from tensorflow.keras.utils import to_categorical\n",
    "from tensorflow import keras\n",
    "from tensorflow.keras.layers import Input, Conv2D, MaxPooling2D, Flatten, Dense, Concatenate\n",
    "import matplotlib.pyplot as plt\n",
    "from tensorflow.keras.layers import Dropout, BatchNormalization\n",
    "from tensorflow.keras.optimizers import Adam, SGD, RMSprop, Adagrad, Adadelta, Adamax, Nadam"
   ]
  },
  {
   "cell_type": "code",
   "execution_count": 2,
   "metadata": {},
   "outputs": [],
   "source": [
    "import cv2"
   ]
  },
  {
   "cell_type": "code",
   "execution_count": 2,
   "metadata": {},
   "outputs": [
    {
     "name": "stdout",
     "output_type": "stream",
     "text": [
      "[PhysicalDevice(name='/physical_device:GPU:0', device_type='GPU'), PhysicalDevice(name='/physical_device:GPU:1', device_type='GPU')]\n",
      "Num GPUs Available:  2\n"
     ]
    }
   ],
   "source": [
    "\n",
    "print(tf.config.list_physical_devices('GPU'))\n",
    "print(\"Num GPUs Available: \", len(tf.config.list_physical_devices('GPU')))\n"
   ]
  },
  {
   "cell_type": "code",
   "execution_count": 2,
   "metadata": {},
   "outputs": [],
   "source": [
    "gpus = tf.config.experimental.list_physical_devices('GPU')\n",
    "if gpus:\n",
    "    try:\n",
    "        for gpu in gpus:\n",
    "            tf.config.experimental.set_memory_growth(gpu, True)\n",
    "    except RuntimeError as e:\n",
    "        print(e)\n"
   ]
  },
  {
   "cell_type": "code",
   "execution_count": 6,
   "metadata": {},
   "outputs": [],
   "source": [
    "def categorize(value):\n",
    "    if 0 <= value <= 25:\n",
    "        return 0\n",
    "    elif 25 < value <= 40:\n",
    "        return 1\n",
    "    else:\n",
    "        return 2\n",
    "\n",
    "def add_categories():\n",
    "    file_path = '../output/training_data/train.csv'\n",
    "    df = pd.read_csv(file_path)\n",
    "    # Apply the categorize function to the numerical column and create a new column\n",
    "    df['Category'] = df['num_triangles'].apply(categorize)\n",
    "\n",
    "    # Save the DataFrame with the new column back to a CSV file\n",
    "    df.to_csv('../output_file.csv', index=False)"
   ]
  },
  {
   "cell_type": "code",
   "execution_count": 3,
   "metadata": {},
   "outputs": [],
   "source": [
    "def remove_white_images_without_neigbour(row):\n",
    "    if (row['neighbours'] == 0) & (int(row['len_of_boundry_inv']) == 0):\n",
    "        return False\n",
    "    else:\n",
    "        return True\n",
    "    \n",
    "def remove_white_images(row):\n",
    "    if (int(row['len_of_boundry_inv']) == 0):\n",
    "        return False\n",
    "    else:\n",
    "        return True"
   ]
  },
  {
   "cell_type": "code",
   "execution_count": 4,
   "metadata": {},
   "outputs": [],
   "source": [
    "# Load your CSV file containing image names, features, and labels\n",
    "data = pd.read_csv('../output/training_data/train.csv')"
   ]
  },
  {
   "cell_type": "code",
   "execution_count": null,
   "metadata": {},
   "outputs": [],
   "source": [
    "data.head()"
   ]
  },
  {
   "cell_type": "code",
   "execution_count": null,
   "metadata": {},
   "outputs": [],
   "source": [
    "data[data['len_of_boundry_per_100px'] == 0]"
   ]
  },
  {
   "cell_type": "code",
   "execution_count": 7,
   "metadata": {},
   "outputs": [
    {
     "data": {
      "text/html": [
       "<div>\n",
       "<style scoped>\n",
       "    .dataframe tbody tr th:only-of-type {\n",
       "        vertical-align: middle;\n",
       "    }\n",
       "\n",
       "    .dataframe tbody tr th {\n",
       "        vertical-align: top;\n",
       "    }\n",
       "\n",
       "    .dataframe thead th {\n",
       "        text-align: right;\n",
       "    }\n",
       "</style>\n",
       "<table border=\"1\" class=\"dataframe\">\n",
       "  <thead>\n",
       "    <tr style=\"text-align: right;\">\n",
       "      <th></th>\n",
       "      <th>name</th>\n",
       "      <th>len_of_boundry</th>\n",
       "      <th>len_of_boundry_inv</th>\n",
       "      <th>disjoint_image</th>\n",
       "      <th>tile_size</th>\n",
       "      <th>num_triangles</th>\n",
       "      <th>image_category</th>\n",
       "      <th>triangle_per_100px</th>\n",
       "      <th>density_category</th>\n",
       "      <th>neighbours</th>\n",
       "      <th>len_of_boundry_per_100px</th>\n",
       "    </tr>\n",
       "  </thead>\n",
       "  <tbody>\n",
       "    <tr>\n",
       "      <th>0</th>\n",
       "      <td>branch_line_coupler_0_250_0_0.png</td>\n",
       "      <td>996.0</td>\n",
       "      <td>0.0</td>\n",
       "      <td>0</td>\n",
       "      <td>250</td>\n",
       "      <td>7</td>\n",
       "      <td>0</td>\n",
       "      <td>1.12</td>\n",
       "      <td>0</td>\n",
       "      <td>0</td>\n",
       "      <td>0.0</td>\n",
       "    </tr>\n",
       "    <tr>\n",
       "      <th>1</th>\n",
       "      <td>branch_line_coupler_0_250_0_1.png</td>\n",
       "      <td>996.0</td>\n",
       "      <td>0.0</td>\n",
       "      <td>0</td>\n",
       "      <td>250</td>\n",
       "      <td>58</td>\n",
       "      <td>0</td>\n",
       "      <td>9.28</td>\n",
       "      <td>0</td>\n",
       "      <td>2</td>\n",
       "      <td>0.0</td>\n",
       "    </tr>\n",
       "    <tr>\n",
       "      <th>2</th>\n",
       "      <td>branch_line_coupler_0_250_0_2.png</td>\n",
       "      <td>1050.0</td>\n",
       "      <td>938.0</td>\n",
       "      <td>1</td>\n",
       "      <td>250</td>\n",
       "      <td>235</td>\n",
       "      <td>2</td>\n",
       "      <td>37.60</td>\n",
       "      <td>1</td>\n",
       "      <td>2</td>\n",
       "      <td>375.2</td>\n",
       "    </tr>\n",
       "    <tr>\n",
       "      <th>3</th>\n",
       "      <td>branch_line_coupler_0_250_0_3.png</td>\n",
       "      <td>996.0</td>\n",
       "      <td>0.0</td>\n",
       "      <td>0</td>\n",
       "      <td>250</td>\n",
       "      <td>51</td>\n",
       "      <td>0</td>\n",
       "      <td>8.16</td>\n",
       "      <td>0</td>\n",
       "      <td>4</td>\n",
       "      <td>0.0</td>\n",
       "    </tr>\n",
       "    <tr>\n",
       "      <th>4</th>\n",
       "      <td>branch_line_coupler_0_250_0_4.png</td>\n",
       "      <td>996.0</td>\n",
       "      <td>0.0</td>\n",
       "      <td>0</td>\n",
       "      <td>250</td>\n",
       "      <td>14</td>\n",
       "      <td>0</td>\n",
       "      <td>2.24</td>\n",
       "      <td>0</td>\n",
       "      <td>4</td>\n",
       "      <td>0.0</td>\n",
       "    </tr>\n",
       "  </tbody>\n",
       "</table>\n",
       "</div>"
      ],
      "text/plain": [
       "                                name  len_of_boundry  len_of_boundry_inv  \\\n",
       "0  branch_line_coupler_0_250_0_0.png           996.0                 0.0   \n",
       "1  branch_line_coupler_0_250_0_1.png           996.0                 0.0   \n",
       "2  branch_line_coupler_0_250_0_2.png          1050.0               938.0   \n",
       "3  branch_line_coupler_0_250_0_3.png           996.0                 0.0   \n",
       "4  branch_line_coupler_0_250_0_4.png           996.0                 0.0   \n",
       "\n",
       "   disjoint_image  tile_size  num_triangles  image_category  \\\n",
       "0               0        250              7               0   \n",
       "1               0        250             58               0   \n",
       "2               1        250            235               2   \n",
       "3               0        250             51               0   \n",
       "4               0        250             14               0   \n",
       "\n",
       "   triangle_per_100px  density_category  neighbours  len_of_boundry_per_100px  \n",
       "0                1.12                 0           0                       0.0  \n",
       "1                9.28                 0           2                       0.0  \n",
       "2               37.60                 1           2                     375.2  \n",
       "3                8.16                 0           4                       0.0  \n",
       "4                2.24                 0           4                       0.0  "
      ]
     },
     "execution_count": 7,
     "metadata": {},
     "output_type": "execute_result"
    }
   ],
   "source": [
    "data['density_category'] = data['triangle_per_100px'].apply(categorize)\n",
    "data.head()"
   ]
  },
  {
   "cell_type": "code",
   "execution_count": 14,
   "metadata": {},
   "outputs": [
    {
     "data": {
      "text/plain": [
       "(6274, 11)"
      ]
     },
     "execution_count": 14,
     "metadata": {},
     "output_type": "execute_result"
    }
   ],
   "source": [
    "data.shape"
   ]
  },
  {
   "cell_type": "code",
   "execution_count": 5,
   "metadata": {},
   "outputs": [
    {
     "data": {
      "text/plain": [
       "(4693, 11)"
      ]
     },
     "execution_count": 5,
     "metadata": {},
     "output_type": "execute_result"
    }
   ],
   "source": [
    "data = data[data.apply(remove_white_images, axis=1)]\n",
    "data.shape"
   ]
  },
  {
   "cell_type": "code",
   "execution_count": 172,
   "metadata": {},
   "outputs": [],
   "source": [
    "data = data[data['density_category'].isin([0,2])]\n",
    "data['density_category'] = np.where(data['density_category'] == 2, 1, 0)"
   ]
  },
  {
   "cell_type": "code",
   "execution_count": 32,
   "metadata": {},
   "outputs": [
    {
     "data": {
      "text/html": [
       "<div>\n",
       "<style scoped>\n",
       "    .dataframe tbody tr th:only-of-type {\n",
       "        vertical-align: middle;\n",
       "    }\n",
       "\n",
       "    .dataframe tbody tr th {\n",
       "        vertical-align: top;\n",
       "    }\n",
       "\n",
       "    .dataframe thead th {\n",
       "        text-align: right;\n",
       "    }\n",
       "</style>\n",
       "<table border=\"1\" class=\"dataframe\">\n",
       "  <thead>\n",
       "    <tr style=\"text-align: right;\">\n",
       "      <th></th>\n",
       "      <th>name</th>\n",
       "      <th>len_of_boundry</th>\n",
       "      <th>len_of_boundry_inv</th>\n",
       "      <th>disjoint_image</th>\n",
       "      <th>tile_size</th>\n",
       "      <th>num_triangles</th>\n",
       "      <th>image_category</th>\n",
       "      <th>triangle_per_100px</th>\n",
       "      <th>density_category</th>\n",
       "      <th>neighbours</th>\n",
       "      <th>len_of_boundry_per_100px</th>\n",
       "    </tr>\n",
       "  </thead>\n",
       "  <tbody>\n",
       "    <tr>\n",
       "      <th>0</th>\n",
       "      <td>branch_line_coupler_0_250_0_0.png</td>\n",
       "      <td>996.000000</td>\n",
       "      <td>0.000000</td>\n",
       "      <td>0</td>\n",
       "      <td>250</td>\n",
       "      <td>7</td>\n",
       "      <td>0</td>\n",
       "      <td>1.12</td>\n",
       "      <td>0</td>\n",
       "      <td>0</td>\n",
       "      <td>0.000000</td>\n",
       "    </tr>\n",
       "    <tr>\n",
       "      <th>1</th>\n",
       "      <td>branch_line_coupler_0_250_0_1.png</td>\n",
       "      <td>996.000000</td>\n",
       "      <td>0.000000</td>\n",
       "      <td>0</td>\n",
       "      <td>250</td>\n",
       "      <td>58</td>\n",
       "      <td>0</td>\n",
       "      <td>9.28</td>\n",
       "      <td>0</td>\n",
       "      <td>2</td>\n",
       "      <td>0.000000</td>\n",
       "    </tr>\n",
       "    <tr>\n",
       "      <th>3</th>\n",
       "      <td>branch_line_coupler_0_250_0_3.png</td>\n",
       "      <td>996.000000</td>\n",
       "      <td>0.000000</td>\n",
       "      <td>0</td>\n",
       "      <td>250</td>\n",
       "      <td>51</td>\n",
       "      <td>0</td>\n",
       "      <td>8.16</td>\n",
       "      <td>0</td>\n",
       "      <td>4</td>\n",
       "      <td>0.000000</td>\n",
       "    </tr>\n",
       "    <tr>\n",
       "      <th>4</th>\n",
       "      <td>branch_line_coupler_0_250_0_4.png</td>\n",
       "      <td>996.000000</td>\n",
       "      <td>0.000000</td>\n",
       "      <td>0</td>\n",
       "      <td>250</td>\n",
       "      <td>14</td>\n",
       "      <td>0</td>\n",
       "      <td>2.24</td>\n",
       "      <td>0</td>\n",
       "      <td>4</td>\n",
       "      <td>0.000000</td>\n",
       "    </tr>\n",
       "    <tr>\n",
       "      <th>6</th>\n",
       "      <td>branch_line_coupler_0_250_0_6.png</td>\n",
       "      <td>742.000000</td>\n",
       "      <td>750.000000</td>\n",
       "      <td>1</td>\n",
       "      <td>250</td>\n",
       "      <td>143</td>\n",
       "      <td>1</td>\n",
       "      <td>22.88</td>\n",
       "      <td>0</td>\n",
       "      <td>3</td>\n",
       "      <td>300.000000</td>\n",
       "    </tr>\n",
       "    <tr>\n",
       "      <th>...</th>\n",
       "      <td>...</td>\n",
       "      <td>...</td>\n",
       "      <td>...</td>\n",
       "      <td>...</td>\n",
       "      <td>...</td>\n",
       "      <td>...</td>\n",
       "      <td>...</td>\n",
       "      <td>...</td>\n",
       "      <td>...</td>\n",
       "      <td>...</td>\n",
       "      <td>...</td>\n",
       "    </tr>\n",
       "    <tr>\n",
       "      <th>6267</th>\n",
       "      <td>planar_filter_95_250_6_7.png</td>\n",
       "      <td>996.000000</td>\n",
       "      <td>0.000000</td>\n",
       "      <td>0</td>\n",
       "      <td>250</td>\n",
       "      <td>4</td>\n",
       "      <td>0</td>\n",
       "      <td>0.64</td>\n",
       "      <td>0</td>\n",
       "      <td>2</td>\n",
       "      <td>0.000000</td>\n",
       "    </tr>\n",
       "    <tr>\n",
       "      <th>6270</th>\n",
       "      <td>planar_filter_95_500_1_3.png</td>\n",
       "      <td>2822.062013</td>\n",
       "      <td>2869.754396</td>\n",
       "      <td>1</td>\n",
       "      <td>500</td>\n",
       "      <td>409</td>\n",
       "      <td>2</td>\n",
       "      <td>16.36</td>\n",
       "      <td>0</td>\n",
       "      <td>3</td>\n",
       "      <td>573.950879</td>\n",
       "    </tr>\n",
       "    <tr>\n",
       "      <th>6271</th>\n",
       "      <td>planar_filter_95_500_2_1.png</td>\n",
       "      <td>3300.553391</td>\n",
       "      <td>1038.208151</td>\n",
       "      <td>3</td>\n",
       "      <td>500</td>\n",
       "      <td>504</td>\n",
       "      <td>2</td>\n",
       "      <td>20.16</td>\n",
       "      <td>0</td>\n",
       "      <td>3</td>\n",
       "      <td>207.641630</td>\n",
       "    </tr>\n",
       "    <tr>\n",
       "      <th>6272</th>\n",
       "      <td>planar_filter_95_500_2_2.png</td>\n",
       "      <td>3012.724963</td>\n",
       "      <td>2617.043719</td>\n",
       "      <td>2</td>\n",
       "      <td>500</td>\n",
       "      <td>564</td>\n",
       "      <td>2</td>\n",
       "      <td>22.56</td>\n",
       "      <td>0</td>\n",
       "      <td>5</td>\n",
       "      <td>523.408744</td>\n",
       "    </tr>\n",
       "    <tr>\n",
       "      <th>6273</th>\n",
       "      <td>planar_filter_95_500_2_3.png</td>\n",
       "      <td>2955.161472</td>\n",
       "      <td>1166.977703</td>\n",
       "      <td>2</td>\n",
       "      <td>500</td>\n",
       "      <td>99</td>\n",
       "      <td>0</td>\n",
       "      <td>3.96</td>\n",
       "      <td>0</td>\n",
       "      <td>3</td>\n",
       "      <td>233.395541</td>\n",
       "    </tr>\n",
       "  </tbody>\n",
       "</table>\n",
       "<p>3179 rows × 11 columns</p>\n",
       "</div>"
      ],
      "text/plain": [
       "                                   name  len_of_boundry  len_of_boundry_inv  \\\n",
       "0     branch_line_coupler_0_250_0_0.png      996.000000            0.000000   \n",
       "1     branch_line_coupler_0_250_0_1.png      996.000000            0.000000   \n",
       "3     branch_line_coupler_0_250_0_3.png      996.000000            0.000000   \n",
       "4     branch_line_coupler_0_250_0_4.png      996.000000            0.000000   \n",
       "6     branch_line_coupler_0_250_0_6.png      742.000000          750.000000   \n",
       "...                                 ...             ...                 ...   \n",
       "6267       planar_filter_95_250_6_7.png      996.000000            0.000000   \n",
       "6270       planar_filter_95_500_1_3.png     2822.062013         2869.754396   \n",
       "6271       planar_filter_95_500_2_1.png     3300.553391         1038.208151   \n",
       "6272       planar_filter_95_500_2_2.png     3012.724963         2617.043719   \n",
       "6273       planar_filter_95_500_2_3.png     2955.161472         1166.977703   \n",
       "\n",
       "      disjoint_image  tile_size  num_triangles  image_category  \\\n",
       "0                  0        250              7               0   \n",
       "1                  0        250             58               0   \n",
       "3                  0        250             51               0   \n",
       "4                  0        250             14               0   \n",
       "6                  1        250            143               1   \n",
       "...              ...        ...            ...             ...   \n",
       "6267               0        250              4               0   \n",
       "6270               1        500            409               2   \n",
       "6271               3        500            504               2   \n",
       "6272               2        500            564               2   \n",
       "6273               2        500             99               0   \n",
       "\n",
       "      triangle_per_100px  density_category  neighbours  \\\n",
       "0                   1.12                 0           0   \n",
       "1                   9.28                 0           2   \n",
       "3                   8.16                 0           4   \n",
       "4                   2.24                 0           4   \n",
       "6                  22.88                 0           3   \n",
       "...                  ...               ...         ...   \n",
       "6267                0.64                 0           2   \n",
       "6270               16.36                 0           3   \n",
       "6271               20.16                 0           3   \n",
       "6272               22.56                 0           5   \n",
       "6273                3.96                 0           3   \n",
       "\n",
       "      len_of_boundry_per_100px  \n",
       "0                     0.000000  \n",
       "1                     0.000000  \n",
       "3                     0.000000  \n",
       "4                     0.000000  \n",
       "6                   300.000000  \n",
       "...                        ...  \n",
       "6267                  0.000000  \n",
       "6270                573.950879  \n",
       "6271                207.641630  \n",
       "6272                523.408744  \n",
       "6273                233.395541  \n",
       "\n",
       "[3179 rows x 11 columns]"
      ]
     },
     "execution_count": 32,
     "metadata": {},
     "output_type": "execute_result"
    }
   ],
   "source": [
    "#data[(data['triangle_per_100px'] > 25) & (data['triangle_per_100px'] <= 40)  & (data['density_category'] == 1)]\n",
    "#data[(data['triangle_per_100px'] > 25) & (data['triangle_per_100px'] < 50)  & (data['triangle_per_100px'] >= 40) & (data['density_category'] == 1)]\n",
    "data[(data['triangle_per_100px'] <= 25) & (data['density_category'] == 0)]\n",
    "#data[(data['triangle_per_100px'] > 40) & (data['density_category'] == 2)]"
   ]
  },
  {
   "cell_type": "code",
   "execution_count": 6,
   "metadata": {},
   "outputs": [],
   "source": [
    "import seaborn as sns\n",
    "import matplotlib as plt"
   ]
  },
  {
   "cell_type": "code",
   "execution_count": null,
   "metadata": {},
   "outputs": [],
   "source": [
    "sns.histplot(data=data, x='triangle_per_100px')"
   ]
  },
  {
   "cell_type": "code",
   "execution_count": 44,
   "metadata": {},
   "outputs": [
    {
     "data": {
      "text/plain": [
       "(4693, 11)"
      ]
     },
     "execution_count": 44,
     "metadata": {},
     "output_type": "execute_result"
    }
   ],
   "source": [
    "data.shape"
   ]
  },
  {
   "cell_type": "code",
   "execution_count": 9,
   "metadata": {},
   "outputs": [],
   "source": [
    "# Function to apply Sobel filter to an image\n",
    "def apply_sobel(image):\n",
    "    # Your Sobel filter implementation\n",
    "    # For example:\n",
    "    sobel_image = cv2.Sobel(image, cv2.CV_64F, 1, 1, ksize=3)\n",
    "    return sobel_image"
   ]
  },
  {
   "cell_type": "code",
   "execution_count": 7,
   "metadata": {},
   "outputs": [],
   "source": [
    "# Load and preprocess black and white images\n",
    "image_data = []\n",
    "for image_file in data['name']:\n",
    "    image = load_img('../output/tiles/' + image_file, color_mode='grayscale', target_size=(64, 64))\n",
    "    image = img_to_array(image)\n",
    "    image /= 255.0  # Normalize pixel values\n",
    "    # Apply Sobel filter\n",
    "    #sobel_image = cv2.Sobel(image, cv2.CV_64F, 1, 1, ksize=3)\n",
    "    \n",
    "    # Optionally, you might want to normalize the Sobel image as well\n",
    "    #sobel_image /= np.max(np.abs(sobel_image))\n",
    "    image_data.append(image)\n",
    "\n",
    "image_data = np.array(image_data)"
   ]
  },
  {
   "cell_type": "code",
   "execution_count": 8,
   "metadata": {},
   "outputs": [],
   "source": [
    "# Load numerical features and one-hot encode labels\n",
    "#features = data[['len_of_boundry_inv', 'disjoint_image']].values\n",
    "features = data[['len_of_boundry_per_100px', 'disjoint_image', 'neighbours']].values\n",
    "labels = data['density_category'].values\n",
    "\n",
    "# One-hot encode labels\n",
    "labels = to_categorical(labels)\n",
    "\n",
    "# Convert labels to binary format\n",
    "#labels_binary = (labels == 1).astype(int)  # Assuming 1 is the positive class\n",
    "\n"
   ]
  },
  {
   "cell_type": "code",
   "execution_count": null,
   "metadata": {},
   "outputs": [],
   "source": [
    "labels_binary"
   ]
  },
  {
   "cell_type": "code",
   "execution_count": 20,
   "metadata": {},
   "outputs": [
    {
     "name": "stdout",
     "output_type": "stream",
     "text": [
      "(4693, 3)\n"
     ]
    }
   ],
   "source": [
    "num_classes = len(set(data['image_category'].values))\n",
    "print(labels.shape)"
   ]
  },
  {
   "cell_type": "code",
   "execution_count": 21,
   "metadata": {},
   "outputs": [],
   "source": [
    "noc = features.shape[1]"
   ]
  },
  {
   "cell_type": "code",
   "execution_count": 81,
   "metadata": {},
   "outputs": [
    {
     "name": "stdout",
     "output_type": "stream",
     "text": [
      "Index([], dtype='int64')\n",
      "Index([], dtype='int64')\n"
     ]
    }
   ],
   "source": [
    "df = pd.DataFrame(labels)\n",
    "\n",
    "# Check which columns have all zero values\n",
    "all_zero_columns = df.columns[(df == 0).all()]\n",
    "df = df.drop(all_zero_columns, axis=1)\n",
    "print(all_zero_columns)\n",
    "\n",
    "all_zero_after = df.columns[(df == 0).all()]\n",
    "print(all_zero_after)"
   ]
  },
  {
   "cell_type": "code",
   "execution_count": 9,
   "metadata": {},
   "outputs": [],
   "source": [
    "from sklearn.preprocessing import RobustScaler"
   ]
  },
  {
   "cell_type": "code",
   "execution_count": 10,
   "metadata": {},
   "outputs": [],
   "source": [
    "robust_scaler = RobustScaler()\n",
    "features = robust_scaler.fit_transform(features)"
   ]
  },
  {
   "cell_type": "code",
   "execution_count": 221,
   "metadata": {},
   "outputs": [],
   "source": [
    "# Split the data into training, validation, and test sets for images\n",
    "X_train, X_test, y_train, y_test = train_test_split(image_data, labels, test_size=0.2, random_state=42)\n",
    "X_train, X_val, y_train, y_val = train_test_split(X_train, y_train, test_size=0.2, random_state=42)\n",
    "\n",
    "# Split the data into training, validation, and test sets for features\n",
    "features_train, features_test, labels_train, labels_test = train_test_split(features, labels, test_size=0.2, random_state=42)\n",
    "features_train, features_val, labels_train, labels_val = train_test_split(features_train, labels_train, test_size=0.2, random_state=42)"
   ]
  },
  {
   "cell_type": "code",
   "execution_count": 183,
   "metadata": {},
   "outputs": [],
   "source": [
    "# Split the data into training, validation, and test sets for images and features\n",
    "X_train, X_test, y_train, y_test = train_test_split(image_data, labels_binary, test_size=0.2, random_state=42)\n",
    "X_train, X_val, y_train, y_val = train_test_split(X_train, y_train, test_size=0.2, random_state=42)\n",
    "\n",
    "features_train, features_test, labels_train, labels_test = train_test_split(features, labels_binary, test_size=0.2, random_state=42)\n",
    "features_train, features_val, labels_train, labels_val = train_test_split(features_train, labels_train, test_size=0.2, random_state=42)\n"
   ]
  },
  {
   "cell_type": "code",
   "execution_count": 34,
   "metadata": {},
   "outputs": [],
   "source": [
    "def printshape(val):\n",
    "    for v in val:\n",
    "        print(v.shape)"
   ]
  },
  {
   "cell_type": "code",
   "execution_count": null,
   "metadata": {},
   "outputs": [],
   "source": [
    "printshape([X_train, X_test, X_val])\n",
    "printshape([y_train, y_test, y_val])\n",
    "printshape([features_train, features_test, features_val])\n",
    "printshape([labels_train, labels_test, labels_val])"
   ]
  },
  {
   "cell_type": "code",
   "execution_count": 105,
   "metadata": {},
   "outputs": [],
   "source": [
    "# Define the input layers\n",
    "image_input = Input(shape=(224, 224, 1))\n",
    "feature_input = Input(shape=(2,))"
   ]
  },
  {
   "cell_type": "code",
   "execution_count": 274,
   "metadata": {},
   "outputs": [],
   "source": [
    "def create_model():\n",
    "    # Define the input layers\n",
    "    image_input = Input(shape=(64, 64, 1))\n",
    "    feature_input = Input(shape=(features.shape[1],))\n",
    "\n",
    "    # CNN for processing images\n",
    "    conv1 = Conv2D(16, (3, 3), padding='same', activation='relu')(image_input)\n",
    "    x = BatchNormalization()(conv1)\n",
    "    x = Dropout(0.2)(x)\n",
    "    maxpool1 = MaxPooling2D(pool_size=(2, 2))(x)\n",
    "    conv2 = Conv2D(32, (3, 3), padding='same', activation='relu')(maxpool1)\n",
    "    x = BatchNormalization()(conv2)\n",
    "    x = Dropout(0.2)(x)\n",
    "    maxpool2 = MaxPooling2D(pool_size=(2, 2))(x)\n",
    "    flatten = Flatten()(maxpool2)\n",
    "\n",
    "    # Dense network for processing features\n",
    "    dense1 = Dense(32, activation='relu')(feature_input)\n",
    "\n",
    "    # Combine the two networks\n",
    "    merged = Concatenate()([flatten, dense1])\n",
    "\n",
    "    # Fully connected layers\n",
    "    fc1 = Dense(32, activation='relu')(merged)\n",
    "    output = Dense(3, activation='softmax')(fc1)\n",
    "\n",
    "    # Create the model\n",
    "    model = keras.Model(inputs=[image_input, feature_input], outputs=output)\n",
    "\n",
    "    model.compile(optimizer=tf.keras.optimizers.SGD(learning_rate=1e-3), loss='categorical_crossentropy', metrics=['accuracy'])\n",
    "\n",
    "    return model\n"
   ]
  },
  {
   "cell_type": "code",
   "execution_count": null,
   "metadata": {},
   "outputs": [],
   "source": [
    "#Adam, SGD, RMSprop, Adagrad, Adadelta, Adamax, Nadam"
   ]
  },
  {
   "cell_type": "code",
   "execution_count": 280,
   "metadata": {},
   "outputs": [],
   "source": [
    "model = create_model()\n",
    "#model.summary()"
   ]
  },
  {
   "cell_type": "code",
   "execution_count": 281,
   "metadata": {},
   "outputs": [
    {
     "name": "stdout",
     "output_type": "stream",
     "text": [
      "Epoch 1/15\n",
      "94/94 [==============================] - 3s 20ms/step - loss: 1.1044 - accuracy: 0.4972 - val_loss: 1.0463 - val_accuracy: 0.4554\n",
      "Epoch 2/15\n",
      "94/94 [==============================] - 2s 17ms/step - loss: 0.9322 - accuracy: 0.5624 - val_loss: 1.2849 - val_accuracy: 0.4541\n",
      "Epoch 3/15\n",
      "94/94 [==============================] - 2s 17ms/step - loss: 0.9065 - accuracy: 0.5741 - val_loss: 1.3625 - val_accuracy: 0.4434\n",
      "Epoch 4/15\n",
      "94/94 [==============================] - 2s 16ms/step - loss: 0.8670 - accuracy: 0.5961 - val_loss: 1.1626 - val_accuracy: 0.5686\n",
      "Epoch 5/15\n",
      "94/94 [==============================] - 2s 17ms/step - loss: 0.8436 - accuracy: 0.6167 - val_loss: 1.0944 - val_accuracy: 0.5459\n",
      "Epoch 6/15\n",
      "94/94 [==============================] - 2s 17ms/step - loss: 0.8348 - accuracy: 0.6154 - val_loss: 1.0201 - val_accuracy: 0.5806\n",
      "Epoch 7/15\n",
      "94/94 [==============================] - 2s 17ms/step - loss: 0.8065 - accuracy: 0.6454 - val_loss: 0.9764 - val_accuracy: 0.5766\n",
      "Epoch 8/15\n",
      "94/94 [==============================] - 2s 17ms/step - loss: 0.7864 - accuracy: 0.6487 - val_loss: 0.9867 - val_accuracy: 0.5939\n",
      "Epoch 9/15\n",
      "94/94 [==============================] - 2s 16ms/step - loss: 0.7635 - accuracy: 0.6657 - val_loss: 0.9442 - val_accuracy: 0.6112\n",
      "Epoch 10/15\n",
      "94/94 [==============================] - 2s 17ms/step - loss: 0.7477 - accuracy: 0.6757 - val_loss: 0.9816 - val_accuracy: 0.6005\n",
      "Epoch 11/15\n",
      "94/94 [==============================] - 2s 17ms/step - loss: 0.7364 - accuracy: 0.6777 - val_loss: 0.9743 - val_accuracy: 0.5992\n",
      "Epoch 12/15\n",
      "94/94 [==============================] - 2s 17ms/step - loss: 0.7139 - accuracy: 0.6923 - val_loss: 0.9771 - val_accuracy: 0.6005\n",
      "Epoch 13/15\n",
      "94/94 [==============================] - 2s 17ms/step - loss: 0.7019 - accuracy: 0.7010 - val_loss: 0.9777 - val_accuracy: 0.5992\n",
      "Epoch 14/15\n",
      "94/94 [==============================] - 2s 16ms/step - loss: 0.6849 - accuracy: 0.7083 - val_loss: 0.9570 - val_accuracy: 0.6045\n",
      "Epoch 15/15\n",
      "94/94 [==============================] - 2s 17ms/step - loss: 0.6740 - accuracy: 0.7259 - val_loss: 0.9639 - val_accuracy: 0.5979\n"
     ]
    }
   ],
   "source": [
    "history = model.fit([X_train, features_train], y_train, epochs=15, batch_size=32, validation_data=([X_val, features_val], y_val))"
   ]
  },
  {
   "cell_type": "code",
   "execution_count": 200,
   "metadata": {},
   "outputs": [],
   "source": [
    "def showDetails(history):\n",
    "    plt.figure(figsize=(12, 4))\n",
    "    plt.subplot(1, 2, 1)\n",
    "    plt.plot(history.history['accuracy'], label='Training Accuracy')\n",
    "    plt.plot(history.history['val_accuracy'], label='Validation Accuracy')\n",
    "    plt.xlabel('Epochs')\n",
    "    plt.ylabel('Accuracy')\n",
    "    plt.legend()\n",
    "\n",
    "    plt.subplot(1, 2, 2)\n",
    "    plt.plot(history.history['loss'], label='Training Loss')\n",
    "    plt.plot(history.history['val_loss'], label='Validation Loss')\n",
    "    plt.xlabel('Epochs')\n",
    "    plt.ylabel('Loss')\n",
    "    plt.legend()\n",
    "\n",
    "    plt.show()"
   ]
  },
  {
   "cell_type": "code",
   "execution_count": 279,
   "metadata": {},
   "outputs": [
    {
     "data": {
      "image/png": "[encoded data removed]",
      "text/plain": [
       "<Figure size 1200x400 with 2 Axes>"
      ]
     },
     "metadata": {},
     "output_type": "display_data"
    }
   ],
   "source": [
    "showDetails(history)"
   ]
  },
  {
   "cell_type": "code",
   "execution_count": 251,
   "metadata": {},
   "outputs": [
    {
     "name": "stdout",
     "output_type": "stream",
     "text": [
      "30/30 [==============================] - 0s 9ms/step - loss: 2.6466 - accuracy: 0.4579\n",
      "Test accuracy: 0.4579339623451233\n"
     ]
    }
   ],
   "source": [
    "test_loss, test_accuracy = model.evaluate([X_test, features_test], y_test)\n",
    "print(f'Test accuracy: {test_accuracy}')"
   ]
  },
  {
   "cell_type": "code",
   "execution_count": 50,
   "metadata": {},
   "outputs": [
    {
     "name": "stdout",
     "output_type": "stream",
     "text": [
      "18/18 [==============================] - 0s 6ms/step\n"
     ]
    }
   ],
   "source": [
    "import numpy as np\n",
    "from sklearn.metrics import confusion_matrix, ConfusionMatrixDisplay\n",
    "import matplotlib.pyplot as plt\n",
    "\n",
    "# Assuming y_true and y_pred are your true and predicted labels\n",
    "# Get true labels\n",
    "y_true = y_test\n",
    "\n",
    "# Get predicted probabilities\n",
    "Y_pred = model.predict([X_test, features_test])\n",
    "\n",
    "# Get predicted class indices\n",
    "y_pred = np.argmax(Y_pred, axis=1)\n",
    "\n",
    "\n"
   ]
  },
  {
   "cell_type": "code",
   "execution_count": 56,
   "metadata": {},
   "outputs": [
    {
     "name": "stdout",
     "output_type": "stream",
     "text": [
      "[1. 0. 0.]\n"
     ]
    }
   ],
   "source": [
    "print(y_true[0])"
   ]
  },
  {
   "cell_type": "code",
   "execution_count": 1,
   "metadata": {},
   "outputs": [
    {
     "ename": "NameError",
     "evalue": "name 'confusion_matrix' is not defined",
     "output_type": "error",
     "traceback": [
      "\u001b[1;31m---------------------------------------------------------------------------\u001b[0m",
      "\u001b[1;31mNameError\u001b[0m                                 Traceback (most recent call last)",
      "\u001b[1;32md:\\rohit-ai-mesh-generation\\ai-mesh-generation\\notebooks\\upgraded-model.ipynb Cell 41\u001b[0m line \u001b[0;36m2\n\u001b[0;32m      <a href='vscode-notebook-cell:/d%3A/rohit-ai-mesh-generation/ai-mesh-generation/notebooks/upgraded-model.ipynb#Y130sZmlsZQ%3D%3D?line=0'>1</a>\u001b[0m \u001b[39m# Create confusion matrix\u001b[39;00m\n\u001b[1;32m----> <a href='vscode-notebook-cell:/d%3A/rohit-ai-mesh-generation/ai-mesh-generation/notebooks/upgraded-model.ipynb#Y130sZmlsZQ%3D%3D?line=1'>2</a>\u001b[0m cm \u001b[39m=\u001b[39m confusion_matrix(y_true, y_pred)\n\u001b[0;32m      <a href='vscode-notebook-cell:/d%3A/rohit-ai-mesh-generation/ai-mesh-generation/notebooks/upgraded-model.ipynb#Y130sZmlsZQ%3D%3D?line=3'>4</a>\u001b[0m \u001b[39m# Plot confusion matrix\u001b[39;00m\n\u001b[0;32m      <a href='vscode-notebook-cell:/d%3A/rohit-ai-mesh-generation/ai-mesh-generation/notebooks/upgraded-model.ipynb#Y130sZmlsZQ%3D%3D?line=4'>5</a>\u001b[0m disp \u001b[39m=\u001b[39m ConfusionMatrixDisplay(confusion_matrix\u001b[39m=\u001b[39mcm, display_labels\u001b[39m=\u001b[39m[\u001b[39m0\u001b[39m,\u001b[39m2\u001b[39m])\n",
      "\u001b[1;31mNameError\u001b[0m: name 'confusion_matrix' is not defined"
     ]
    }
   ],
   "source": [
    "# Create confusion matrix\n",
    "cm = confusion_matrix(y_true, y_pred)\n",
    "\n",
    "# Plot confusion matrix\n",
    "disp = ConfusionMatrixDisplay(confusion_matrix=cm, display_labels=[0,2])\n",
    "disp.plot(cmap='Blues', values_format='d')\n",
    "plt.show()"
   ]
  },
  {
   "cell_type": "code",
   "execution_count": 23,
   "metadata": {},
   "outputs": [],
   "source": [
    "from keras.utils import plot_model, model_to_dot\n",
    "\n",
    "# Assuming 'model' is your neural network model\n",
    "# plot_model(model, to_file='model_plot.png', show_shapes=True, show_layer_names=True)\n",
    "# Assuming 'model' is your neural network model\n",
    "dot = model_to_dot(model, show_shapes=True, show_layer_names=True)\n",
    "\n",
    "# Save the DOT file\n",
    "with open(\"functional_model.dot\", \"w\") as dot_file:\n",
    "    dot_file.write(dot.to_string())"
   ]
  },
  {
   "cell_type": "markdown",
   "metadata": {},
   "source": [
    "## Cross Entropy"
   ]
  },
  {
   "cell_type": "code",
   "execution_count": 21,
   "metadata": {},
   "outputs": [],
   "source": [
    "from sklearn.model_selection import StratifiedKFold, KFold"
   ]
  },
  {
   "cell_type": "code",
   "execution_count": 22,
   "metadata": {},
   "outputs": [],
   "source": [
    "kfold = KFold(n_splits=5, shuffle=True, random_state=42)"
   ]
  },
  {
   "cell_type": "code",
   "execution_count": 43,
   "metadata": {},
   "outputs": [
    {
     "ename": "InternalError",
     "evalue": "Failed copying input tensor from /job:localhost/replica:0/task:0/device:CPU:0 to /job:localhost/replica:0/task:0/device:GPU:0 in order to run _EagerConst: Dst tensor is not initialized.",
     "output_type": "error",
     "traceback": [
      "\u001b[1;31m---------------------------------------------------------------------------\u001b[0m",
      "\u001b[1;31mInternalError\u001b[0m                             Traceback (most recent call last)",
      "\u001b[1;32md:\\rohit-ai-mesh-generation\\ai-mesh-generation\\notebooks\\upgraded-model.ipynb Cell 31\u001b[0m line \u001b[0;36m1\n\u001b[0;32m     <a href='vscode-notebook-cell:/d%3A/rohit-ai-mesh-generation/ai-mesh-generation/notebooks/upgraded-model.ipynb#X51sZmlsZQ%3D%3D?line=10'>11</a>\u001b[0m model \u001b[39m=\u001b[39m create_model()\n\u001b[0;32m     <a href='vscode-notebook-cell:/d%3A/rohit-ai-mesh-generation/ai-mesh-generation/notebooks/upgraded-model.ipynb#X51sZmlsZQ%3D%3D?line=12'>13</a>\u001b[0m \u001b[39m# Train the model on the current fold\u001b[39;00m\n\u001b[1;32m---> <a href='vscode-notebook-cell:/d%3A/rohit-ai-mesh-generation/ai-mesh-generation/notebooks/upgraded-model.ipynb#X51sZmlsZQ%3D%3D?line=13'>14</a>\u001b[0m history \u001b[39m=\u001b[39m model\u001b[39m.\u001b[39;49mfit([X_train_fold, features_train_fold], y_train_fold, epochs\u001b[39m=\u001b[39;49m\u001b[39m10\u001b[39;49m, batch_size\u001b[39m=\u001b[39;49m\u001b[39m32\u001b[39;49m, validation_data\u001b[39m=\u001b[39;49m([X_val_fold, features_val_fold], y_val_fold))\n\u001b[0;32m     <a href='vscode-notebook-cell:/d%3A/rohit-ai-mesh-generation/ai-mesh-generation/notebooks/upgraded-model.ipynb#X51sZmlsZQ%3D%3D?line=14'>15</a>\u001b[0m \u001b[39m#model.fit([X_train, features_train], y_train, validation_data=([X_val, features_val], y_val), epochs=20)\u001b[39;00m\n\u001b[0;32m     <a href='vscode-notebook-cell:/d%3A/rohit-ai-mesh-generation/ai-mesh-generation/notebooks/upgraded-model.ipynb#X51sZmlsZQ%3D%3D?line=15'>16</a>\u001b[0m \n\u001b[0;32m     <a href='vscode-notebook-cell:/d%3A/rohit-ai-mesh-generation/ai-mesh-generation/notebooks/upgraded-model.ipynb#X51sZmlsZQ%3D%3D?line=16'>17</a>\u001b[0m \u001b[39m# Evaluate the model on the test set of the current fold\u001b[39;00m\n\u001b[0;32m     <a href='vscode-notebook-cell:/d%3A/rohit-ai-mesh-generation/ai-mesh-generation/notebooks/upgraded-model.ipynb#X51sZmlsZQ%3D%3D?line=17'>18</a>\u001b[0m test_loss, test_accuracy \u001b[39m=\u001b[39m model\u001b[39m.\u001b[39mevaluate([X_test, features_test], y_test)\n",
      "File \u001b[1;32md:\\rohit-ai-mesh-generation\\ai-mesh-generation\\venv\\lib\\site-packages\\keras\\utils\\traceback_utils.py:70\u001b[0m, in \u001b[0;36mfilter_traceback.<locals>.error_handler\u001b[1;34m(*args, **kwargs)\u001b[0m\n\u001b[0;32m     67\u001b[0m     filtered_tb \u001b[39m=\u001b[39m _process_traceback_frames(e\u001b[39m.\u001b[39m__traceback__)\n\u001b[0;32m     68\u001b[0m     \u001b[39m# To get the full stack trace, call:\u001b[39;00m\n\u001b[0;32m     69\u001b[0m     \u001b[39m# `tf.debugging.disable_traceback_filtering()`\u001b[39;00m\n\u001b[1;32m---> 70\u001b[0m     \u001b[39mraise\u001b[39;00m e\u001b[39m.\u001b[39mwith_traceback(filtered_tb) \u001b[39mfrom\u001b[39;00m \u001b[39mNone\u001b[39;00m\n\u001b[0;32m     71\u001b[0m \u001b[39mfinally\u001b[39;00m:\n\u001b[0;32m     72\u001b[0m     \u001b[39mdel\u001b[39;00m filtered_tb\n",
      "File \u001b[1;32m~\\AppData\\Roaming\\Python\\Python310\\site-packages\\tensorflow\\python\\framework\\constant_op.py:102\u001b[0m, in \u001b[0;36mconvert_to_eager_tensor\u001b[1;34m(value, ctx, dtype)\u001b[0m\n\u001b[0;32m    100\u001b[0m     dtype \u001b[39m=\u001b[39m dtypes\u001b[39m.\u001b[39mas_dtype(dtype)\u001b[39m.\u001b[39mas_datatype_enum\n\u001b[0;32m    101\u001b[0m ctx\u001b[39m.\u001b[39mensure_initialized()\n\u001b[1;32m--> 102\u001b[0m \u001b[39mreturn\u001b[39;00m ops\u001b[39m.\u001b[39;49mEagerTensor(value, ctx\u001b[39m.\u001b[39;49mdevice_name, dtype)\n",
      "\u001b[1;31mInternalError\u001b[0m: Failed copying input tensor from /job:localhost/replica:0/task:0/device:CPU:0 to /job:localhost/replica:0/task:0/device:GPU:0 in order to run _EagerConst: Dst tensor is not initialized."
     ]
    }
   ],
   "source": [
    "accuracy = []\n",
    "model_history = []\n",
    "for train_index, test_index in kfold.split(X_train, y_train):\n",
    "    X_train_fold, X_val_fold = X_train[train_index], X_train[test_index]\n",
    "    y_train_fold, y_val_fold = y_train[train_index], y_train[test_index]\n",
    "\n",
    "    features_train_fold, features_val_fold = features_train[train_index], features_train[test_index]\n",
    "    labels_train_fold, labels_val_fold = labels_train[train_index], labels_train[test_index]\n",
    "\n",
    "    # Create and compile your CNN model\n",
    "    model = create_model()\n",
    "\n",
    "    # Train the model on the current fold\n",
    "    history = model.fit([X_train_fold, features_train_fold], y_train_fold, epochs=10, batch_size=32, validation_data=([X_val_fold, features_val_fold], y_val_fold))\n",
    "    #model.fit([X_train, features_train], y_train, validation_data=([X_val, features_val], y_val), epochs=20)\n",
    "\n",
    "    # Evaluate the model on the test set of the current fold\n",
    "    test_loss, test_accuracy = model.evaluate([X_test, features_test], y_test)\n",
    "    print(f'Test accuracy for current fold: {test_accuracy}')\n",
    "    accuracy.append(test_accuracy)\n",
    "    model_history.append(history)"
   ]
  },
  {
   "cell_type": "code",
   "execution_count": 32,
   "metadata": {},
   "outputs": [
    {
     "name": "stdout",
     "output_type": "stream",
     "text": [
      "[0.5516507029533386, 0.5623003244400024, 0.5452609062194824, 0.5441959500312805, 0.5069222450256348]\n",
      "0.5420660257339478\n"
     ]
    }
   ],
   "source": [
    "print(accuracy)\n",
    "print(np.average(accuracy))"
   ]
  },
  {
   "cell_type": "code",
   "execution_count": 25,
   "metadata": {},
   "outputs": [],
   "source": [
    "def showDetails(history):\n",
    "    plt.figure(figsize=(12, 4))\n",
    "    plt.subplot(1, 2, 1)\n",
    "    plt.plot(history.history['accuracy'], label='Training Accuracy')\n",
    "    plt.plot(history.history['val_accuracy'], label='Validation Accuracy')\n",
    "    plt.xlabel('Epochs')\n",
    "    plt.ylabel('Accuracy')\n",
    "    plt.legend()\n",
    "\n",
    "    plt.subplot(1, 2, 2)\n",
    "    plt.plot(history.history['loss'], label='Training Loss')\n",
    "    plt.plot(history.history['val_loss'], label='Validation Loss')\n",
    "    plt.xlabel('Epochs')\n",
    "    plt.ylabel('Loss')\n",
    "    plt.legend()\n",
    "\n",
    "    plt.show()"
   ]
  },
  {
   "cell_type": "code",
   "execution_count": 33,
   "metadata": {},
   "outputs": [
    {
     "data": {
      "image/png": "[encoded data removed]",
      "text/plain": [
       "<Figure size 1200x400 with 2 Axes>"
      ]
     },
     "metadata": {},
     "output_type": "display_data"
    },
    {
     "data": {
      "image/png": "[encoded data removed]",
      "text/plain": [
       "<Figure size 1200x400 with 2 Axes>"
      ]
     },
     "metadata": {},
     "output_type": "display_data"
    },
    {
     "data": {
      "image/png": "[encoded data removed]",
      "text/plain": [
       "<Figure size 1200x400 with 2 Axes>"
      ]
     },
     "metadata": {},
     "output_type": "display_data"
    },
    {
     "data": {
      "image/png": "[encoded data removed]",
      "text/plain": [
       "<Figure size 1200x400 with 2 Axes>"
      ]
     },
     "metadata": {},
     "output_type": "display_data"
    },
    {
     "data": {
      "image/png": "[encoded data removed]",
      "text/plain": [
       "<Figure size 1200x400 with 2 Axes>"
      ]
     },
     "metadata": {},
     "output_type": "display_data"
    }
   ],
   "source": [
    "for history in model_history:\n",
    "    showDetails(history)"
   ]
  },
  {
   "cell_type": "markdown",
   "metadata": {},
   "source": [
    "## Hyper parameter tuning"
   ]
  },
  {
   "cell_type": "code",
   "execution_count": 44,
   "metadata": {},
   "outputs": [],
   "source": [
    "from sklearn.model_selection import GridSearchCV, RandomizedSearchCV\n",
    "from keras.wrappers.scikit_learn import KerasClassifier\n",
    "from scikeras.wrappers import KerasClassifier\n",
    "from tensorflow.keras.layers import Dropout, BatchNormalization"
   ]
  },
  {
   "cell_type": "code",
   "execution_count": 45,
   "metadata": {},
   "outputs": [],
   "source": [
    "def create_model_tuning(learning_rate = 0.001, num_layers=1, num_filters = 16):\n",
    "    # Define the input layers\n",
    "    #image_input, feature_input = inputs\n",
    "    image_input = Input(shape=(224, 224, 1))\n",
    "    feature_input = Input(shape=(noc,))\n",
    "\n",
    "    # CNN for processing images\n",
    "    # conv1 = Conv2D(16, (3, 3), activation='relu')(image_input)\n",
    "    # maxpool1 = MaxPooling2D(pool_size=(2, 2))(conv1)\n",
    "    # conv2 = Conv2D(16, (3, 3), activation='relu')(maxpool1)\n",
    "    # maxpool2 = MaxPooling2D(pool_size=(2, 2))(conv2)\n",
    "    # flatten = Flatten()(maxpool1)\n",
    "\n",
    "    x = image_input\n",
    "    for _ in range(num_layers):\n",
    "        x = Conv2D(num_filters, (3, 3), activation='relu')(x)\n",
    "        #x = BatchNormalization()(x)\n",
    "        #x = Dropout(0.4)(x)\n",
    "        x = MaxPooling2D(pool_size=(2, 2))(x)\n",
    "    flatten = Flatten()(x)\n",
    "\n",
    "    # Dense network for processing features\n",
    "    dense1 = Dense(num_filters, activation='relu')(feature_input)\n",
    "\n",
    "    # Combine the two networks\n",
    "    merged = Concatenate()([flatten, dense1])\n",
    "\n",
    "    # Fully connected layers\n",
    "    fc1 = Dense(32, activation='relu')(merged)\n",
    "    output = Dense(3, activation='softmax')(fc1)\n",
    "\n",
    "    # Create the model\n",
    "    model = keras.Model(inputs=[image_input, feature_input], outputs=output)\n",
    "\n",
    "    model.compile(optimizer=tf.keras.optimizers.Adam(learning_rate=learning_rate), loss='categorical_crossentropy', metrics=['accuracy'])\n",
    "\n",
    "    return model"
   ]
  },
  {
   "cell_type": "code",
   "execution_count": 46,
   "metadata": {},
   "outputs": [],
   "source": [
    "# Wrapper function for multiple inputs\n",
    "def create_cnn_model_wrapper(learning_rate=0.001, num_layers=3, num_filters=64):\n",
    "    # Assuming you have a function that creates your CNN model with multiple inputs\n",
    "    model = create_model_tuning(learning_rate=learning_rate, num_layers=num_layers, num_filters=num_filters)\n",
    "    return model"
   ]
  },
  {
   "cell_type": "code",
   "execution_count": 47,
   "metadata": {},
   "outputs": [
    {
     "name": "stdout",
     "output_type": "stream",
     "text": [
      "Model: \"model_22\"\n",
      "__________________________________________________________________________________________________\n",
      " Layer (type)                   Output Shape         Param #     Connected to                     \n",
      "==================================================================================================\n",
      " input_47 (InputLayer)          [(None, 224, 224, 1  0           []                               \n",
      "                                )]                                                                \n",
      "                                                                                                  \n",
      " conv2d_44 (Conv2D)             (None, 222, 222, 16  160         ['input_47[0][0]']               \n",
      "                                )                                                                 \n",
      "                                                                                                  \n",
      " max_pooling2d_44 (MaxPooling2D  (None, 111, 111, 16  0          ['conv2d_44[0][0]']              \n",
      " )                              )                                                                 \n",
      "                                                                                                  \n",
      " input_48 (InputLayer)          [(None, 3)]          0           []                               \n",
      "                                                                                                  \n",
      " flatten_22 (Flatten)           (None, 197136)       0           ['max_pooling2d_44[0][0]']       \n",
      "                                                                                                  \n",
      " dense_66 (Dense)               (None, 16)           64          ['input_48[0][0]']               \n",
      "                                                                                                  \n",
      " concatenate_22 (Concatenate)   (None, 197152)       0           ['flatten_22[0][0]',             \n",
      "                                                                  'dense_66[0][0]']               \n",
      "                                                                                                  \n",
      " dense_67 (Dense)               (None, 32)           6308896     ['concatenate_22[0][0]']         \n",
      "                                                                                                  \n",
      " dense_68 (Dense)               (None, 3)            99          ['dense_67[0][0]']               \n",
      "                                                                                                  \n",
      "==================================================================================================\n",
      "Total params: 6,309,219\n",
      "Trainable params: 6,309,219\n",
      "Non-trainable params: 0\n",
      "__________________________________________________________________________________________________\n"
     ]
    }
   ],
   "source": [
    "model = create_model_tuning()\n",
    "model.summary()"
   ]
  },
  {
   "cell_type": "code",
   "execution_count": 48,
   "metadata": {},
   "outputs": [],
   "source": [
    "cnn_model = KerasClassifier(build_fn=create_model_tuning, epochs=10, batch_size=32, verbose=0)\n",
    "\n",
    "param_grid = {\n",
    "    'learning_rate': [0.001, 0.01, 0.1],\n",
    "    'num_layers': [1, 2, 3],\n",
    "    'num_filters': [16, 32, 48]\n",
    "}\n",
    "\n",
    "#grid = GridSearchCV(estimator=cnn_model, param_grid=param_grid, cv=5, scoring='accuracy')\n",
    "random_search = RandomizedSearchCV(estimator=cnn_model, param_distributions=param_grid, n_iter=10, cv=5)"
   ]
  },
  {
   "cell_type": "code",
   "execution_count": 99,
   "metadata": {},
   "outputs": [
    {
     "name": "stdout",
     "output_type": "stream",
     "text": [
      "X_train :  (4899, 224, 224, 1)\n",
      "features_train :  (4899, 3)\n",
      "y_train :  (4899, 3)\n"
     ]
    }
   ],
   "source": [
    "print('X_train : ', X_train.shape)\n",
    "print('features_train : ', features_train.shape)\n",
    "print('y_train : ', y_train.shape)"
   ]
  },
  {
   "cell_type": "code",
   "execution_count": null,
   "metadata": {},
   "outputs": [],
   "source": [
    "#combined_X_train = np.stack([X_train, features_train], axis=-1)\n",
    "#grid_result = grid.fit(combined_X_train, y_train)\n",
    "grid_result = grid.fit([X_train, features_train], y_train)"
   ]
  },
  {
   "cell_type": "code",
   "execution_count": null,
   "metadata": {},
   "outputs": [],
   "source": [
    "random_search_result = random_search.fit([X_train, features_train], y_train)"
   ]
  },
  {
   "cell_type": "markdown",
   "metadata": {},
   "source": [
    "## Optuna"
   ]
  },
  {
   "cell_type": "code",
   "execution_count": 11,
   "metadata": {},
   "outputs": [],
   "source": [
    "def create_model_optuna(trial, noc, learning_rate, num_filters, num_layers, batch_norm, drop_out=0):\n",
    "\n",
    "    # Define the input layers\n",
    "    #image_input, feature_input = inputs\n",
    "    image_input = Input(shape=(64, 64, 1))\n",
    "    feature_input = Input(shape=(noc,))\n",
    "\n",
    "\n",
    "    x = image_input\n",
    "    for _ in range(num_layers):\n",
    "        x = Conv2D(num_filters, (3, 3), activation='relu')(x)\n",
    "        if batch_norm:\n",
    "            x = BatchNormalization()(x)\n",
    "        if drop_out > 0:\n",
    "            x = Dropout(drop_out)(x)\n",
    "        x = MaxPooling2D(pool_size=(2, 2))(x)\n",
    "    flatten = Flatten()(x)\n",
    "\n",
    "    # Dense network for processing features\n",
    "    dense1 = Dense(num_filters, activation='relu')(feature_input)\n",
    "\n",
    "    # Combine the two networks\n",
    "    merged = Concatenate()([flatten, dense1])\n",
    "\n",
    "    # Fully connected layers\n",
    "    fc1 = Dense(64, activation='relu')(merged)\n",
    "    output = Dense(3, activation='softmax')(fc1)\n",
    "\n",
    "    # Create the model\n",
    "    model = keras.Model(inputs=[image_input, feature_input], outputs=output)\n",
    "\n",
    "    #model.compile(optimizer=tf.keras.optimizers.Adam(learning_rate=learning_rate), loss='categorical_crossentropy', metrics=['accuracy'])\n",
    "\n",
    "    return model"
   ]
  },
  {
   "cell_type": "code",
   "execution_count": 12,
   "metadata": {},
   "outputs": [],
   "source": [
    "import optuna\n",
    "from tensorflow.keras.optimizers import Adam, SGD, RMSprop, Adagrad, Adadelta, Adamax, Nadam"
   ]
  },
  {
   "cell_type": "code",
   "execution_count": 15,
   "metadata": {},
   "outputs": [],
   "source": [
    "def get_optimizer(name, learning_rate):\n",
    "    if name == 'adam':\n",
    "        return Adam(learning_rate=learning_rate)\n",
    "    elif name == 'sgd':\n",
    "        return SGD(learning_rate=learning_rate)\n",
    "    elif name == 'rmsprop':\n",
    "        return RMSprop(learning_rate=learning_rate)\n",
    "    elif name == 'adagrad':\n",
    "        return Adagrad(learning_rate=learning_rate)\n",
    "    elif name == 'adadelta':\n",
    "        return Adadelta(learning_rate=learning_rate)\n",
    "    elif name == 'adamax':\n",
    "        return Adamax(learning_rate=learning_rate)\n",
    "    elif name == 'nadam':\n",
    "        return Nadam(learning_rate=learning_rate)\n",
    "    else:\n",
    "        raise ValueError(f\"Unknown optimizer: {name}\")"
   ]
  },
  {
   "cell_type": "code",
   "execution_count": 13,
   "metadata": {},
   "outputs": [],
   "source": [
    "def objective(trial):\n",
    "    image_shape = (224, 224, 1)  # Adjust based on your image dimensions\n",
    "    noc = 3  # Number of features\n",
    "\n",
    "    learning_rate = trial.suggest_categorical('learning_rate', [0.001, 0.01, 0.1])\n",
    "    num_filters = trial.suggest_categorical('num_filters', [16, 32])\n",
    "    num_layers = trial.suggest_int('num_layers', 1, 2, log=True)\n",
    "    batch_size = trial.suggest_categorical('batch_size', [16, 32, 64])\n",
    "    epochs = trial.suggest_categorical('epochs', [10, 15, 20])\n",
    "    optimizer_name = trial.suggest_categorical('optimizer', ['adam', 'sgd', 'rmsprop', 'adagrad', 'adadelta', 'adamax', 'nadam'])\n",
    "    batch_norm = trial.suggest_categorical('batch_norm', [True, False])\n",
    "    drop_out = trial.suggest_categorical('drop_out', [0.1, 0.2, 0.3])\n",
    "\n",
    "\n",
    "    model = create_model_optuna(trial, noc, learning_rate, num_filters, num_layers, batch_norm, drop_out=drop_out)\n",
    "\n",
    "    optimizer = get_optimizer(optimizer_name, learning_rate)\n",
    "    model.compile(optimizer=optimizer, loss='categorical_crossentropy', metrics=['accuracy'])\n",
    "\n",
    "    # Split the data into training and validation sets\n",
    "    X_train, X_val, features_train, features_val, y_train, y_val = train_test_split(\n",
    "        image_data, features, labels, test_size=0.2, random_state=0\n",
    "    )\n",
    "\n",
    "    # Train the model\n",
    "    history = model.fit(\n",
    "        [X_train, features_train], y_train,\n",
    "        validation_data=([X_val, features_val], y_val),\n",
    "        epochs=epochs, batch_size=batch_size, verbose=0\n",
    "    )\n",
    "\n",
    "    # Return the validation accuracy for Optuna to optimize\n",
    "    return history.history['val_accuracy'][-1]"
   ]
  },
  {
   "cell_type": "code",
   "execution_count": 16,
   "metadata": {},
   "outputs": [
    {
     "name": "stderr",
     "output_type": "stream",
     "text": [
      "[I 2024-01-19 03:09:56,822] A new study created in memory with name: no-name-126ac04b-7585-49e9-9920-751dd9ad05ec\n",
      "[I 2024-01-19 03:10:11,894] Trial 0 finished with value: 0.530351459980011 and parameters: {'learning_rate': 0.001, 'num_filters': 16, 'num_layers': 2, 'batch_size': 64, 'epochs': 15, 'optimizer': 'sgd', 'batch_norm': False, 'drop_out': 0.3}. Best is trial 0 with value: 0.530351459980011.\n",
      "[I 2024-01-19 03:10:23,532] Trial 1 finished with value: 0.5644302368164062 and parameters: {'learning_rate': 0.01, 'num_filters': 32, 'num_layers': 1, 'batch_size': 64, 'epochs': 15, 'optimizer': 'adadelta', 'batch_norm': False, 'drop_out': 0.1}. Best is trial 1 with value: 0.5644302368164062.\n",
      "[I 2024-01-19 03:10:37,324] Trial 2 finished with value: 0.35463258624076843 and parameters: {'learning_rate': 0.1, 'num_filters': 16, 'num_layers': 1, 'batch_size': 32, 'epochs': 10, 'optimizer': 'adam', 'batch_norm': True, 'drop_out': 0.2}. Best is trial 1 with value: 0.5644302368164062.\n",
      "[I 2024-01-19 03:11:05,394] Trial 3 finished with value: 0.6006389856338501 and parameters: {'learning_rate': 0.001, 'num_filters': 16, 'num_layers': 1, 'batch_size': 16, 'epochs': 10, 'optimizer': 'rmsprop', 'batch_norm': True, 'drop_out': 0.2}. Best is trial 3 with value: 0.6006389856338501.\n",
      "[I 2024-01-19 03:11:19,433] Trial 4 finished with value: 0.4100106358528137 and parameters: {'learning_rate': 0.001, 'num_filters': 16, 'num_layers': 2, 'batch_size': 64, 'epochs': 15, 'optimizer': 'adadelta', 'batch_norm': True, 'drop_out': 0.3}. Best is trial 3 with value: 0.6006389856338501.\n",
      "[I 2024-01-19 03:11:43,321] Trial 5 finished with value: 0.5665601491928101 and parameters: {'learning_rate': 0.1, 'num_filters': 32, 'num_layers': 1, 'batch_size': 16, 'epochs': 10, 'optimizer': 'adamax', 'batch_norm': False, 'drop_out': 0.3}. Best is trial 3 with value: 0.6006389856338501.\n",
      "[I 2024-01-19 03:12:10,599] Trial 6 finished with value: 0.618743360042572 and parameters: {'learning_rate': 0.01, 'num_filters': 16, 'num_layers': 2, 'batch_size': 16, 'epochs': 10, 'optimizer': 'adamax', 'batch_norm': False, 'drop_out': 0.1}. Best is trial 6 with value: 0.618743360042572.\n",
      "[I 2024-01-19 03:12:24,721] Trial 7 finished with value: 0.6006389856338501 and parameters: {'learning_rate': 0.1, 'num_filters': 32, 'num_layers': 1, 'batch_size': 64, 'epochs': 20, 'optimizer': 'sgd', 'batch_norm': False, 'drop_out': 0.3}. Best is trial 6 with value: 0.618743360042572.\n",
      "[I 2024-01-19 03:12:57,635] Trial 8 finished with value: 0.5431309938430786 and parameters: {'learning_rate': 0.1, 'num_filters': 32, 'num_layers': 2, 'batch_size': 32, 'epochs': 20, 'optimizer': 'rmsprop', 'batch_norm': False, 'drop_out': 0.2}. Best is trial 6 with value: 0.618743360042572.\n",
      "[I 2024-01-19 03:13:19,029] Trial 9 finished with value: 0.6006389856338501 and parameters: {'learning_rate': 0.01, 'num_filters': 16, 'num_layers': 1, 'batch_size': 32, 'epochs': 15, 'optimizer': 'rmsprop', 'batch_norm': False, 'drop_out': 0.3}. Best is trial 6 with value: 0.618743360042572.\n",
      "[I 2024-01-19 03:13:48,658] Trial 10 finished with value: 0.5644302368164062 and parameters: {'learning_rate': 0.01, 'num_filters': 16, 'num_layers': 2, 'batch_size': 16, 'epochs': 10, 'optimizer': 'adamax', 'batch_norm': True, 'drop_out': 0.1}. Best is trial 6 with value: 0.618743360042572.\n",
      "[I 2024-01-19 03:14:16,984] Trial 11 finished with value: 0.5452609062194824 and parameters: {'learning_rate': 0.001, 'num_filters': 16, 'num_layers': 2, 'batch_size': 16, 'epochs': 10, 'optimizer': 'adagrad', 'batch_norm': True, 'drop_out': 0.2}. Best is trial 6 with value: 0.618743360042572.\n",
      "[I 2024-01-19 03:14:51,293] Trial 12 finished with value: 0.5782747864723206 and parameters: {'learning_rate': 0.001, 'num_filters': 16, 'num_layers': 1, 'batch_size': 16, 'epochs': 10, 'optimizer': 'nadam', 'batch_norm': True, 'drop_out': 0.1}. Best is trial 6 with value: 0.618743360042572.\n",
      "[I 2024-01-19 03:15:25,075] Trial 13 finished with value: 0.5399361252784729 and parameters: {'learning_rate': 0.01, 'num_filters': 16, 'num_layers': 2, 'batch_size': 16, 'epochs': 10, 'optimizer': 'rmsprop', 'batch_norm': True, 'drop_out': 0.1}. Best is trial 6 with value: 0.618743360042572.\n",
      "[I 2024-01-19 03:15:48,723] Trial 14 finished with value: 0.6144834756851196 and parameters: {'learning_rate': 0.001, 'num_filters': 16, 'num_layers': 1, 'batch_size': 16, 'epochs': 10, 'optimizer': 'adamax', 'batch_norm': False, 'drop_out': 0.2}. Best is trial 6 with value: 0.618743360042572.\n",
      "[I 2024-01-19 03:16:16,064] Trial 15 finished with value: 0.6123535633087158 and parameters: {'learning_rate': 0.01, 'num_filters': 16, 'num_layers': 2, 'batch_size': 16, 'epochs': 10, 'optimizer': 'adamax', 'batch_norm': False, 'drop_out': 0.1}. Best is trial 6 with value: 0.618743360042572.\n",
      "[I 2024-01-19 03:17:02,429] Trial 16 finished with value: 0.5867944359779358 and parameters: {'learning_rate': 0.01, 'num_filters': 16, 'num_layers': 1, 'batch_size': 16, 'epochs': 20, 'optimizer': 'adamax', 'batch_norm': False, 'drop_out': 0.2}. Best is trial 6 with value: 0.618743360042572.\n",
      "[I 2024-01-19 03:17:29,619] Trial 17 finished with value: 0.6230031847953796 and parameters: {'learning_rate': 0.001, 'num_filters': 16, 'num_layers': 2, 'batch_size': 16, 'epochs': 10, 'optimizer': 'adamax', 'batch_norm': False, 'drop_out': 0.2}. Best is trial 17 with value: 0.6230031847953796.\n",
      "[I 2024-01-19 03:17:56,576] Trial 18 finished with value: 0.6230031847953796 and parameters: {'learning_rate': 0.01, 'num_filters': 32, 'num_layers': 2, 'batch_size': 16, 'epochs': 10, 'optimizer': 'adagrad', 'batch_norm': False, 'drop_out': 0.1}. Best is trial 17 with value: 0.6230031847953796.\n",
      "[I 2024-01-19 03:18:25,462] Trial 19 finished with value: 0.5708200335502625 and parameters: {'learning_rate': 0.001, 'num_filters': 32, 'num_layers': 2, 'batch_size': 32, 'epochs': 20, 'optimizer': 'adagrad', 'batch_norm': False, 'drop_out': 0.1}. Best is trial 17 with value: 0.6230031847953796.\n",
      "[I 2024-01-19 03:18:52,236] Trial 20 finished with value: 0.5644302368164062 and parameters: {'learning_rate': 0.001, 'num_filters': 32, 'num_layers': 2, 'batch_size': 16, 'epochs': 10, 'optimizer': 'adagrad', 'batch_norm': False, 'drop_out': 0.2}. Best is trial 17 with value: 0.6230031847953796.\n",
      "[I 2024-01-19 03:19:19,224] Trial 21 finished with value: 0.593184232711792 and parameters: {'learning_rate': 0.01, 'num_filters': 32, 'num_layers': 2, 'batch_size': 16, 'epochs': 10, 'optimizer': 'adam', 'batch_norm': False, 'drop_out': 0.1}. Best is trial 17 with value: 0.6230031847953796.\n",
      "[I 2024-01-19 03:19:55,802] Trial 22 finished with value: 0.6251330971717834 and parameters: {'learning_rate': 0.01, 'num_filters': 32, 'num_layers': 2, 'batch_size': 16, 'epochs': 10, 'optimizer': 'nadam', 'batch_norm': False, 'drop_out': 0.1}. Best is trial 22 with value: 0.6251330971717834.\n",
      "[I 2024-01-19 03:20:31,124] Trial 23 finished with value: 0.6176784038543701 and parameters: {'learning_rate': 0.01, 'num_filters': 32, 'num_layers': 2, 'batch_size': 16, 'epochs': 10, 'optimizer': 'nadam', 'batch_norm': False, 'drop_out': 0.1}. Best is trial 22 with value: 0.6251330971717834.\n",
      "[I 2024-01-19 03:20:57,730] Trial 24 finished with value: 0.6112886071205139 and parameters: {'learning_rate': 0.01, 'num_filters': 32, 'num_layers': 2, 'batch_size': 16, 'epochs': 10, 'optimizer': 'adagrad', 'batch_norm': False, 'drop_out': 0.1}. Best is trial 22 with value: 0.6251330971717834.\n",
      "[I 2024-01-19 03:21:33,018] Trial 25 finished with value: 0.6283280253410339 and parameters: {'learning_rate': 0.01, 'num_filters': 32, 'num_layers': 2, 'batch_size': 16, 'epochs': 10, 'optimizer': 'nadam', 'batch_norm': False, 'drop_out': 0.1}. Best is trial 25 with value: 0.6283280253410339.\n",
      "[I 2024-01-19 03:22:08,858] Trial 26 finished with value: 0.6304579377174377 and parameters: {'learning_rate': 0.01, 'num_filters': 32, 'num_layers': 2, 'batch_size': 16, 'epochs': 10, 'optimizer': 'nadam', 'batch_norm': False, 'drop_out': 0.2}. Best is trial 26 with value: 0.6304579377174377.\n",
      "[I 2024-01-19 03:22:44,202] Trial 27 finished with value: 0.5708200335502625 and parameters: {'learning_rate': 0.01, 'num_filters': 32, 'num_layers': 2, 'batch_size': 16, 'epochs': 10, 'optimizer': 'nadam', 'batch_norm': False, 'drop_out': 0.1}. Best is trial 26 with value: 0.6304579377174377.\n",
      "[I 2024-01-19 03:23:05,781] Trial 28 finished with value: 0.6261980533599854 and parameters: {'learning_rate': 0.01, 'num_filters': 32, 'num_layers': 2, 'batch_size': 64, 'epochs': 20, 'optimizer': 'nadam', 'batch_norm': False, 'drop_out': 0.1}. Best is trial 26 with value: 0.6304579377174377.\n",
      "[I 2024-01-19 03:23:27,255] Trial 29 finished with value: 0.6251330971717834 and parameters: {'learning_rate': 0.01, 'num_filters': 32, 'num_layers': 2, 'batch_size': 64, 'epochs': 20, 'optimizer': 'nadam', 'batch_norm': False, 'drop_out': 0.2}. Best is trial 26 with value: 0.6304579377174377.\n",
      "[I 2024-01-19 03:23:49,215] Trial 30 finished with value: 0.618743360042572 and parameters: {'learning_rate': 0.01, 'num_filters': 32, 'num_layers': 2, 'batch_size': 64, 'epochs': 20, 'optimizer': 'nadam', 'batch_norm': False, 'drop_out': 0.3}. Best is trial 26 with value: 0.6304579377174377.\n",
      "[I 2024-01-19 03:24:10,604] Trial 31 finished with value: 0.6059637665748596 and parameters: {'learning_rate': 0.01, 'num_filters': 32, 'num_layers': 2, 'batch_size': 64, 'epochs': 20, 'optimizer': 'nadam', 'batch_norm': False, 'drop_out': 0.1}. Best is trial 26 with value: 0.6304579377174377.\n",
      "[I 2024-01-19 03:24:27,203] Trial 32 finished with value: 0.6166134476661682 and parameters: {'learning_rate': 0.01, 'num_filters': 32, 'num_layers': 2, 'batch_size': 64, 'epochs': 15, 'optimizer': 'nadam', 'batch_norm': False, 'drop_out': 0.1}. Best is trial 26 with value: 0.6304579377174377.\n",
      "[I 2024-01-19 03:24:43,852] Trial 33 finished with value: 0.6176784038543701 and parameters: {'learning_rate': 0.01, 'num_filters': 32, 'num_layers': 2, 'batch_size': 64, 'epochs': 15, 'optimizer': 'nadam', 'batch_norm': False, 'drop_out': 0.1}. Best is trial 26 with value: 0.6304579377174377.\n",
      "[I 2024-01-19 03:25:21,020] Trial 34 finished with value: 0.5974441170692444 and parameters: {'learning_rate': 0.01, 'num_filters': 32, 'num_layers': 2, 'batch_size': 32, 'epochs': 20, 'optimizer': 'nadam', 'batch_norm': False, 'drop_out': 0.1}. Best is trial 26 with value: 0.6304579377174377.\n",
      "[I 2024-01-19 03:25:38,191] Trial 35 finished with value: 0.538871169090271 and parameters: {'learning_rate': 0.01, 'num_filters': 32, 'num_layers': 2, 'batch_size': 64, 'epochs': 20, 'optimizer': 'adadelta', 'batch_norm': False, 'drop_out': 0.1}. Best is trial 26 with value: 0.6304579377174377.\n",
      "[I 2024-01-19 03:25:50,764] Trial 36 finished with value: 0.6230031847953796 and parameters: {'learning_rate': 0.1, 'num_filters': 32, 'num_layers': 2, 'batch_size': 64, 'epochs': 15, 'optimizer': 'sgd', 'batch_norm': False, 'drop_out': 0.2}. Best is trial 26 with value: 0.6304579377174377.\n",
      "[I 2024-01-19 03:26:31,692] Trial 37 finished with value: 0.35782748460769653 and parameters: {'learning_rate': 0.01, 'num_filters': 32, 'num_layers': 2, 'batch_size': 16, 'epochs': 10, 'optimizer': 'nadam', 'batch_norm': True, 'drop_out': 0.1}. Best is trial 26 with value: 0.6304579377174377.\n",
      "[I 2024-01-19 03:26:46,908] Trial 38 finished with value: 0.49627262353897095 and parameters: {'learning_rate': 0.1, 'num_filters': 32, 'num_layers': 2, 'batch_size': 32, 'epochs': 10, 'optimizer': 'adam', 'batch_norm': False, 'drop_out': 0.3}. Best is trial 26 with value: 0.6304579377174377.\n",
      "[I 2024-01-19 03:27:22,499] Trial 39 finished with value: 0.5804046988487244 and parameters: {'learning_rate': 0.01, 'num_filters': 32, 'num_layers': 2, 'batch_size': 16, 'epochs': 10, 'optimizer': 'nadam', 'batch_norm': False, 'drop_out': 0.2}. Best is trial 26 with value: 0.6304579377174377.\n"
     ]
    },
    {
     "name": "stdout",
     "output_type": "stream",
     "text": [
      "Best trial:\n",
      "Accuracy: 0.6304579377174377\n",
      "Best hyperparameters: {'learning_rate': 0.01, 'num_filters': 32, 'num_layers': 2, 'batch_size': 16, 'epochs': 10, 'optimizer': 'nadam', 'batch_norm': False, 'drop_out': 0.2}\n"
     ]
    }
   ],
   "source": [
    "# with more hyper parameter\n",
    "# Create a study and optimize the objective function\n",
    "study = optuna.create_study(direction='maximize')\n",
    "study.optimize(objective, n_trials=40)\n",
    "\n",
    "# Print the best parameters found by Optuna\n",
    "print('Best trial:')\n",
    "trial = study.best_trial\n",
    "print('Accuracy: {}'.format(trial.value))\n",
    "print(\"Best hyperparameters: {}\".format(trial.params))"
   ]
  },
  {
   "cell_type": "code",
   "execution_count": 25,
   "metadata": {},
   "outputs": [
    {
     "data": {
      "application/vnd.plotly.v1+json": {
       "config": {
        "plotlyServerURL": "https://plot.ly",
        "staticPlot": true
       },
       "data": [
        {
         "mode": "markers",
         "name": "Objective Value",
         "type": "scatter",
         "x": [
          0,
          1,
          2,
          3,
          4,
          5,
          6,
          7,
          8,
          9,
          10,
          11,
          12,
          13,
          14,
          15,
          16,
          17,
          18,
          19,
          20,
          21,
          22,
          23,
          24,
          25,
          26,
          27,
          28,
          29,
          30,
          31,
          32,
          33,
          34,
          35,
          36,
          37,
          38,
          39
         ],
         "y": [
          0.530351459980011,
          0.5644302368164062,
          0.35463258624076843,
          0.6006389856338501,
          0.4100106358528137,
          0.5665601491928101,
          0.618743360042572,
          0.6006389856338501,
          0.5431309938430786,
          0.6006389856338501,
          0.5644302368164062,
          0.5452609062194824,
          0.5782747864723206,
          0.5399361252784729,
          0.6144834756851196,
          0.6123535633087158,
          0.5867944359779358,
          0.6230031847953796,
          0.6230031847953796,
          0.5708200335502625,
          0.5644302368164062,
          0.593184232711792,
          0.6251330971717834,
          0.6176784038543701,
          0.6112886071205139,
          0.6283280253410339,
          0.6304579377174377,
          0.5708200335502625,
          0.6261980533599854,
          0.6251330971717834,
          0.618743360042572,
          0.6059637665748596,
          0.6166134476661682,
          0.6176784038543701,
          0.5974441170692444,
          0.538871169090271,
          0.6230031847953796,
          0.35782748460769653,
          0.49627262353897095,
          0.5804046988487244
         ]
        },
        {
         "mode": "lines",
         "name": "Best Value",
         "type": "scatter",
         "x": [
          0,
          1,
          2,
          3,
          4,
          5,
          6,
          7,
          8,
          9,
          10,
          11,
          12,
          13,
          14,
          15,
          16,
          17,
          18,
          19,
          20,
          21,
          22,
          23,
          24,
          25,
          26,
          27,
          28,
          29,
          30,
          31,
          32,
          33,
          34,
          35,
          36,
          37,
          38,
          39
         ],
         "y": [
          0.530351459980011,
          0.5644302368164062,
          0.5644302368164062,
          0.6006389856338501,
          0.6006389856338501,
          0.6006389856338501,
          0.618743360042572,
          0.618743360042572,
          0.618743360042572,
          0.618743360042572,
          0.618743360042572,
          0.618743360042572,
          0.618743360042572,
          0.618743360042572,
          0.618743360042572,
          0.618743360042572,
          0.618743360042572,
          0.6230031847953796,
          0.6230031847953796,
          0.6230031847953796,
          0.6230031847953796,
          0.6230031847953796,
          0.6251330971717834,
          0.6251330971717834,
          0.6251330971717834,
          0.6283280253410339,
          0.6304579377174377,
          0.6304579377174377,
          0.6304579377174377,
          0.6304579377174377,
          0.6304579377174377,
          0.6304579377174377,
          0.6304579377174377,
          0.6304579377174377,
          0.6304579377174377,
          0.6304579377174377,
          0.6304579377174377,
          0.6304579377174377,
          0.6304579377174377,
          0.6304579377174377
         ]
        },
        {
         "marker": {
          "color": "#cccccc"
         },
         "mode": "markers",
         "name": "Infeasible Trial",
         "showlegend": false,
         "type": "scatter",
         "x": [],
         "y": []
        }
       ],
       "layout": {
        "font": {
         "size": 18
        },
        "height": 400,
        "template": {
         "data": {
          "bar": [
           {
            "error_x": {
             "color": "#2a3f5f"
            },
            "error_y": {
             "color": "#2a3f5f"
            },
            "marker": {
             "line": {
              "color": "#E5ECF6",
              "width": 0.5
             },
             "pattern": {
              "fillmode": "overlay",
              "size": 10,
              "solidity": 0.2
             }
            },
            "type": "bar"
           }
          ],
          "barpolar": [
           {
            "marker": {
             "line": {
              "color": "#E5ECF6",
              "width": 0.5
             },
             "pattern": {
              "fillmode": "overlay",
              "size": 10,
              "solidity": 0.2
             }
            },
            "type": "barpolar"
           }
          ],
          "carpet": [
           {
            "aaxis": {
             "endlinecolor": "#2a3f5f",
             "gridcolor": "white",
             "linecolor": "white",
             "minorgridcolor": "white",
             "startlinecolor": "#2a3f5f"
            },
            "baxis": {
             "endlinecolor": "#2a3f5f",
             "gridcolor": "white",
             "linecolor": "white",
             "minorgridcolor": "white",
             "startlinecolor": "#2a3f5f"
            },
            "type": "carpet"
           }
          ],
          "choropleth": [
           {
            "colorbar": {
             "outlinewidth": 0,
             "ticks": ""
            },
            "type": "choropleth"
           }
          ],
          "contour": [
           {
            "colorbar": {
             "outlinewidth": 0,
             "ticks": ""
            },
            "colorscale": [
             [
              0,
              "#0d0887"
             ],
             [
              0.1111111111111111,
              "#46039f"
             ],
             [
              0.2222222222222222,
              "#7201a8"
             ],
             [
              0.3333333333333333,
              "#9c179e"
             ],
             [
              0.4444444444444444,
              "#bd3786"
             ],
             [
              0.5555555555555556,
              "#d8576b"
             ],
             [
              0.6666666666666666,
              "#ed7953"
             ],
             [
              0.7777777777777778,
              "#fb9f3a"
             ],
             [
              0.8888888888888888,
              "#fdca26"
             ],
             [
              1,
              "#f0f921"
             ]
            ],
            "type": "contour"
           }
          ],
          "contourcarpet": [
           {
            "colorbar": {
             "outlinewidth": 0,
             "ticks": ""
            },
            "type": "contourcarpet"
           }
          ],
          "heatmap": [
           {
            "colorbar": {
             "outlinewidth": 0,
             "ticks": ""
            },
            "colorscale": [
             [
              0,
              "#0d0887"
             ],
             [
              0.1111111111111111,
              "#46039f"
             ],
             [
              0.2222222222222222,
              "#7201a8"
             ],
             [
              0.3333333333333333,
              "#9c179e"
             ],
             [
              0.4444444444444444,
              "#bd3786"
             ],
             [
              0.5555555555555556,
              "#d8576b"
             ],
             [
              0.6666666666666666,
              "#ed7953"
             ],
             [
              0.7777777777777778,
              "#fb9f3a"
             ],
             [
              0.8888888888888888,
              "#fdca26"
             ],
             [
              1,
              "#f0f921"
             ]
            ],
            "type": "heatmap"
           }
          ],
          "heatmapgl": [
           {
            "colorbar": {
             "outlinewidth": 0,
             "ticks": ""
            },
            "colorscale": [
             [
              0,
              "#0d0887"
             ],
             [
              0.1111111111111111,
              "#46039f"
             ],
             [
              0.2222222222222222,
              "#7201a8"
             ],
             [
              0.3333333333333333,
              "#9c179e"
             ],
             [
              0.4444444444444444,
              "#bd3786"
             ],
             [
              0.5555555555555556,
              "#d8576b"
             ],
             [
              0.6666666666666666,
              "#ed7953"
             ],
             [
              0.7777777777777778,
              "#fb9f3a"
             ],
             [
              0.8888888888888888,
              "#fdca26"
             ],
             [
              1,
              "#f0f921"
             ]
            ],
            "type": "heatmapgl"
           }
          ],
          "histogram": [
           {
            "marker": {
             "pattern": {
              "fillmode": "overlay",
              "size": 10,
              "solidity": 0.2
             }
            },
            "type": "histogram"
           }
          ],
          "histogram2d": [
           {
            "colorbar": {
             "outlinewidth": 0,
             "ticks": ""
            },
            "colorscale": [
             [
              0,
              "#0d0887"
             ],
             [
              0.1111111111111111,
              "#46039f"
             ],
             [
              0.2222222222222222,
              "#7201a8"
             ],
             [
              0.3333333333333333,
              "#9c179e"
             ],
             [
              0.4444444444444444,
              "#bd3786"
             ],
             [
              0.5555555555555556,
              "#d8576b"
             ],
             [
              0.6666666666666666,
              "#ed7953"
             ],
             [
              0.7777777777777778,
              "#fb9f3a"
             ],
             [
              0.8888888888888888,
              "#fdca26"
             ],
             [
              1,
              "#f0f921"
             ]
            ],
            "type": "histogram2d"
           }
          ],
          "histogram2dcontour": [
           {
            "colorbar": {
             "outlinewidth": 0,
             "ticks": ""
            },
            "colorscale": [
             [
              0,
              "#0d0887"
             ],
             [
              0.1111111111111111,
              "#46039f"
             ],
             [
              0.2222222222222222,
              "#7201a8"
             ],
             [
              0.3333333333333333,
              "#9c179e"
             ],
             [
              0.4444444444444444,
              "#bd3786"
             ],
             [
              0.5555555555555556,
              "#d8576b"
             ],
             [
              0.6666666666666666,
              "#ed7953"
             ],
             [
              0.7777777777777778,
              "#fb9f3a"
             ],
             [
              0.8888888888888888,
              "#fdca26"
             ],
             [
              1,
              "#f0f921"
             ]
            ],
            "type": "histogram2dcontour"
           }
          ],
          "mesh3d": [
           {
            "colorbar": {
             "outlinewidth": 0,
             "ticks": ""
            },
            "type": "mesh3d"
           }
          ],
          "parcoords": [
           {
            "line": {
             "colorbar": {
              "outlinewidth": 0,
              "ticks": ""
             }
            },
            "type": "parcoords"
           }
          ],
          "pie": [
           {
            "automargin": true,
            "type": "pie"
           }
          ],
          "scatter": [
           {
            "fillpattern": {
             "fillmode": "overlay",
             "size": 10,
             "solidity": 0.2
            },
            "type": "scatter"
           }
          ],
          "scatter3d": [
           {
            "line": {
             "colorbar": {
              "outlinewidth": 0,
              "ticks": ""
             }
            },
            "marker": {
             "colorbar": {
              "outlinewidth": 0,
              "ticks": ""
             }
            },
            "type": "scatter3d"
           }
          ],
          "scattercarpet": [
           {
            "marker": {
             "colorbar": {
              "outlinewidth": 0,
              "ticks": ""
             }
            },
            "type": "scattercarpet"
           }
          ],
          "scattergeo": [
           {
            "marker": {
             "colorbar": {
              "outlinewidth": 0,
              "ticks": ""
             }
            },
            "type": "scattergeo"
           }
          ],
          "scattergl": [
           {
            "marker": {
             "colorbar": {
              "outlinewidth": 0,
              "ticks": ""
             }
            },
            "type": "scattergl"
           }
          ],
          "scattermapbox": [
           {
            "marker": {
             "colorbar": {
              "outlinewidth": 0,
              "ticks": ""
             }
            },
            "type": "scattermapbox"
           }
          ],
          "scatterpolar": [
           {
            "marker": {
             "colorbar": {
              "outlinewidth": 0,
              "ticks": ""
             }
            },
            "type": "scatterpolar"
           }
          ],
          "scatterpolargl": [
           {
            "marker": {
             "colorbar": {
              "outlinewidth": 0,
              "ticks": ""
             }
            },
            "type": "scatterpolargl"
           }
          ],
          "scatterternary": [
           {
            "marker": {
             "colorbar": {
              "outlinewidth": 0,
              "ticks": ""
             }
            },
            "type": "scatterternary"
           }
          ],
          "surface": [
           {
            "colorbar": {
             "outlinewidth": 0,
             "ticks": ""
            },
            "colorscale": [
             [
              0,
              "#0d0887"
             ],
             [
              0.1111111111111111,
              "#46039f"
             ],
             [
              0.2222222222222222,
              "#7201a8"
             ],
             [
              0.3333333333333333,
              "#9c179e"
             ],
             [
              0.4444444444444444,
              "#bd3786"
             ],
             [
              0.5555555555555556,
              "#d8576b"
             ],
             [
              0.6666666666666666,
              "#ed7953"
             ],
             [
              0.7777777777777778,
              "#fb9f3a"
             ],
             [
              0.8888888888888888,
              "#fdca26"
             ],
             [
              1,
              "#f0f921"
             ]
            ],
            "type": "surface"
           }
          ],
          "table": [
           {
            "cells": {
             "fill": {
              "color": "#EBF0F8"
             },
             "line": {
              "color": "white"
             }
            },
            "header": {
             "fill": {
              "color": "#C8D4E3"
             },
             "line": {
              "color": "white"
             }
            },
            "type": "table"
           }
          ]
         },
         "layout": {
          "annotationdefaults": {
           "arrowcolor": "#2a3f5f",
           "arrowhead": 0,
           "arrowwidth": 1
          },
          "autotypenumbers": "strict",
          "coloraxis": {
           "colorbar": {
            "outlinewidth": 0,
            "ticks": ""
           }
          },
          "colorscale": {
           "diverging": [
            [
             0,
             "#8e0152"
            ],
            [
             0.1,
             "#c51b7d"
            ],
            [
             0.2,
             "#de77ae"
            ],
            [
             0.3,
             "#f1b6da"
            ],
            [
             0.4,
             "#fde0ef"
            ],
            [
             0.5,
             "#f7f7f7"
            ],
            [
             0.6,
             "#e6f5d0"
            ],
            [
             0.7,
             "#b8e186"
            ],
            [
             0.8,
             "#7fbc41"
            ],
            [
             0.9,
             "#4d9221"
            ],
            [
             1,
             "#276419"
            ]
           ],
           "sequential": [
            [
             0,
             "#0d0887"
            ],
            [
             0.1111111111111111,
             "#46039f"
            ],
            [
             0.2222222222222222,
             "#7201a8"
            ],
            [
             0.3333333333333333,
             "#9c179e"
            ],
            [
             0.4444444444444444,
             "#bd3786"
            ],
            [
             0.5555555555555556,
             "#d8576b"
            ],
            [
             0.6666666666666666,
             "#ed7953"
            ],
            [
             0.7777777777777778,
             "#fb9f3a"
            ],
            [
             0.8888888888888888,
             "#fdca26"
            ],
            [
             1,
             "#f0f921"
            ]
           ],
           "sequentialminus": [
            [
             0,
             "#0d0887"
            ],
            [
             0.1111111111111111,
             "#46039f"
            ],
            [
             0.2222222222222222,
             "#7201a8"
            ],
            [
             0.3333333333333333,
             "#9c179e"
            ],
            [
             0.4444444444444444,
             "#bd3786"
            ],
            [
             0.5555555555555556,
             "#d8576b"
            ],
            [
             0.6666666666666666,
             "#ed7953"
            ],
            [
             0.7777777777777778,
             "#fb9f3a"
            ],
            [
             0.8888888888888888,
             "#fdca26"
            ],
            [
             1,
             "#f0f921"
            ]
           ]
          },
          "colorway": [
           "#636efa",
           "#EF553B",
           "#00cc96",
           "#ab63fa",
           "#FFA15A",
           "#19d3f3",
           "#FF6692",
           "#B6E880",
           "#FF97FF",
           "#FECB52"
          ],
          "font": {
           "color": "#2a3f5f"
          },
          "geo": {
           "bgcolor": "white",
           "lakecolor": "white",
           "landcolor": "#E5ECF6",
           "showlakes": true,
           "showland": true,
           "subunitcolor": "white"
          },
          "hoverlabel": {
           "align": "left"
          },
          "hovermode": "closest",
          "mapbox": {
           "style": "light"
          },
          "paper_bgcolor": "white",
          "plot_bgcolor": "#E5ECF6",
          "polar": {
           "angularaxis": {
            "gridcolor": "white",
            "linecolor": "white",
            "ticks": ""
           },
           "bgcolor": "#E5ECF6",
           "radialaxis": {
            "gridcolor": "white",
            "linecolor": "white",
            "ticks": ""
           }
          },
          "scene": {
           "xaxis": {
            "backgroundcolor": "#E5ECF6",
            "gridcolor": "white",
            "gridwidth": 2,
            "linecolor": "white",
            "showbackground": true,
            "ticks": "",
            "zerolinecolor": "white"
           },
           "yaxis": {
            "backgroundcolor": "#E5ECF6",
            "gridcolor": "white",
            "gridwidth": 2,
            "linecolor": "white",
            "showbackground": true,
            "ticks": "",
            "zerolinecolor": "white"
           },
           "zaxis": {
            "backgroundcolor": "#E5ECF6",
            "gridcolor": "white",
            "gridwidth": 2,
            "linecolor": "white",
            "showbackground": true,
            "ticks": "",
            "zerolinecolor": "white"
           }
          },
          "shapedefaults": {
           "line": {
            "color": "#2a3f5f"
           }
          },
          "ternary": {
           "aaxis": {
            "gridcolor": "white",
            "linecolor": "white",
            "ticks": ""
           },
           "baxis": {
            "gridcolor": "white",
            "linecolor": "white",
            "ticks": ""
           },
           "bgcolor": "#E5ECF6",
           "caxis": {
            "gridcolor": "white",
            "linecolor": "white",
            "ticks": ""
           }
          },
          "title": {
           "x": 0.05
          },
          "xaxis": {
           "automargin": true,
           "gridcolor": "white",
           "linecolor": "white",
           "ticks": "",
           "title": {
            "standoff": 15
           },
           "zerolinecolor": "white",
           "zerolinewidth": 2
          },
          "yaxis": {
           "automargin": true,
           "gridcolor": "white",
           "linecolor": "white",
           "ticks": "",
           "title": {
            "standoff": 15
           },
           "zerolinecolor": "white",
           "zerolinewidth": 2
          }
         }
        },
        "title": {
         "text": "Optimization History Plot"
        },
        "width": 800,
        "xaxis": {
         "title": {
          "text": "Trial"
         }
        },
        "yaxis": {
         "title": {
          "text": "Objective Value"
         }
        }
       }
      }
     },
     "metadata": {},
     "output_type": "display_data"
    }
   ],
   "source": [
    "from optuna.visualization import plot_optimization_history\n",
    "\n",
    "plotly_config = {\"staticPlot\": True}\n",
    "\n",
    "#plt.figure(figsize=(12, 4))\n",
    "fig = plot_optimization_history(study)\n",
    "# Set the size of the figure\n",
    "fig.update_layout(width=800, height=400)\n",
    "\n",
    "# Set font size\n",
    "fig.update_layout(font=dict(size=18))\n",
    "fig.show(config=plotly_config)"
   ]
  },
  {
   "cell_type": "code",
   "execution_count": 26,
   "metadata": {},
   "outputs": [
    {
     "data": {
      "application/vnd.plotly.v1+json": {
       "config": {
        "plotlyServerURL": "https://plot.ly",
        "staticPlot": true
       },
       "data": [
        {
         "cliponaxis": false,
         "hovertemplate": [
          "epochs (CategoricalDistribution): 0.006875698124236428<extra></extra>",
          "num_layers (IntDistribution): 0.020264276532871734<extra></extra>",
          "learning_rate (CategoricalDistribution): 0.05331574023518761<extra></extra>",
          "drop_out (CategoricalDistribution): 0.05630628683739725<extra></extra>",
          "batch_size (CategoricalDistribution): 0.08204371837349549<extra></extra>",
          "num_filters (CategoricalDistribution): 0.0970859004218831<extra></extra>",
          "optimizer (CategoricalDistribution): 0.22300508704601826<extra></extra>",
          "batch_norm (CategoricalDistribution): 0.4611032924289102<extra></extra>"
         ],
         "name": "Objective Value",
         "orientation": "h",
         "text": [
          "<0.01",
          "0.02",
          "0.05",
          "0.06",
          "0.08",
          "0.10",
          "0.22",
          "0.46"
         ],
         "textposition": "outside",
         "type": "bar",
         "x": [
          0.006875698124236428,
          0.020264276532871734,
          0.05331574023518761,
          0.05630628683739725,
          0.08204371837349549,
          0.0970859004218831,
          0.22300508704601826,
          0.4611032924289102
         ],
         "y": [
          "epochs",
          "num_layers",
          "learning_rate",
          "drop_out",
          "batch_size",
          "num_filters",
          "optimizer",
          "batch_norm"
         ]
        }
       ],
       "layout": {
        "template": {
         "data": {
          "bar": [
           {
            "error_x": {
             "color": "#2a3f5f"
            },
            "error_y": {
             "color": "#2a3f5f"
            },
            "marker": {
             "line": {
              "color": "#E5ECF6",
              "width": 0.5
             },
             "pattern": {
              "fillmode": "overlay",
              "size": 10,
              "solidity": 0.2
             }
            },
            "type": "bar"
           }
          ],
          "barpolar": [
           {
            "marker": {
             "line": {
              "color": "#E5ECF6",
              "width": 0.5
             },
             "pattern": {
              "fillmode": "overlay",
              "size": 10,
              "solidity": 0.2
             }
            },
            "type": "barpolar"
           }
          ],
          "carpet": [
           {
            "aaxis": {
             "endlinecolor": "#2a3f5f",
             "gridcolor": "white",
             "linecolor": "white",
             "minorgridcolor": "white",
             "startlinecolor": "#2a3f5f"
            },
            "baxis": {
             "endlinecolor": "#2a3f5f",
             "gridcolor": "white",
             "linecolor": "white",
             "minorgridcolor": "white",
             "startlinecolor": "#2a3f5f"
            },
            "type": "carpet"
           }
          ],
          "choropleth": [
           {
            "colorbar": {
             "outlinewidth": 0,
             "ticks": ""
            },
            "type": "choropleth"
           }
          ],
          "contour": [
           {
            "colorbar": {
             "outlinewidth": 0,
             "ticks": ""
            },
            "colorscale": [
             [
              0,
              "#0d0887"
             ],
             [
              0.1111111111111111,
              "#46039f"
             ],
             [
              0.2222222222222222,
              "#7201a8"
             ],
             [
              0.3333333333333333,
              "#9c179e"
             ],
             [
              0.4444444444444444,
              "#bd3786"
             ],
             [
              0.5555555555555556,
              "#d8576b"
             ],
             [
              0.6666666666666666,
              "#ed7953"
             ],
             [
              0.7777777777777778,
              "#fb9f3a"
             ],
             [
              0.8888888888888888,
              "#fdca26"
             ],
             [
              1,
              "#f0f921"
             ]
            ],
            "type": "contour"
           }
          ],
          "contourcarpet": [
           {
            "colorbar": {
             "outlinewidth": 0,
             "ticks": ""
            },
            "type": "contourcarpet"
           }
          ],
          "heatmap": [
           {
            "colorbar": {
             "outlinewidth": 0,
             "ticks": ""
            },
            "colorscale": [
             [
              0,
              "#0d0887"
             ],
             [
              0.1111111111111111,
              "#46039f"
             ],
             [
              0.2222222222222222,
              "#7201a8"
             ],
             [
              0.3333333333333333,
              "#9c179e"
             ],
             [
              0.4444444444444444,
              "#bd3786"
             ],
             [
              0.5555555555555556,
              "#d8576b"
             ],
             [
              0.6666666666666666,
              "#ed7953"
             ],
             [
              0.7777777777777778,
              "#fb9f3a"
             ],
             [
              0.8888888888888888,
              "#fdca26"
             ],
             [
              1,
              "#f0f921"
             ]
            ],
            "type": "heatmap"
           }
          ],
          "heatmapgl": [
           {
            "colorbar": {
             "outlinewidth": 0,
             "ticks": ""
            },
            "colorscale": [
             [
              0,
              "#0d0887"
             ],
             [
              0.1111111111111111,
              "#46039f"
             ],
             [
              0.2222222222222222,
              "#7201a8"
             ],
             [
              0.3333333333333333,
              "#9c179e"
             ],
             [
              0.4444444444444444,
              "#bd3786"
             ],
             [
              0.5555555555555556,
              "#d8576b"
             ],
             [
              0.6666666666666666,
              "#ed7953"
             ],
             [
              0.7777777777777778,
              "#fb9f3a"
             ],
             [
              0.8888888888888888,
              "#fdca26"
             ],
             [
              1,
              "#f0f921"
             ]
            ],
            "type": "heatmapgl"
           }
          ],
          "histogram": [
           {
            "marker": {
             "pattern": {
              "fillmode": "overlay",
              "size": 10,
              "solidity": 0.2
             }
            },
            "type": "histogram"
           }
          ],
          "histogram2d": [
           {
            "colorbar": {
             "outlinewidth": 0,
             "ticks": ""
            },
            "colorscale": [
             [
              0,
              "#0d0887"
             ],
             [
              0.1111111111111111,
              "#46039f"
             ],
             [
              0.2222222222222222,
              "#7201a8"
             ],
             [
              0.3333333333333333,
              "#9c179e"
             ],
             [
              0.4444444444444444,
              "#bd3786"
             ],
             [
              0.5555555555555556,
              "#d8576b"
             ],
             [
              0.6666666666666666,
              "#ed7953"
             ],
             [
              0.7777777777777778,
              "#fb9f3a"
             ],
             [
              0.8888888888888888,
              "#fdca26"
             ],
             [
              1,
              "#f0f921"
             ]
            ],
            "type": "histogram2d"
           }
          ],
          "histogram2dcontour": [
           {
            "colorbar": {
             "outlinewidth": 0,
             "ticks": ""
            },
            "colorscale": [
             [
              0,
              "#0d0887"
             ],
             [
              0.1111111111111111,
              "#46039f"
             ],
             [
              0.2222222222222222,
              "#7201a8"
             ],
             [
              0.3333333333333333,
              "#9c179e"
             ],
             [
              0.4444444444444444,
              "#bd3786"
             ],
             [
              0.5555555555555556,
              "#d8576b"
             ],
             [
              0.6666666666666666,
              "#ed7953"
             ],
             [
              0.7777777777777778,
              "#fb9f3a"
             ],
             [
              0.8888888888888888,
              "#fdca26"
             ],
             [
              1,
              "#f0f921"
             ]
            ],
            "type": "histogram2dcontour"
           }
          ],
          "mesh3d": [
           {
            "colorbar": {
             "outlinewidth": 0,
             "ticks": ""
            },
            "type": "mesh3d"
           }
          ],
          "parcoords": [
           {
            "line": {
             "colorbar": {
              "outlinewidth": 0,
              "ticks": ""
             }
            },
            "type": "parcoords"
           }
          ],
          "pie": [
           {
            "automargin": true,
            "type": "pie"
           }
          ],
          "scatter": [
           {
            "fillpattern": {
             "fillmode": "overlay",
             "size": 10,
             "solidity": 0.2
            },
            "type": "scatter"
           }
          ],
          "scatter3d": [
           {
            "line": {
             "colorbar": {
              "outlinewidth": 0,
              "ticks": ""
             }
            },
            "marker": {
             "colorbar": {
              "outlinewidth": 0,
              "ticks": ""
             }
            },
            "type": "scatter3d"
           }
          ],
          "scattercarpet": [
           {
            "marker": {
             "colorbar": {
              "outlinewidth": 0,
              "ticks": ""
             }
            },
            "type": "scattercarpet"
           }
          ],
          "scattergeo": [
           {
            "marker": {
             "colorbar": {
              "outlinewidth": 0,
              "ticks": ""
             }
            },
            "type": "scattergeo"
           }
          ],
          "scattergl": [
           {
            "marker": {
             "colorbar": {
              "outlinewidth": 0,
              "ticks": ""
             }
            },
            "type": "scattergl"
           }
          ],
          "scattermapbox": [
           {
            "marker": {
             "colorbar": {
              "outlinewidth": 0,
              "ticks": ""
             }
            },
            "type": "scattermapbox"
           }
          ],
          "scatterpolar": [
           {
            "marker": {
             "colorbar": {
              "outlinewidth": 0,
              "ticks": ""
             }
            },
            "type": "scatterpolar"
           }
          ],
          "scatterpolargl": [
           {
            "marker": {
             "colorbar": {
              "outlinewidth": 0,
              "ticks": ""
             }
            },
            "type": "scatterpolargl"
           }
          ],
          "scatterternary": [
           {
            "marker": {
             "colorbar": {
              "outlinewidth": 0,
              "ticks": ""
             }
            },
            "type": "scatterternary"
           }
          ],
          "surface": [
           {
            "colorbar": {
             "outlinewidth": 0,
             "ticks": ""
            },
            "colorscale": [
             [
              0,
              "#0d0887"
             ],
             [
              0.1111111111111111,
              "#46039f"
             ],
             [
              0.2222222222222222,
              "#7201a8"
             ],
             [
              0.3333333333333333,
              "#9c179e"
             ],
             [
              0.4444444444444444,
              "#bd3786"
             ],
             [
              0.5555555555555556,
              "#d8576b"
             ],
             [
              0.6666666666666666,
              "#ed7953"
             ],
             [
              0.7777777777777778,
              "#fb9f3a"
             ],
             [
              0.8888888888888888,
              "#fdca26"
             ],
             [
              1,
              "#f0f921"
             ]
            ],
            "type": "surface"
           }
          ],
          "table": [
           {
            "cells": {
             "fill": {
              "color": "#EBF0F8"
             },
             "line": {
              "color": "white"
             }
            },
            "header": {
             "fill": {
              "color": "#C8D4E3"
             },
             "line": {
              "color": "white"
             }
            },
            "type": "table"
           }
          ]
         },
         "layout": {
          "annotationdefaults": {
           "arrowcolor": "#2a3f5f",
           "arrowhead": 0,
           "arrowwidth": 1
          },
          "autotypenumbers": "strict",
          "coloraxis": {
           "colorbar": {
            "outlinewidth": 0,
            "ticks": ""
           }
          },
          "colorscale": {
           "diverging": [
            [
             0,
             "#8e0152"
            ],
            [
             0.1,
             "#c51b7d"
            ],
            [
             0.2,
             "#de77ae"
            ],
            [
             0.3,
             "#f1b6da"
            ],
            [
             0.4,
             "#fde0ef"
            ],
            [
             0.5,
             "#f7f7f7"
            ],
            [
             0.6,
             "#e6f5d0"
            ],
            [
             0.7,
             "#b8e186"
            ],
            [
             0.8,
             "#7fbc41"
            ],
            [
             0.9,
             "#4d9221"
            ],
            [
             1,
             "#276419"
            ]
           ],
           "sequential": [
            [
             0,
             "#0d0887"
            ],
            [
             0.1111111111111111,
             "#46039f"
            ],
            [
             0.2222222222222222,
             "#7201a8"
            ],
            [
             0.3333333333333333,
             "#9c179e"
            ],
            [
             0.4444444444444444,
             "#bd3786"
            ],
            [
             0.5555555555555556,
             "#d8576b"
            ],
            [
             0.6666666666666666,
             "#ed7953"
            ],
            [
             0.7777777777777778,
             "#fb9f3a"
            ],
            [
             0.8888888888888888,
             "#fdca26"
            ],
            [
             1,
             "#f0f921"
            ]
           ],
           "sequentialminus": [
            [
             0,
             "#0d0887"
            ],
            [
             0.1111111111111111,
             "#46039f"
            ],
            [
             0.2222222222222222,
             "#7201a8"
            ],
            [
             0.3333333333333333,
             "#9c179e"
            ],
            [
             0.4444444444444444,
             "#bd3786"
            ],
            [
             0.5555555555555556,
             "#d8576b"
            ],
            [
             0.6666666666666666,
             "#ed7953"
            ],
            [
             0.7777777777777778,
             "#fb9f3a"
            ],
            [
             0.8888888888888888,
             "#fdca26"
            ],
            [
             1,
             "#f0f921"
            ]
           ]
          },
          "colorway": [
           "#636efa",
           "#EF553B",
           "#00cc96",
           "#ab63fa",
           "#FFA15A",
           "#19d3f3",
           "#FF6692",
           "#B6E880",
           "#FF97FF",
           "#FECB52"
          ],
          "font": {
           "color": "#2a3f5f"
          },
          "geo": {
           "bgcolor": "white",
           "lakecolor": "white",
           "landcolor": "#E5ECF6",
           "showlakes": true,
           "showland": true,
           "subunitcolor": "white"
          },
          "hoverlabel": {
           "align": "left"
          },
          "hovermode": "closest",
          "mapbox": {
           "style": "light"
          },
          "paper_bgcolor": "white",
          "plot_bgcolor": "#E5ECF6",
          "polar": {
           "angularaxis": {
            "gridcolor": "white",
            "linecolor": "white",
            "ticks": ""
           },
           "bgcolor": "#E5ECF6",
           "radialaxis": {
            "gridcolor": "white",
            "linecolor": "white",
            "ticks": ""
           }
          },
          "scene": {
           "xaxis": {
            "backgroundcolor": "#E5ECF6",
            "gridcolor": "white",
            "gridwidth": 2,
            "linecolor": "white",
            "showbackground": true,
            "ticks": "",
            "zerolinecolor": "white"
           },
           "yaxis": {
            "backgroundcolor": "#E5ECF6",
            "gridcolor": "white",
            "gridwidth": 2,
            "linecolor": "white",
            "showbackground": true,
            "ticks": "",
            "zerolinecolor": "white"
           },
           "zaxis": {
            "backgroundcolor": "#E5ECF6",
            "gridcolor": "white",
            "gridwidth": 2,
            "linecolor": "white",
            "showbackground": true,
            "ticks": "",
            "zerolinecolor": "white"
           }
          },
          "shapedefaults": {
           "line": {
            "color": "#2a3f5f"
           }
          },
          "ternary": {
           "aaxis": {
            "gridcolor": "white",
            "linecolor": "white",
            "ticks": ""
           },
           "baxis": {
            "gridcolor": "white",
            "linecolor": "white",
            "ticks": ""
           },
           "bgcolor": "#E5ECF6",
           "caxis": {
            "gridcolor": "white",
            "linecolor": "white",
            "ticks": ""
           }
          },
          "title": {
           "x": 0.05
          },
          "xaxis": {
           "automargin": true,
           "gridcolor": "white",
           "linecolor": "white",
           "ticks": "",
           "title": {
            "standoff": 15
           },
           "zerolinecolor": "white",
           "zerolinewidth": 2
          },
          "yaxis": {
           "automargin": true,
           "gridcolor": "white",
           "linecolor": "white",
           "ticks": "",
           "title": {
            "standoff": 15
           },
           "zerolinecolor": "white",
           "zerolinewidth": 2
          }
         }
        },
        "title": {
         "text": "Hyperparameter Importances"
        },
        "xaxis": {
         "title": {
          "text": "Hyperparameter Importance"
         }
        },
        "yaxis": {
         "title": {
          "text": "Hyperparameter"
         }
        }
       }
      }
     },
     "metadata": {},
     "output_type": "display_data"
    }
   ],
   "source": [
    "from optuna.visualization import plot_param_importances\n",
    "\n",
    "fig = plot_param_importances(study)\n",
    "fig.show(config=plotly_config)"
   ]
  },
  {
   "cell_type": "code",
   "execution_count": null,
   "metadata": {},
   "outputs": [],
   "source": []
  },
  {
   "cell_type": "code",
   "execution_count": 39,
   "metadata": {},
   "outputs": [
    {
     "name": "stderr",
     "output_type": "stream",
     "text": [
      "[I 2023-12-11 13:37:35,663] A new study created in memory with name: no-name-fd7337be-1209-4f48-87ce-b4b0ee63b1be\n",
      "[I 2023-12-11 13:37:59,477] Trial 0 finished with value: 0.7363265156745911 and parameters: {'learning_rate': 0.001, 'num_filters': 16, 'num_layers': 1}. Best is trial 0 with value: 0.7363265156745911.\n",
      "[I 2023-12-11 13:38:30,296] Trial 1 finished with value: 0.7477551102638245 and parameters: {'learning_rate': 0.001, 'num_filters': 32, 'num_layers': 2}. Best is trial 1 with value: 0.7477551102638245.\n",
      "[I 2023-12-11 13:38:57,265] Trial 2 finished with value: 0.7518367171287537 and parameters: {'learning_rate': 0.001, 'num_filters': 32, 'num_layers': 1}. Best is trial 2 with value: 0.7518367171287537.\n",
      "[I 2023-12-11 13:39:24,606] Trial 3 finished with value: 0.7591836452484131 and parameters: {'learning_rate': 0.1, 'num_filters': 32, 'num_layers': 1}. Best is trial 3 with value: 0.7591836452484131.\n",
      "[I 2023-12-11 13:39:51,684] Trial 4 finished with value: 0.7591836452484131 and parameters: {'learning_rate': 0.001, 'num_filters': 32, 'num_layers': 1}. Best is trial 3 with value: 0.7591836452484131.\n",
      "[I 2023-12-11 13:40:14,938] Trial 5 finished with value: 0.7673469185829163 and parameters: {'learning_rate': 0.01, 'num_filters': 16, 'num_layers': 1}. Best is trial 5 with value: 0.7673469185829163.\n",
      "[I 2023-12-11 13:40:43,704] Trial 6 finished with value: 0.746122419834137 and parameters: {'learning_rate': 0.001, 'num_filters': 32, 'num_layers': 1}. Best is trial 5 with value: 0.7673469185829163.\n",
      "[I 2023-12-11 13:41:10,442] Trial 7 finished with value: 0.4440816342830658 and parameters: {'learning_rate': 0.001, 'num_filters': 32, 'num_layers': 1}. Best is trial 5 with value: 0.7673469185829163.\n",
      "[I 2023-12-11 13:41:36,274] Trial 8 finished with value: 0.7314285635948181 and parameters: {'learning_rate': 0.01, 'num_filters': 16, 'num_layers': 2}. Best is trial 5 with value: 0.7673469185829163.\n",
      "[I 2023-12-11 13:42:03,096] Trial 9 finished with value: 0.7518367171287537 and parameters: {'learning_rate': 0.1, 'num_filters': 32, 'num_layers': 1}. Best is trial 5 with value: 0.7673469185829163.\n",
      "[I 2023-12-11 13:42:28,523] Trial 10 finished with value: 0.7387754917144775 and parameters: {'learning_rate': 0.01, 'num_filters': 16, 'num_layers': 2}. Best is trial 5 with value: 0.7673469185829163.\n",
      "[I 2023-12-11 13:42:51,899] Trial 11 finished with value: 0.7510204315185547 and parameters: {'learning_rate': 0.1, 'num_filters': 16, 'num_layers': 1}. Best is trial 5 with value: 0.7673469185829163.\n",
      "[I 2023-12-11 13:43:16,915] Trial 12 finished with value: 0.7567346692085266 and parameters: {'learning_rate': 0.1, 'num_filters': 16, 'num_layers': 2}. Best is trial 5 with value: 0.7673469185829163.\n",
      "[I 2023-12-11 13:43:39,539] Trial 13 finished with value: 0.740408182144165 and parameters: {'learning_rate': 0.01, 'num_filters': 16, 'num_layers': 1}. Best is trial 5 with value: 0.7673469185829163.\n",
      "[I 2023-12-11 13:44:07,818] Trial 14 finished with value: 0.7665306329727173 and parameters: {'learning_rate': 0.1, 'num_filters': 32, 'num_layers': 1}. Best is trial 5 with value: 0.7673469185829163.\n",
      "[I 2023-12-11 13:44:32,854] Trial 15 finished with value: 0.746122419834137 and parameters: {'learning_rate': 0.01, 'num_filters': 16, 'num_layers': 2}. Best is trial 5 with value: 0.7673469185829163.\n",
      "[I 2023-12-11 13:44:55,403] Trial 16 finished with value: 0.722449004650116 and parameters: {'learning_rate': 0.1, 'num_filters': 16, 'num_layers': 1}. Best is trial 5 with value: 0.7673469185829163.\n",
      "[I 2023-12-11 13:45:21,456] Trial 17 finished with value: 0.7428571581840515 and parameters: {'learning_rate': 0.01, 'num_filters': 32, 'num_layers': 1}. Best is trial 5 with value: 0.7673469185829163.\n",
      "[I 2023-12-11 13:45:47,585] Trial 18 finished with value: 0.7551020383834839 and parameters: {'learning_rate': 0.01, 'num_filters': 32, 'num_layers': 1}. Best is trial 5 with value: 0.7673469185829163.\n",
      "[I 2023-12-11 13:46:12,560] Trial 19 finished with value: 0.740408182144165 and parameters: {'learning_rate': 0.1, 'num_filters': 16, 'num_layers': 2}. Best is trial 5 with value: 0.7673469185829163.\n",
      "[I 2023-12-11 13:46:36,833] Trial 20 finished with value: 0.76816326379776 and parameters: {'learning_rate': 0.1, 'num_filters': 16, 'num_layers': 1}. Best is trial 20 with value: 0.76816326379776.\n",
      "[I 2023-12-11 13:46:58,518] Trial 21 finished with value: 0.741224467754364 and parameters: {'learning_rate': 0.1, 'num_filters': 16, 'num_layers': 1}. Best is trial 20 with value: 0.76816326379776.\n",
      "[I 2023-12-11 13:47:20,822] Trial 22 finished with value: 0.7591836452484131 and parameters: {'learning_rate': 0.1, 'num_filters': 16, 'num_layers': 1}. Best is trial 20 with value: 0.76816326379776.\n",
      "[I 2023-12-11 13:47:43,992] Trial 23 finished with value: 0.7551020383834839 and parameters: {'learning_rate': 0.1, 'num_filters': 16, 'num_layers': 1}. Best is trial 20 with value: 0.76816326379776.\n",
      "[I 2023-12-11 13:48:06,274] Trial 24 finished with value: 0.7510204315185547 and parameters: {'learning_rate': 0.1, 'num_filters': 16, 'num_layers': 1}. Best is trial 20 with value: 0.76816326379776.\n",
      "[I 2023-12-11 13:48:28,514] Trial 25 finished with value: 0.4514285624027252 and parameters: {'learning_rate': 0.01, 'num_filters': 16, 'num_layers': 1}. Best is trial 20 with value: 0.76816326379776.\n",
      "[I 2023-12-11 13:48:55,238] Trial 26 finished with value: 0.7485714554786682 and parameters: {'learning_rate': 0.1, 'num_filters': 32, 'num_layers': 1}. Best is trial 20 with value: 0.76816326379776.\n",
      "[I 2023-12-11 13:49:17,441] Trial 27 finished with value: 0.746122419834137 and parameters: {'learning_rate': 0.01, 'num_filters': 16, 'num_layers': 1}. Best is trial 20 with value: 0.76816326379776.\n",
      "[I 2023-12-11 13:49:44,969] Trial 28 finished with value: 0.7551020383834839 and parameters: {'learning_rate': 0.1, 'num_filters': 32, 'num_layers': 1}. Best is trial 20 with value: 0.76816326379776.\n",
      "[I 2023-12-11 13:50:08,310] Trial 29 finished with value: 0.7526530623435974 and parameters: {'learning_rate': 0.01, 'num_filters': 16, 'num_layers': 1}. Best is trial 20 with value: 0.76816326379776.\n"
     ]
    },
    {
     "name": "stdout",
     "output_type": "stream",
     "text": [
      "Best trial:\n",
      "Accuracy: 0.76816326379776\n",
      "Best hyperparameters: {'learning_rate': 0.1, 'num_filters': 16, 'num_layers': 1}\n"
     ]
    }
   ],
   "source": [
    "# with white images\n",
    "# Create a study and optimize the objective function\n",
    "study = optuna.create_study(direction='maximize')\n",
    "study.optimize(objective, n_trials=30)\n",
    "\n",
    "# Print the best parameters found by Optuna\n",
    "print('Best trial:')\n",
    "trial = study.best_trial\n",
    "print('Accuracy: {}'.format(trial.value))\n",
    "print(\"Best hyperparameters: {}\".format(trial.params))"
   ]
  },
  {
   "cell_type": "code",
   "execution_count": 23,
   "metadata": {},
   "outputs": [
    {
     "name": "stderr",
     "output_type": "stream",
     "text": [
      "[I 2023-12-11 13:02:16,900] A new study created in memory with name: no-name-bbcc3b3e-8bae-493c-9646-cf2acab3751a\n",
      "[I 2023-12-11 13:02:33,822] Trial 0 finished with value: 0.7273695468902588 and parameters: {'learning_rate': 0.01, 'num_filters': 16, 'num_layers': 1}. Best is trial 0 with value: 0.7273695468902588.\n",
      "[I 2023-12-11 13:02:54,236] Trial 1 finished with value: 0.7028753757476807 and parameters: {'learning_rate': 0.1, 'num_filters': 16, 'num_layers': 2}. Best is trial 0 with value: 0.7273695468902588.\n",
      "[I 2023-12-11 13:03:18,361] Trial 2 finished with value: 0.690095841884613 and parameters: {'learning_rate': 0.01, 'num_filters': 32, 'num_layers': 2}. Best is trial 0 with value: 0.7273695468902588.\n",
      "[I 2023-12-11 13:03:35,968] Trial 3 finished with value: 0.7188498377799988 and parameters: {'learning_rate': 0.001, 'num_filters': 16, 'num_layers': 1}. Best is trial 0 with value: 0.7273695468902588.\n",
      "[I 2023-12-11 13:03:59,827] Trial 4 finished with value: 0.6624068021774292 and parameters: {'learning_rate': 0.1, 'num_filters': 32, 'num_layers': 2}. Best is trial 0 with value: 0.7273695468902588.\n",
      "[I 2023-12-11 13:04:17,625] Trial 5 finished with value: 0.7092651724815369 and parameters: {'learning_rate': 0.1, 'num_filters': 16, 'num_layers': 1}. Best is trial 0 with value: 0.7273695468902588.\n",
      "[I 2023-12-11 13:04:37,703] Trial 6 finished with value: 0.673056423664093 and parameters: {'learning_rate': 0.001, 'num_filters': 16, 'num_layers': 2}. Best is trial 0 with value: 0.7273695468902588.\n",
      "[I 2023-12-11 13:04:55,730] Trial 7 finished with value: 0.7156549692153931 and parameters: {'learning_rate': 0.01, 'num_filters': 16, 'num_layers': 1}. Best is trial 0 with value: 0.7273695468902588.\n",
      "[I 2023-12-11 13:05:15,421] Trial 8 finished with value: 0.6879659295082092 and parameters: {'learning_rate': 0.1, 'num_filters': 16, 'num_layers': 2}. Best is trial 0 with value: 0.7273695468902588.\n",
      "[I 2023-12-11 13:05:36,572] Trial 9 finished with value: 0.7135249972343445 and parameters: {'learning_rate': 0.01, 'num_filters': 32, 'num_layers': 1}. Best is trial 0 with value: 0.7273695468902588.\n",
      "[I 2023-12-11 13:05:58,110] Trial 10 finished with value: 0.5804046988487244 and parameters: {'learning_rate': 0.01, 'num_filters': 32, 'num_layers': 1}. Best is trial 0 with value: 0.7273695468902588.\n",
      "[I 2023-12-11 13:06:17,107] Trial 11 finished with value: 0.7071352601051331 and parameters: {'learning_rate': 0.001, 'num_filters': 16, 'num_layers': 1}. Best is trial 0 with value: 0.7273695468902588.\n",
      "[I 2023-12-11 13:06:33,626] Trial 12 finished with value: 0.5835995674133301 and parameters: {'learning_rate': 0.001, 'num_filters': 16, 'num_layers': 1}. Best is trial 0 with value: 0.7273695468902588.\n",
      "[I 2023-12-11 13:06:51,977] Trial 13 finished with value: 0.5793397426605225 and parameters: {'learning_rate': 0.001, 'num_filters': 16, 'num_layers': 1}. Best is trial 0 with value: 0.7273695468902588.\n",
      "[I 2023-12-11 13:07:10,926] Trial 14 finished with value: 0.7209797501564026 and parameters: {'learning_rate': 0.01, 'num_filters': 16, 'num_layers': 1}. Best is trial 0 with value: 0.7273695468902588.\n",
      "[I 2023-12-11 13:07:29,629] Trial 15 finished with value: 0.5825346112251282 and parameters: {'learning_rate': 0.01, 'num_filters': 16, 'num_layers': 1}. Best is trial 0 with value: 0.7273695468902588.\n",
      "[I 2023-12-11 13:07:47,878] Trial 16 finished with value: 0.6538870930671692 and parameters: {'learning_rate': 0.01, 'num_filters': 16, 'num_layers': 1}. Best is trial 0 with value: 0.7273695468902588.\n",
      "[I 2023-12-11 13:08:06,138] Trial 17 finished with value: 0.5857294797897339 and parameters: {'learning_rate': 0.01, 'num_filters': 16, 'num_layers': 1}. Best is trial 0 with value: 0.7273695468902588.\n",
      "[I 2023-12-11 13:08:27,103] Trial 18 finished with value: 0.5804046988487244 and parameters: {'learning_rate': 0.01, 'num_filters': 32, 'num_layers': 1}. Best is trial 0 with value: 0.7273695468902588.\n",
      "[I 2023-12-11 13:08:47,365] Trial 19 finished with value: 0.6837060451507568 and parameters: {'learning_rate': 0.01, 'num_filters': 16, 'num_layers': 2}. Best is trial 0 with value: 0.7273695468902588.\n",
      "[I 2023-12-11 13:09:06,090] Trial 20 finished with value: 0.5857294797897339 and parameters: {'learning_rate': 0.01, 'num_filters': 16, 'num_layers': 1}. Best is trial 0 with value: 0.7273695468902588.\n",
      "[I 2023-12-11 13:09:24,257] Trial 21 finished with value: 0.6975505948066711 and parameters: {'learning_rate': 0.001, 'num_filters': 16, 'num_layers': 1}. Best is trial 0 with value: 0.7273695468902588.\n",
      "[I 2023-12-11 13:09:42,055] Trial 22 finished with value: 0.7454739212989807 and parameters: {'learning_rate': 0.001, 'num_filters': 16, 'num_layers': 1}. Best is trial 22 with value: 0.7454739212989807.\n",
      "[I 2023-12-11 13:09:59,393] Trial 23 finished with value: 0.7018104195594788 and parameters: {'learning_rate': 0.001, 'num_filters': 16, 'num_layers': 1}. Best is trial 22 with value: 0.7454739212989807.\n",
      "[I 2023-12-11 13:10:19,237] Trial 24 finished with value: 0.6826410889625549 and parameters: {'learning_rate': 0.01, 'num_filters': 16, 'num_layers': 1}. Best is trial 22 with value: 0.7454739212989807.\n",
      "[I 2023-12-11 13:10:36,666] Trial 25 finished with value: 0.7113950848579407 and parameters: {'learning_rate': 0.001, 'num_filters': 16, 'num_layers': 1}. Best is trial 22 with value: 0.7454739212989807.\n",
      "[I 2023-12-11 13:10:57,494] Trial 26 finished with value: 0.5814696550369263 and parameters: {'learning_rate': 0.01, 'num_filters': 32, 'num_layers': 1}. Best is trial 22 with value: 0.7454739212989807.\n",
      "[I 2023-12-11 13:11:16,225] Trial 27 finished with value: 0.6677316427230835 and parameters: {'learning_rate': 0.01, 'num_filters': 16, 'num_layers': 1}. Best is trial 22 with value: 0.7454739212989807.\n",
      "[I 2023-12-11 13:11:34,390] Trial 28 finished with value: 0.5793397426605225 and parameters: {'learning_rate': 0.1, 'num_filters': 16, 'num_layers': 1}. Best is trial 22 with value: 0.7454739212989807.\n",
      "[I 2023-12-11 13:11:54,433] Trial 29 finished with value: 0.6709265112876892 and parameters: {'learning_rate': 0.001, 'num_filters': 16, 'num_layers': 2}. Best is trial 22 with value: 0.7454739212989807.\n",
      "[I 2023-12-11 13:12:12,942] Trial 30 finished with value: 0.7124600410461426 and parameters: {'learning_rate': 0.1, 'num_filters': 16, 'num_layers': 1}. Best is trial 22 with value: 0.7454739212989807.\n",
      "[I 2023-12-11 13:12:30,478] Trial 31 finished with value: 0.716719925403595 and parameters: {'learning_rate': 0.001, 'num_filters': 16, 'num_layers': 1}. Best is trial 22 with value: 0.7454739212989807.\n",
      "[I 2023-12-11 13:12:48,641] Trial 32 finished with value: 0.5793397426605225 and parameters: {'learning_rate': 0.001, 'num_filters': 16, 'num_layers': 1}. Best is trial 22 with value: 0.7454739212989807.\n",
      "[I 2023-12-11 13:13:05,536] Trial 33 finished with value: 0.6932907104492188 and parameters: {'learning_rate': 0.001, 'num_filters': 16, 'num_layers': 1}. Best is trial 22 with value: 0.7454739212989807.\n",
      "[I 2023-12-11 13:13:26,332] Trial 34 finished with value: 0.6474973559379578 and parameters: {'learning_rate': 0.001, 'num_filters': 32, 'num_layers': 1}. Best is trial 22 with value: 0.7454739212989807.\n",
      "[I 2023-12-11 13:13:43,245] Trial 35 finished with value: 0.7092651724815369 and parameters: {'learning_rate': 0.001, 'num_filters': 16, 'num_layers': 1}. Best is trial 22 with value: 0.7454739212989807.\n",
      "[I 2023-12-11 13:14:00,712] Trial 36 finished with value: 0.5835995674133301 and parameters: {'learning_rate': 0.1, 'num_filters': 16, 'num_layers': 1}. Best is trial 22 with value: 0.7454739212989807.\n",
      "[I 2023-12-11 13:14:19,863] Trial 37 finished with value: 0.7199147939682007 and parameters: {'learning_rate': 0.01, 'num_filters': 16, 'num_layers': 1}. Best is trial 22 with value: 0.7454739212989807.\n",
      "[I 2023-12-11 13:14:40,742] Trial 38 finished with value: 0.7060703039169312 and parameters: {'learning_rate': 0.01, 'num_filters': 32, 'num_layers': 1}. Best is trial 22 with value: 0.7454739212989807.\n",
      "[I 2023-12-11 13:14:58,812] Trial 39 finished with value: 0.7113950848579407 and parameters: {'learning_rate': 0.01, 'num_filters': 16, 'num_layers': 1}. Best is trial 22 with value: 0.7454739212989807.\n",
      "[I 2023-12-11 13:15:18,936] Trial 40 finished with value: 0.6773163080215454 and parameters: {'learning_rate': 0.01, 'num_filters': 16, 'num_layers': 2}. Best is trial 22 with value: 0.7454739212989807.\n",
      "[I 2023-12-11 13:15:36,540] Trial 41 finished with value: 0.7113950848579407 and parameters: {'learning_rate': 0.01, 'num_filters': 16, 'num_layers': 1}. Best is trial 22 with value: 0.7454739212989807.\n",
      "[I 2023-12-11 13:15:54,691] Trial 42 finished with value: 0.7135249972343445 and parameters: {'learning_rate': 0.01, 'num_filters': 16, 'num_layers': 1}. Best is trial 22 with value: 0.7454739212989807.\n",
      "[I 2023-12-11 13:16:12,620] Trial 43 finished with value: 0.5772097706794739 and parameters: {'learning_rate': 0.1, 'num_filters': 16, 'num_layers': 1}. Best is trial 22 with value: 0.7454739212989807.\n",
      "[I 2023-12-11 13:16:30,338] Trial 44 finished with value: 0.7231096625328064 and parameters: {'learning_rate': 0.001, 'num_filters': 16, 'num_layers': 1}. Best is trial 22 with value: 0.7454739212989807.\n",
      "[I 2023-12-11 13:16:47,608] Trial 45 finished with value: 0.6389776468276978 and parameters: {'learning_rate': 0.01, 'num_filters': 16, 'num_layers': 1}. Best is trial 22 with value: 0.7454739212989807.\n",
      "[I 2023-12-11 13:17:06,320] Trial 46 finished with value: 0.5814696550369263 and parameters: {'learning_rate': 0.001, 'num_filters': 16, 'num_layers': 1}. Best is trial 22 with value: 0.7454739212989807.\n",
      "[I 2023-12-11 13:17:27,573] Trial 47 finished with value: 0.7018104195594788 and parameters: {'learning_rate': 0.01, 'num_filters': 32, 'num_layers': 1}. Best is trial 22 with value: 0.7454739212989807.\n",
      "[I 2023-12-11 13:17:45,630] Trial 48 finished with value: 0.6975505948066711 and parameters: {'learning_rate': 0.001, 'num_filters': 16, 'num_layers': 1}. Best is trial 22 with value: 0.7454739212989807.\n",
      "[I 2023-12-11 13:18:03,709] Trial 49 finished with value: 0.7145900130271912 and parameters: {'learning_rate': 0.01, 'num_filters': 16, 'num_layers': 1}. Best is trial 22 with value: 0.7454739212989807.\n"
     ]
    },
    {
     "name": "stdout",
     "output_type": "stream",
     "text": [
      "Best trial:\n",
      "Accuracy: -0.7454739212989807\n",
      "Best hyperparameters: {'learning_rate': 0.001, 'num_filters': 16, 'num_layers': 1}\n"
     ]
    }
   ],
   "source": [
    "\n",
    "# without white images\n",
    "# Create a study and optimize the objective function\n",
    "study = optuna.create_study(direction='maximize')\n",
    "study.optimize(objective, n_trials=30)\n",
    "\n",
    "# Print the best parameters found by Optuna\n",
    "print('Best trial:')\n",
    "trial = study.best_trial\n",
    "print('Accuracy: {}'.format(trial.value))\n",
    "print(\"Best hyperparameters: {}\".format(trial.params))"
   ]
  },
  {
   "cell_type": "code",
   "execution_count": 125,
   "metadata": {},
   "outputs": [],
   "source": [
    "from numba import cuda \n",
    "device = cuda.get_current_device()\n",
    "device.reset()"
   ]
  },
  {
   "cell_type": "code",
   "execution_count": 59,
   "metadata": {},
   "outputs": [],
   "source": [
    "model = create_model()"
   ]
  },
  {
   "cell_type": "code",
   "execution_count": null,
   "metadata": {},
   "outputs": [],
   "source": [
    "model.summary()"
   ]
  },
  {
   "cell_type": "code",
   "execution_count": 60,
   "metadata": {},
   "outputs": [
    {
     "name": "stdout",
     "output_type": "stream",
     "text": [
      "Epoch 1/20\n",
      "78/78 [==============================] - 3s 25ms/step - loss: 4.9668 - accuracy: 0.4876 - val_loss: 1.2176 - val_accuracy: 0.4425\n",
      "Epoch 2/20\n",
      "78/78 [==============================] - 2s 19ms/step - loss: 0.8182 - accuracy: 0.6283 - val_loss: 0.9743 - val_accuracy: 0.5851\n",
      "Epoch 3/20\n",
      "78/78 [==============================] - 2s 20ms/step - loss: 0.7066 - accuracy: 0.6944 - val_loss: 0.8768 - val_accuracy: 0.6207\n",
      "Epoch 4/20\n",
      "78/78 [==============================] - 2s 20ms/step - loss: 0.5905 - accuracy: 0.7426 - val_loss: 0.8608 - val_accuracy: 0.6775\n",
      "Epoch 5/20\n",
      "78/78 [==============================] - 2s 19ms/step - loss: 0.4721 - accuracy: 0.8253 - val_loss: 0.8765 - val_accuracy: 0.6499\n",
      "Epoch 6/20\n",
      "78/78 [==============================] - 2s 20ms/step - loss: 0.3970 - accuracy: 0.8602 - val_loss: 0.9314 - val_accuracy: 0.6207\n",
      "Epoch 7/20\n",
      "78/78 [==============================] - 2s 20ms/step - loss: 0.3391 - accuracy: 0.8877 - val_loss: 0.9559 - val_accuracy: 0.6613\n",
      "Epoch 8/20\n",
      "78/78 [==============================] - 2s 19ms/step - loss: 0.2843 - accuracy: 0.9092 - val_loss: 0.9793 - val_accuracy: 0.6564\n",
      "Epoch 9/20\n",
      "78/78 [==============================] - 2s 19ms/step - loss: 0.2370 - accuracy: 0.9307 - val_loss: 1.0231 - val_accuracy: 0.6515\n",
      "Epoch 10/20\n",
      "78/78 [==============================] - 2s 19ms/step - loss: 0.2011 - accuracy: 0.9400 - val_loss: 1.1022 - val_accuracy: 0.6564\n",
      "Epoch 11/20\n",
      "78/78 [==============================] - 1s 19ms/step - loss: 0.1625 - accuracy: 0.9554 - val_loss: 1.1638 - val_accuracy: 0.6434\n",
      "Epoch 12/20\n",
      "78/78 [==============================] - 2s 19ms/step - loss: 0.1289 - accuracy: 0.9712 - val_loss: 1.1590 - val_accuracy: 0.6402\n",
      "Epoch 13/20\n",
      "78/78 [==============================] - 2s 19ms/step - loss: 0.1073 - accuracy: 0.9732 - val_loss: 1.2489 - val_accuracy: 0.6434\n",
      "Epoch 14/20\n",
      "78/78 [==============================] - 2s 20ms/step - loss: 0.0903 - accuracy: 0.9814 - val_loss: 1.2462 - val_accuracy: 0.6434\n",
      "Epoch 15/20\n",
      "78/78 [==============================] - 2s 20ms/step - loss: 0.0706 - accuracy: 0.9842 - val_loss: 1.3757 - val_accuracy: 0.6499\n",
      "Epoch 16/20\n",
      "78/78 [==============================] - 1s 19ms/step - loss: 0.0579 - accuracy: 0.9870 - val_loss: 1.4110 - val_accuracy: 0.6532\n",
      "Epoch 17/20\n",
      "78/78 [==============================] - 2s 19ms/step - loss: 0.0621 - accuracy: 0.9854 - val_loss: 1.3286 - val_accuracy: 0.6467\n",
      "Epoch 18/20\n",
      "78/78 [==============================] - 2s 20ms/step - loss: 0.0489 - accuracy: 0.9866 - val_loss: 1.4093 - val_accuracy: 0.6402\n",
      "Epoch 19/20\n",
      "78/78 [==============================] - 2s 19ms/step - loss: 0.0419 - accuracy: 0.9891 - val_loss: 1.4888 - val_accuracy: 0.6337\n",
      "Epoch 20/20\n",
      "78/78 [==============================] - 2s 20ms/step - loss: 0.0511 - accuracy: 0.9878 - val_loss: 1.3689 - val_accuracy: 0.6337\n"
     ]
    }
   ],
   "source": [
    "# Train the model\n",
    "history = model.fit([X_train, features_train], y_train, validation_data=([X_val, features_val], y_val), epochs=20)"
   ]
  },
  {
   "cell_type": "code",
   "execution_count": 61,
   "metadata": {},
   "outputs": [
    {
     "data": {
      "image/png": "[encoded data removed]",
      "text/plain": [
       "<Figure size 1200x400 with 2 Axes>"
      ]
     },
     "metadata": {},
     "output_type": "display_data"
    }
   ],
   "source": [
    "# without neighbouring borders for white images\n",
    "showDetails(history)"
   ]
  },
  {
   "cell_type": "code",
   "execution_count": 24,
   "metadata": {},
   "outputs": [
    {
     "name": "stdout",
     "output_type": "stream",
     "text": [
      "34/34 [==============================] - 0s 10ms/step - loss: 1.5015 - accuracy: 0.6749\n",
      "Test accuracy: 0.6748582124710083\n"
     ]
    }
   ],
   "source": [
    "test_loss, test_accuracy = model.evaluate([X_test, features_test], y_test)\n",
    "print(f'Test accuracy: {test_accuracy}')\n"
   ]
  },
  {
   "cell_type": "code",
   "execution_count": 73,
   "metadata": {},
   "outputs": [
    {
     "data": {
      "image/png": "[encoded data removed]",
      "text/plain": [
       "<Figure size 1200x400 with 2 Axes>"
      ]
     },
     "metadata": {},
     "output_type": "display_data"
    }
   ],
   "source": [
    "# with neighbouring borders for white images\n",
    "showDetails(history)"
   ]
  },
  {
   "cell_type": "code",
   "execution_count": 74,
   "metadata": {},
   "outputs": [
    {
     "name": "stdout",
     "output_type": "stream",
     "text": [
      "11/11 [==============================] - 0s 9ms/step - loss: 0.5352 - accuracy: 0.8349\n",
      "Test accuracy: 0.8348624110221863\n"
     ]
    }
   ],
   "source": [
    "test_loss, test_accuracy = model.evaluate([X_test, features_test], y_test)\n",
    "print(f'Test accuracy: {test_accuracy}')"
   ]
  },
  {
   "cell_type": "code",
   "execution_count": 61,
   "metadata": {},
   "outputs": [
    {
     "data": {
      "image/png": "[encoded data removed]",
      "text/plain": [
       "<Figure size 1200x400 with 2 Axes>"
      ]
     },
     "metadata": {},
     "output_type": "display_data"
    }
   ],
   "source": [
    "showDetails(history)"
   ]
  },
  {
   "cell_type": "code",
   "execution_count": 14,
   "metadata": {},
   "outputs": [],
   "source": [
    "from keras.utils import plot_model, model_to_dot\n",
    "\n",
    "# Assuming 'model' is your neural network model\n",
    "# plot_model(model, to_file='model_plot.png', show_shapes=True, show_layer_names=True)\n",
    "# Assuming 'model' is your neural network model\n",
    "dot = model_to_dot(model, show_shapes=True, show_layer_names=True)\n",
    "\n",
    "# Save the DOT file\n",
    "with open(\"model.dot\", \"w\") as dot_file:\n",
    "    dot_file.write(dot.to_string())\n"
   ]
  },
  {
   "cell_type": "code",
   "execution_count": 21,
   "metadata": {},
   "outputs": [],
   "source": [
    "import torch, gc\n",
    "gc.collect()\n",
    "torch.cuda.empty_cache()"
   ]
  }
 ],
 "metadata": {
  "kernelspec": {
   "display_name": "Python 3",
   "language": "python",
   "name": "python3"
  },
  "language_info": {
   "codemirror_mode": {
    "name": "ipython",
    "version": 3
   },
   "file_extension": ".py",
   "mimetype": "text/x-python",
   "name": "python",
   "nbconvert_exporter": "python",
   "pygments_lexer": "ipython3",
   "version": "3.10.0"
  }
 },
 "nbformat": 4,
 "nbformat_minor": 2
}
