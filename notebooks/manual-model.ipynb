{
 "cells": [
  {
   "cell_type": "code",
   "execution_count": 9,
   "metadata": {},
   "outputs": [],
   "source": [
    "import os\n",
    "from tensorflow.keras.preprocessing.image import ImageDataGenerator\n",
    "from tensorflow.keras.models import Sequential\n",
    "from tensorflow.keras.layers import Conv2D, MaxPooling2D, Flatten, Dense, Dropout, BatchNormalization\n",
    "from tensorflow.keras.optimizers import Adam\n",
    "import matplotlib.pyplot as plt\n",
    "import tensorflow as tf"
   ]
  },
  {
   "cell_type": "code",
   "execution_count": 2,
   "metadata": {},
   "outputs": [],
   "source": [
    "import cv2"
   ]
  },
  {
   "cell_type": "code",
   "execution_count": 3,
   "metadata": {},
   "outputs": [
    {
     "name": "stdout",
     "output_type": "stream",
     "text": [
      "[PhysicalDevice(name='/physical_device:GPU:0', device_type='GPU'), PhysicalDevice(name='/physical_device:GPU:1', device_type='GPU')]\n",
      "Num GPUs Available:  2\n"
     ]
    }
   ],
   "source": [
    "\n",
    "print(tf.config.list_physical_devices('GPU'))\n",
    "print(\"Num GPUs Available: \", len(tf.config.list_physical_devices('GPU')))"
   ]
  },
  {
   "cell_type": "code",
   "execution_count": 3,
   "metadata": {},
   "outputs": [],
   "source": [
    "gpus = tf.config.experimental.list_physical_devices('GPU')\n",
    "if gpus:\n",
    "    try:\n",
    "        for gpu in gpus:\n",
    "            tf.config.experimental.set_memory_growth(gpu, True)\n",
    "    except RuntimeError as e:\n",
    "        print(e)"
   ]
  },
  {
   "cell_type": "code",
   "execution_count": 4,
   "metadata": {},
   "outputs": [],
   "source": [
    "# Set the path to your dataset\n",
    "#base_dir = '../output/approach-2/'\n",
    "#base_dir = '../output/0_1/'\n",
    "#base_dir = '../output/0_2/'\n",
    "#base_dir = '../output/1_2/'\n",
    "base_dirs = ['../output/0_1/', '../output/0_2/', '../output/1_2/']"
   ]
  },
  {
   "cell_type": "code",
   "execution_count": 45,
   "metadata": {},
   "outputs": [],
   "source": [
    "# Create a generator for reading images from the dataset\n",
    "datagen = ImageDataGenerator(rescale=1./255, validation_split=0.2)\n",
    "data = {}"
   ]
  },
  {
   "cell_type": "code",
   "execution_count": 46,
   "metadata": {},
   "outputs": [
    {
     "name": "stdout",
     "output_type": "stream",
     "text": [
      "Found 2288 images belonging to 2 classes.\n",
      "Found 571 images belonging to 2 classes.\n",
      "Found 2576 images belonging to 2 classes.\n",
      "Found 643 images belonging to 2 classes.\n",
      "Found 2670 images belonging to 2 classes.\n",
      "Found 666 images belonging to 2 classes.\n"
     ]
    }
   ],
   "source": [
    "# Flow images from the dataset, splitting them into training and validation sets\n",
    "for bd in base_dirs:\n",
    "    train_generator = datagen.flow_from_directory(\n",
    "        bd,  \n",
    "        target_size=(224, 224),  \n",
    "        batch_size=32,\n",
    "        class_mode='categorical',  \n",
    "        color_mode='grayscale',  \n",
    "        subset='training'  \n",
    "    )\n",
    "\n",
    "    val_generator = datagen.flow_from_directory(\n",
    "        bd,  \n",
    "        target_size=(224, 224),  \n",
    "        batch_size=32,\n",
    "        class_mode='categorical',  \n",
    "        color_mode='grayscale',  \n",
    "        subset='validation'  \n",
    "    )\n",
    "    key = bd.split('/')[-2]\n",
    "    data[key] = (train_generator, val_generator)"
   ]
  },
  {
   "cell_type": "code",
   "execution_count": 35,
   "metadata": {},
   "outputs": [
    {
     "data": {
      "text/plain": [
       "['0_1', '0_2', '1_2']"
      ]
     },
     "execution_count": 35,
     "metadata": {},
     "output_type": "execute_result"
    }
   ],
   "source": [
    "list(data.keys())"
   ]
  },
  {
   "cell_type": "code",
   "execution_count": 7,
   "metadata": {},
   "outputs": [],
   "source": [
    "from tensorflow.keras import regularizers"
   ]
  },
  {
   "cell_type": "code",
   "execution_count": 47,
   "metadata": {},
   "outputs": [],
   "source": [
    "def create_model():\n",
    "    # Create a CNN model\n",
    "    model = Sequential()\n",
    "    model.add(Conv2D(32, (3, 3), activation='relu', input_shape=(224, 224, 1), kernel_regularizer=regularizers.l2(0.001)))\n",
    "    model.add(BatchNormalization())\n",
    "    model.add(Dropout(0.2))\n",
    "    model.add(MaxPooling2D((2, 2)))\n",
    "    model.add(Conv2D(32, (3, 3), activation='relu', kernel_regularizer=regularizers.l2(0.001)))\n",
    "    model.add(BatchNormalization())\n",
    "    model.add(Dropout(0.2))\n",
    "    model.add(MaxPooling2D((2, 2)))\n",
    "    #model.add(Conv2D(64, (3, 3), activation='relu', kernel_regularizer=regularizers.l2(0.001)))\n",
    "    #model.add(MaxPooling2D((2, 2)))\n",
    "    model.add(Flatten())\n",
    "    model.add(Dense(32, activation='relu', kernel_regularizer=regularizers.l2(0.001)))\n",
    "    #model.add(Dropout(0.5))\n",
    "    #model.add(Dense(16, activation='relu', kernel_regularizer=regularizers.l2(0.001)))\n",
    "    model.add(Dense(2, activation='softmax'))  # 3 classes (0, 1, 2)\n",
    "    return model"
   ]
  },
  {
   "cell_type": "code",
   "execution_count": 43,
   "metadata": {},
   "outputs": [],
   "source": [
    "model = create_model()\n",
    "#model.summary()"
   ]
  },
  {
   "cell_type": "code",
   "execution_count": 7,
   "metadata": {},
   "outputs": [],
   "source": [
    "from keras.utils import plot_model, model_to_dot\n",
    "\n",
    "# Assuming 'model' is your neural network model\n",
    "# plot_model(model, to_file='model_plot.png', show_shapes=True, show_layer_names=True)\n",
    "# Assuming 'model' is your neural network model\n",
    "dot = model_to_dot(model, show_shapes=True, show_layer_names=True)\n",
    "\n",
    "# Save the DOT file\n",
    "with open(\"sequential_model.dot\", \"w\") as dot_file:\n",
    "    dot_file.write(dot.to_string())"
   ]
  },
  {
   "cell_type": "code",
   "execution_count": 12,
   "metadata": {},
   "outputs": [],
   "source": [
    "from tensorflow.keras.optimizers import Adam, SGD, RMSprop, Adagrad, Adadelta, Adamax, Nadam"
   ]
  },
  {
   "cell_type": "code",
   "execution_count": 13,
   "metadata": {},
   "outputs": [],
   "source": [
    "# Compile the model\n",
    "model.compile(optimizer=Adagrad(learning_rate=0.001), loss='categorical_crossentropy', metrics=['accuracy'])"
   ]
  },
  {
   "cell_type": "code",
   "execution_count": 48,
   "metadata": {},
   "outputs": [
    {
     "name": "stdout",
     "output_type": "stream",
     "text": [
      "comparing  0_1\n",
      "Epoch 1/20\n",
      "71/71 [==============================] - 7s 94ms/step - loss: 0.8284 - accuracy: 0.6613 - val_loss: 0.9198 - val_accuracy: 0.5202\n",
      "Epoch 2/20\n",
      "71/71 [==============================] - 6s 88ms/step - loss: 0.5905 - accuracy: 0.7407 - val_loss: 1.3383 - val_accuracy: 0.5184\n",
      "Epoch 3/20\n",
      "71/71 [==============================] - 7s 92ms/step - loss: 0.5125 - accuracy: 0.8023 - val_loss: 1.5436 - val_accuracy: 0.5221\n",
      "Epoch 4/20\n",
      "71/71 [==============================] - 6s 89ms/step - loss: 0.4590 - accuracy: 0.8364 - val_loss: 2.2783 - val_accuracy: 0.5202\n",
      "Epoch 5/20\n",
      "71/71 [==============================] - 7s 93ms/step - loss: 0.4063 - accuracy: 0.8679 - val_loss: 1.7537 - val_accuracy: 0.5147\n",
      "Epoch 6/20\n",
      "71/71 [==============================] - 6s 91ms/step - loss: 0.3664 - accuracy: 0.8892 - val_loss: 1.6090 - val_accuracy: 0.3971\n",
      "Epoch 7/20\n",
      "71/71 [==============================] - 7s 95ms/step - loss: 0.3312 - accuracy: 0.9074 - val_loss: 1.6705 - val_accuracy: 0.3842\n",
      "Epoch 8/20\n",
      "71/71 [==============================] - 6s 85ms/step - loss: 0.2993 - accuracy: 0.9331 - val_loss: 1.6979 - val_accuracy: 0.4136\n",
      "Epoch 9/20\n",
      "71/71 [==============================] - 6s 89ms/step - loss: 0.2683 - accuracy: 0.9468 - val_loss: 1.4895 - val_accuracy: 0.4210\n",
      "Epoch 10/20\n",
      "71/71 [==============================] - 6s 86ms/step - loss: 0.2548 - accuracy: 0.9490 - val_loss: 1.5196 - val_accuracy: 0.4228\n",
      "Epoch 11/20\n",
      "71/71 [==============================] - 6s 89ms/step - loss: 0.2305 - accuracy: 0.9637 - val_loss: 1.3803 - val_accuracy: 0.4026\n",
      "Epoch 12/20\n",
      "71/71 [==============================] - 6s 90ms/step - loss: 0.2155 - accuracy: 0.9699 - val_loss: 1.4090 - val_accuracy: 0.4320\n",
      "Epoch 13/20\n",
      "71/71 [==============================] - 6s 89ms/step - loss: 0.2008 - accuracy: 0.9738 - val_loss: 1.3818 - val_accuracy: 0.4375\n",
      "Epoch 14/20\n",
      "71/71 [==============================] - 6s 88ms/step - loss: 0.1955 - accuracy: 0.9734 - val_loss: 1.4426 - val_accuracy: 0.4338\n",
      "Epoch 15/20\n",
      "71/71 [==============================] - 6s 89ms/step - loss: 0.1847 - accuracy: 0.9796 - val_loss: 1.4424 - val_accuracy: 0.4301\n",
      "Epoch 16/20\n",
      "71/71 [==============================] - 6s 91ms/step - loss: 0.1807 - accuracy: 0.9770 - val_loss: 1.4795 - val_accuracy: 0.4191\n",
      "Epoch 17/20\n",
      "71/71 [==============================] - 6s 89ms/step - loss: 0.1755 - accuracy: 0.9778 - val_loss: 1.4562 - val_accuracy: 0.4430\n",
      "Epoch 18/20\n",
      "71/71 [==============================] - 6s 86ms/step - loss: 0.1714 - accuracy: 0.9756 - val_loss: 1.4944 - val_accuracy: 0.4338\n",
      "Epoch 19/20\n",
      "71/71 [==============================] - 6s 85ms/step - loss: 0.1684 - accuracy: 0.9805 - val_loss: 1.5157 - val_accuracy: 0.4283\n",
      "Epoch 20/20\n",
      "71/71 [==============================] - 6s 90ms/step - loss: 0.1576 - accuracy: 0.9863 - val_loss: 1.4837 - val_accuracy: 0.4412\n",
      "comparing  0_2\n",
      "Epoch 1/20\n",
      "80/80 [==============================] - 9s 98ms/step - loss: 0.6539 - accuracy: 0.8035 - val_loss: 0.8597 - val_accuracy: 0.5750\n",
      "Epoch 2/20\n",
      "80/80 [==============================] - 8s 96ms/step - loss: 0.3362 - accuracy: 0.8927 - val_loss: 0.8874 - val_accuracy: 0.6313\n",
      "Epoch 3/20\n",
      "80/80 [==============================] - 7s 93ms/step - loss: 0.2569 - accuracy: 0.9355 - val_loss: 0.9542 - val_accuracy: 0.6469\n",
      "Epoch 4/20\n",
      "80/80 [==============================] - 7s 92ms/step - loss: 0.2117 - accuracy: 0.9591 - val_loss: 1.1305 - val_accuracy: 0.5453\n",
      "Epoch 5/20\n",
      "80/80 [==============================] - 8s 99ms/step - loss: 0.1908 - accuracy: 0.9682 - val_loss: 1.3391 - val_accuracy: 0.5531\n",
      "Epoch 6/20\n",
      "80/80 [==============================] - 8s 98ms/step - loss: 0.1736 - accuracy: 0.9792 - val_loss: 1.5157 - val_accuracy: 0.5656\n",
      "Epoch 7/20\n",
      "80/80 [==============================] - 8s 102ms/step - loss: 0.1610 - accuracy: 0.9815 - val_loss: 1.6821 - val_accuracy: 0.5422\n",
      "Epoch 8/20\n",
      "80/80 [==============================] - 8s 96ms/step - loss: 0.1493 - accuracy: 0.9866 - val_loss: 1.8094 - val_accuracy: 0.5359\n",
      "Epoch 9/20\n",
      "80/80 [==============================] - 8s 100ms/step - loss: 0.1470 - accuracy: 0.9890 - val_loss: 1.9549 - val_accuracy: 0.5219\n",
      "Epoch 10/20\n",
      "80/80 [==============================] - 7s 93ms/step - loss: 0.1372 - accuracy: 0.9929 - val_loss: 2.0287 - val_accuracy: 0.5281\n",
      "Epoch 11/20\n",
      "80/80 [==============================] - 8s 94ms/step - loss: 0.1284 - accuracy: 0.9949 - val_loss: 2.0352 - val_accuracy: 0.5344\n",
      "Epoch 12/20\n",
      "80/80 [==============================] - 8s 97ms/step - loss: 0.1262 - accuracy: 0.9957 - val_loss: 2.0726 - val_accuracy: 0.5297\n",
      "Epoch 13/20\n",
      "80/80 [==============================] - 8s 100ms/step - loss: 0.1218 - accuracy: 0.9969 - val_loss: 2.1469 - val_accuracy: 0.5250\n",
      "Epoch 14/20\n",
      "80/80 [==============================] - 7s 91ms/step - loss: 0.1167 - accuracy: 0.9984 - val_loss: 2.1541 - val_accuracy: 0.5234\n",
      "Epoch 15/20\n",
      "80/80 [==============================] - 8s 96ms/step - loss: 0.1167 - accuracy: 0.9980 - val_loss: 2.1980 - val_accuracy: 0.5250\n",
      "Epoch 16/20\n",
      "80/80 [==============================] - 7s 91ms/step - loss: 0.1141 - accuracy: 0.9984 - val_loss: 2.2073 - val_accuracy: 0.5312\n",
      "Epoch 17/20\n",
      "80/80 [==============================] - 7s 93ms/step - loss: 0.1141 - accuracy: 0.9980 - val_loss: 2.2636 - val_accuracy: 0.5266\n",
      "Epoch 18/20\n",
      "80/80 [==============================] - 8s 95ms/step - loss: 0.1121 - accuracy: 0.9992 - val_loss: 2.3326 - val_accuracy: 0.5250\n",
      "Epoch 19/20\n",
      "80/80 [==============================] - 8s 95ms/step - loss: 0.1109 - accuracy: 0.9996 - val_loss: 2.3020 - val_accuracy: 0.5188\n",
      "Epoch 20/20\n",
      "80/80 [==============================] - 8s 101ms/step - loss: 0.1110 - accuracy: 0.9996 - val_loss: 2.3327 - val_accuracy: 0.5234\n",
      "comparing  1_2\n",
      "Epoch 1/20\n",
      "83/83 [==============================] - 9s 98ms/step - loss: 0.7787 - accuracy: 0.6467 - val_loss: 0.9359 - val_accuracy: 0.5578\n",
      "Epoch 2/20\n",
      "83/83 [==============================] - 8s 96ms/step - loss: 0.5906 - accuracy: 0.7456 - val_loss: 1.5013 - val_accuracy: 0.5469\n",
      "Epoch 3/20\n",
      "83/83 [==============================] - 8s 99ms/step - loss: 0.4806 - accuracy: 0.8245 - val_loss: 1.9618 - val_accuracy: 0.5578\n",
      "Epoch 4/20\n",
      "83/83 [==============================] - 9s 106ms/step - loss: 0.4038 - accuracy: 0.8738 - val_loss: 2.1989 - val_accuracy: 0.5547\n",
      "Epoch 5/20\n",
      "83/83 [==============================] - 8s 96ms/step - loss: 0.3400 - accuracy: 0.9136 - val_loss: 2.3040 - val_accuracy: 0.5531\n",
      "Epoch 6/20\n",
      "83/83 [==============================] - 8s 98ms/step - loss: 0.2903 - accuracy: 0.9393 - val_loss: 2.0873 - val_accuracy: 0.5609\n",
      "Epoch 7/20\n",
      "83/83 [==============================] - 8s 96ms/step - loss: 0.2511 - accuracy: 0.9556 - val_loss: 2.1161 - val_accuracy: 0.5594\n",
      "Epoch 8/20\n",
      "83/83 [==============================] - 9s 103ms/step - loss: 0.2192 - accuracy: 0.9742 - val_loss: 1.7061 - val_accuracy: 0.5609\n",
      "Epoch 9/20\n",
      "83/83 [==============================] - 8s 97ms/step - loss: 0.1961 - accuracy: 0.9829 - val_loss: 1.3119 - val_accuracy: 0.5219\n",
      "Epoch 10/20\n",
      "83/83 [==============================] - 8s 93ms/step - loss: 0.1744 - accuracy: 0.9928 - val_loss: 1.3269 - val_accuracy: 0.5047\n",
      "Epoch 11/20\n",
      "83/83 [==============================] - 8s 96ms/step - loss: 0.1642 - accuracy: 0.9928 - val_loss: 1.2989 - val_accuracy: 0.4953\n",
      "Epoch 12/20\n",
      "83/83 [==============================] - 8s 95ms/step - loss: 0.1517 - accuracy: 0.9973 - val_loss: 1.3924 - val_accuracy: 0.4953\n",
      "Epoch 13/20\n",
      "83/83 [==============================] - 8s 92ms/step - loss: 0.1436 - accuracy: 0.9966 - val_loss: 1.4795 - val_accuracy: 0.4828\n",
      "Epoch 14/20\n",
      "83/83 [==============================] - 8s 97ms/step - loss: 0.1372 - accuracy: 0.9989 - val_loss: 1.5556 - val_accuracy: 0.4953\n",
      "Epoch 15/20\n",
      "83/83 [==============================] - 8s 96ms/step - loss: 0.1317 - accuracy: 0.9989 - val_loss: 1.5877 - val_accuracy: 0.5016\n",
      "Epoch 16/20\n",
      "83/83 [==============================] - 9s 104ms/step - loss: 0.1287 - accuracy: 0.9989 - val_loss: 1.6114 - val_accuracy: 0.4938\n",
      "Epoch 17/20\n",
      "83/83 [==============================] - 8s 98ms/step - loss: 0.1261 - accuracy: 0.9989 - val_loss: 1.6806 - val_accuracy: 0.4953\n",
      "Epoch 18/20\n",
      "83/83 [==============================] - 8s 90ms/step - loss: 0.1216 - accuracy: 0.9996 - val_loss: 1.7313 - val_accuracy: 0.4969\n",
      "Epoch 19/20\n",
      "83/83 [==============================] - 8s 95ms/step - loss: 0.1193 - accuracy: 0.9992 - val_loss: 1.8215 - val_accuracy: 0.5031\n",
      "Epoch 20/20\n",
      "83/83 [==============================] - 8s 96ms/step - loss: 0.1162 - accuracy: 1.0000 - val_loss: 1.8047 - val_accuracy: 0.5109\n"
     ]
    }
   ],
   "source": [
    "# Best hyperparameters: {'learning_rate': 0.001, 'num_filters': 32, 'num_layers': 2, 'batch_size': 32, 'epochs': 20, 'optimizer': 'adagrad', \n",
    "# 'batch_norm': True, 'drop_out': 0.2}\n",
    "histories = {}\n",
    "for k,v in data.items():\n",
    "    # Train the model\n",
    "    print('comparing ', k)\n",
    "    train_generator = v[0]\n",
    "    val_generator = v[1]\n",
    "    model = create_model()\n",
    "    model.compile(optimizer=Adagrad(learning_rate=0.001), loss='categorical_crossentropy', metrics=['accuracy'])\n",
    "    history = model.fit(\n",
    "        train_generator,\n",
    "        steps_per_epoch=train_generator.n // train_generator.batch_size,\n",
    "        epochs=20,\n",
    "        validation_data=val_generator,\n",
    "        validation_steps=val_generator.n // val_generator.batch_size  \n",
    "    )\n",
    "    histories[k] = (model,history)"
   ]
  },
  {
   "cell_type": "code",
   "execution_count": 40,
   "metadata": {},
   "outputs": [
    {
     "data": {
      "text/plain": [
       "<keras.callbacks.History at 0x1af5719c550>"
      ]
     },
     "execution_count": 40,
     "metadata": {},
     "output_type": "execute_result"
    }
   ],
   "source": [
    "history"
   ]
  },
  {
   "cell_type": "code",
   "execution_count": 49,
   "metadata": {},
   "outputs": [],
   "source": [
    "def showDetails(history, k):\n",
    "    c = k.split('_')\n",
    "    plt.figure(figsize=(8, 6))\n",
    "    #plt.subplot(1, 2, 1)\n",
    "    plt.plot(history.history['accuracy'], label='Training Accuracy')\n",
    "    plt.plot(history.history['val_accuracy'], label='Validation Accuracy')\n",
    "    plt.ylim([0,1.2])\n",
    "    plt.xlabel('Epochs')\n",
    "    plt.ylabel('Accuracy')\n",
    "    plt.legend()\n",
    "    plt.title(f'Class {c[0]} and Class {c[1]}')\n",
    "\n",
    "    plt.figure(figsize=(8, 6))\n",
    "    #plt.subplot(1, 2, 2)\n",
    "    plt.plot(history.history['loss'], label='Training Loss')\n",
    "    plt.plot(history.history['val_loss'], label='Validation Loss')\n",
    "    #plt.ylim([0.0,1])\n",
    "    plt.xlabel('Epochs')\n",
    "    plt.ylabel('Loss')\n",
    "    plt.legend()\n",
    "    plt.title(f'Class {c[0]} and Class {c[1]}')\n",
    "\n",
    "    plt.show()"
   ]
  },
  {
   "cell_type": "code",
   "execution_count": 50,
   "metadata": {},
   "outputs": [
    {
     "data": {
      "image/png": "[encoded data removed]",
      "text/plain": [
       "<Figure size 800x600 with 1 Axes>"
      ]
     },
     "metadata": {},
     "output_type": "display_data"
    },
    {
     "data": {
      "image/png": "[encoded data removed]",
      "text/plain": [
       "<Figure size 800x600 with 1 Axes>"
      ]
     },
     "metadata": {},
     "output_type": "display_data"
    },
    {
     "data": {
      "image/png": "[encoded data removed]",
      "text/plain": [
       "<Figure size 800x600 with 1 Axes>"
      ]
     },
     "metadata": {},
     "output_type": "display_data"
    },
    {
     "data": {
      "image/png": "[encoded data removed]",
      "text/plain": [
       "<Figure size 800x600 with 1 Axes>"
      ]
     },
     "metadata": {},
     "output_type": "display_data"
    },
    {
     "data": {
      "image/png": "[encoded data removed]",
      "text/plain": [
       "<Figure size 800x600 with 1 Axes>"
      ]
     },
     "metadata": {},
     "output_type": "display_data"
    },
    {
     "data": {
      "image/png": "[encoded data removed]",
      "text/plain": [
       "<Figure size 800x600 with 1 Axes>"
      ]
     },
     "metadata": {},
     "output_type": "display_data"
    }
   ],
   "source": [
    "for k,v in histories.items():\n",
    "    showDetails(v[1], k)"
   ]
  },
  {
   "cell_type": "code",
   "execution_count": 51,
   "metadata": {},
   "outputs": [],
   "source": [
    "import numpy as np\n",
    "from sklearn.metrics import confusion_matrix, classification_report\n",
    "import seaborn as sns"
   ]
  },
  {
   "cell_type": "code",
   "execution_count": 52,
   "metadata": {},
   "outputs": [
    {
     "name": "stdout",
     "output_type": "stream",
     "text": [
      "0_1\n",
      "18/18 [==============================] - 2s 69ms/step\n"
     ]
    },
    {
     "data": {
      "image/png": "[encoded data removed]",
      "text/plain": [
       "<Figure size 800x600 with 2 Axes>"
      ]
     },
     "metadata": {},
     "output_type": "display_data"
    },
    {
     "name": "stdout",
     "output_type": "stream",
     "text": [
      "              precision    recall  f1-score   support\n",
      "\n",
      "     class 0       0.48      0.76      0.59       274\n",
      "     class 1       0.53      0.26      0.35       297\n",
      "\n",
      "    accuracy                           0.50       571\n",
      "   macro avg       0.51      0.51      0.47       571\n",
      "weighted avg       0.51      0.50      0.46       571\n",
      "\n",
      "0_2\n",
      "21/21 [==============================] - 2s 78ms/step\n"
     ]
    },
    {
     "data": {
      "image/png": "[encoded data removed]",
      "text/plain": [
       "<Figure size 800x600 with 2 Axes>"
      ]
     },
     "metadata": {},
     "output_type": "display_data"
    },
    {
     "name": "stdout",
     "output_type": "stream",
     "text": [
      "              precision    recall  f1-score   support\n",
      "\n",
      "     class 0       0.42      0.88      0.57       274\n",
      "     class 2       0.54      0.10      0.17       369\n",
      "\n",
      "    accuracy                           0.44       643\n",
      "   macro avg       0.48      0.49      0.37       643\n",
      "weighted avg       0.49      0.44      0.34       643\n",
      "\n",
      "1_2\n",
      "21/21 [==============================] - 2s 78ms/step\n"
     ]
    },
    {
     "data": {
      "image/png": "[encoded data removed]",
      "text/plain": [
       "<Figure size 800x600 with 2 Axes>"
      ]
     },
     "metadata": {},
     "output_type": "display_data"
    },
    {
     "name": "stdout",
     "output_type": "stream",
     "text": [
      "              precision    recall  f1-score   support\n",
      "\n",
      "     class 1       0.45      0.83      0.58       297\n",
      "     class 2       0.57      0.18      0.28       369\n",
      "\n",
      "    accuracy                           0.47       666\n",
      "   macro avg       0.51      0.51      0.43       666\n",
      "weighted avg       0.52      0.47      0.41       666\n",
      "\n"
     ]
    }
   ],
   "source": [
    "\n",
    "for k, v in data.items():\n",
    "    c = k.split('_')\n",
    "    labels = {0: f'class {c[0]}', 1: f'class {c[1]}'}\n",
    "    # Get predictions\n",
    "    print(k)\n",
    "    model = histories[k][0]\n",
    "    val_generator = v[1]\n",
    "    Y_pred = model.predict(val_generator)\n",
    "    y_pred = np.argmax(Y_pred, axis=1)\n",
    "\n",
    "    y_true = val_generator.classes\n",
    "\n",
    "    # Plot confusion matrix with numerical values\n",
    "    conf_mat = confusion_matrix(y_true, y_pred)\n",
    "    plt.figure(figsize=(8, 6))\n",
    "    sns.heatmap(conf_mat, annot=True, fmt='d', cmap='Blues', xticklabels=labels.values(), yticklabels=labels.values())\n",
    "    plt.title('Confusion Matrix')\n",
    "    plt.xlabel('Predicted')\n",
    "    plt.ylabel('True')\n",
    "    plt.show()\n",
    "\n",
    "    # Print classification report\n",
    "    print(classification_report(y_true, y_pred, target_names=labels.values()))"
   ]
  },
  {
   "cell_type": "code",
   "execution_count": null,
   "metadata": {},
   "outputs": [],
   "source": [
    "# Get predictions\n",
    "Y_pred = model.predict(val_generator)\n",
    "y_pred = np.argmax(Y_pred, axis=1)\n",
    "\n",
    "# Convert labels back to original encoding\n",
    "# labels = {0: 'Low', 1: 'Average', 2: 'High'}\n",
    "labels = {0: 'Low', 1: 'High'}\n",
    "validation_labels = [labels[k] for k in val_generator.classes]\n",
    "y_true = val_generator.classes\n",
    "\n",
    "# Plot confusion matrix\n",
    "conf_mat = confusion_matrix(y_true, y_pred)\n",
    "plt.figure(figsize=(6, 6))\n",
    "plt.imshow(conf_mat, cmap=plt.cm.Blues)\n",
    "plt.title('Confusion Matrix')\n",
    "plt.colorbar()\n",
    "plt.xticks(np.arange(len(labels)), labels.values(), rotation=45)\n",
    "plt.yticks(np.arange(len(labels)), labels.values())\n",
    "plt.xlabel('Predicted')\n",
    "plt.ylabel('True')\n",
    "plt.show()"
   ]
  },
  {
   "cell_type": "code",
   "execution_count": 58,
   "metadata": {},
   "outputs": [
    {
     "name": "stdout",
     "output_type": "stream",
     "text": [
      "20/20 [==============================] - 2s 76ms/step\n"
     ]
    }
   ],
   "source": [
    "# Get predictions\n",
    "Y_pred = model.predict(val_generator)\n",
    "y_pred = np.argmax(Y_pred, axis=1)"
   ]
  },
  {
   "cell_type": "code",
   "execution_count": null,
   "metadata": {},
   "outputs": [],
   "source": [
    "# Convert labels back to original encoding\n",
    "# labels = {0: 'Low', 1: 'Average', 2: 'High'}\n",
    "labels = {0: 'Low', 1: 'High'}\n",
    "#validation_labels = [labels[k] for k in val_generator.classes]\n",
    "validation_labels = val_generator.classes\n",
    "#print(y_pred)\n",
    "y_true = val_generator.classes\n",
    "#print(y_true)"
   ]
  },
  {
   "cell_type": "code",
   "execution_count": 64,
   "metadata": {},
   "outputs": [
    {
     "data": {
      "image/png": "[encoded data removed]",
      "text/plain": [
       "<Figure size 400x400 with 2 Axes>"
      ]
     },
     "metadata": {},
     "output_type": "display_data"
    },
    {
     "name": "stdout",
     "output_type": "stream",
     "text": [
      "              precision    recall  f1-score   support\n",
      "\n",
      "         Low       0.45      0.51      0.48       274\n",
      "        High       0.56      0.50      0.53       337\n",
      "\n",
      "    accuracy                           0.51       611\n",
      "   macro avg       0.51      0.51      0.50       611\n",
      "weighted avg       0.51      0.51      0.51       611\n",
      "\n"
     ]
    }
   ],
   "source": [
    "\n",
    "\n",
    "# Plot confusion matrix with numerical values\n",
    "conf_mat = confusion_matrix(y_true, y_pred)\n",
    "plt.figure(figsize=(4, 4))\n",
    "sns.heatmap(conf_mat, annot=True, fmt='d', cmap='Blues', xticklabels=labels.values(), yticklabels=labels.values())\n",
    "plt.title('Confusion Matrix')\n",
    "plt.xlabel('Predicted')\n",
    "plt.ylabel('True')\n",
    "plt.show()\n",
    "\n",
    "# Print classification report\n",
    "print(classification_report(y_true, y_pred, target_names=labels.values()))"
   ]
  },
  {
   "cell_type": "code",
   "execution_count": 60,
   "metadata": {},
   "outputs": [
    {
     "name": "stdout",
     "output_type": "stream",
     "text": [
      "20/20 [==============================] - 2s 82ms/step\n"
     ]
    },
    {
     "data": {
      "image/png": "[encoded data removed]",
      "text/plain": [
       "<Figure size 640x480 with 2 Axes>"
      ]
     },
     "metadata": {},
     "output_type": "display_data"
    }
   ],
   "source": [
    "import numpy as np\n",
    "from sklearn.metrics import confusion_matrix, ConfusionMatrixDisplay\n",
    "import matplotlib.pyplot as plt\n",
    "\n",
    "# Assuming y_true and y_pred are your true and predicted labels\n",
    "# Get true labels\n",
    "y_true = val_generator.classes\n",
    "\n",
    "# Get predicted probabilities\n",
    "Y_pred = model.predict(val_generator)\n",
    "\n",
    "# Get predicted class indices\n",
    "y_pred = np.argmax(Y_pred, axis=1)\n",
    "\n",
    "# Create confusion matrix\n",
    "cm = confusion_matrix(y_true, y_pred)\n",
    "\n",
    "# Plot confusion matrix\n",
    "disp = ConfusionMatrixDisplay(confusion_matrix=cm, display_labels=val_generator.class_indices.keys())\n",
    "disp.plot(cmap='Blues', values_format='d')\n",
    "plt.show()"
   ]
  },
  {
   "cell_type": "code",
   "execution_count": 34,
   "metadata": {},
   "outputs": [],
   "source": [
    "base_dir = '../output/approach-2/'"
   ]
  },
  {
   "cell_type": "code",
   "execution_count": 35,
   "metadata": {},
   "outputs": [],
   "source": [
    "datagen = ImageDataGenerator(rescale=1./255, validation_split=0.2)"
   ]
  },
  {
   "cell_type": "code",
   "execution_count": 23,
   "metadata": {},
   "outputs": [
    {
     "name": "stdout",
     "output_type": "stream",
     "text": [
      "Found 3756 images belonging to 3 classes.\n",
      "Found 937 images belonging to 3 classes.\n"
     ]
    }
   ],
   "source": [
    "train_generator = datagen.flow_from_directory(\n",
    "    base_dir,  \n",
    "    target_size=(224, 224),  \n",
    "    batch_size=64,\n",
    "    class_mode='categorical',  \n",
    "    color_mode='grayscale',  \n",
    "    subset='training'  \n",
    ")\n",
    "\n",
    "val_generator = datagen.flow_from_directory(\n",
    "    base_dir,  \n",
    "    target_size=(224, 224),  \n",
    "    batch_size=64,\n",
    "    class_mode='categorical',  \n",
    "    color_mode='grayscale',  \n",
    "    subset='validation'  \n",
    ")"
   ]
  },
  {
   "cell_type": "code",
   "execution_count": 24,
   "metadata": {},
   "outputs": [],
   "source": [
    "#{'learning_rate': 0.001, 'num_filters': 16, 'num_layers': 2, 'batch_size': 16, 'epochs': 20, 'optimizer': 'adagrad'}\n",
    "def create_model_3():\n",
    "    # Create a CNN model\n",
    "    model = Sequential()\n",
    "    model.add(Conv2D(16, (3, 3), activation='relu', input_shape=(224, 224, 1))) #, kernel_regularizer=regularizers.l2(0.001)\n",
    "    model.add(MaxPooling2D((2, 2)))\n",
    "    model.add(Conv2D(16, (3, 3), activation='relu')) # , kernel_regularizer=regularizers.l2(0.001)\n",
    "    model.add(MaxPooling2D((2, 2)))\n",
    "    #model.add(Conv2D(64, (3, 3), activation='relu'))\n",
    "    #model.add(MaxPooling2D((2, 2)))\n",
    "    model.add(Flatten())\n",
    "    model.add(Dense(16, activation='relu', kernel_regularizer=regularizers.l2(0.001)))\n",
    "    #model.add(Dropout(0.5))\n",
    "    #model.add(Dense(16, activation='relu', kernel_regularizer=regularizers.l2(0.001)))\n",
    "    model.add(Dense(3, activation='softmax'))  # 3 classes (0, 1, 2)\n",
    "    return model"
   ]
  },
  {
   "cell_type": "markdown",
   "metadata": {},
   "source": [
    "## Manual model Optuna"
   ]
  },
  {
   "cell_type": "code",
   "execution_count": 25,
   "metadata": {},
   "outputs": [],
   "source": [
    "import optuna"
   ]
  },
  {
   "cell_type": "code",
   "execution_count": 39,
   "metadata": {},
   "outputs": [],
   "source": [
    "def create_optuna_model(num_filters, num_layers,batch_norm, drop_out=0):\n",
    "    model = Sequential()\n",
    "    for _ in range(num_layers):\n",
    "        model.add(Conv2D(num_filters, (3, 3), activation='relu', input_shape=(224, 224, 1))) #, kernel_regularizer=regularizers.l2(0.001)\n",
    "        if batch_norm:\n",
    "            model.add(BatchNormalization())\n",
    "        if drop_out > 0:\n",
    "            model.add(Dropout(drop_out))\n",
    "        model.add(MaxPooling2D((2, 2)))\n",
    "    \n",
    "    model.add(Flatten())\n",
    "    model.add(Dense(num_filters, activation='relu', kernel_regularizer=regularizers.l2(0.001)))\n",
    "    #model.add(Dropout(0.5))\n",
    "    #model.add(Dense(16, activation='relu', kernel_regularizer=regularizers.l2(0.001)))\n",
    "    model.add(Dense(3, activation='softmax'))  # 3 classes (0, 1, 2)\n",
    "    return model"
   ]
  },
  {
   "cell_type": "code",
   "execution_count": 28,
   "metadata": {},
   "outputs": [],
   "source": [
    "def get_optimizer(name, learning_rate):\n",
    "    if name == 'adam':\n",
    "        return Adam(learning_rate=learning_rate)\n",
    "    elif name == 'sgd':\n",
    "        return SGD(learning_rate=learning_rate)\n",
    "    elif name == 'rmsprop':\n",
    "        return RMSprop(learning_rate=learning_rate)\n",
    "    elif name == 'adagrad':\n",
    "        return Adagrad(learning_rate=learning_rate)\n",
    "    elif name == 'adadelta':\n",
    "        return Adadelta(learning_rate=learning_rate)\n",
    "    elif name == 'adamax':\n",
    "        return Adamax(learning_rate=learning_rate)\n",
    "    elif name == 'nadam':\n",
    "        return Nadam(learning_rate=learning_rate)\n",
    "    else:\n",
    "        raise ValueError(f\"Unknown optimizer: {name}\")"
   ]
  },
  {
   "cell_type": "code",
   "execution_count": 40,
   "metadata": {},
   "outputs": [],
   "source": [
    "def objective(trial):\n",
    "\n",
    "    learning_rate = trial.suggest_categorical('learning_rate', [0.001, 0.01, 0.1])\n",
    "    num_filters = trial.suggest_categorical('num_filters', [16, 32])\n",
    "    num_layers = trial.suggest_int('num_layers', 1, 2, log=True)\n",
    "    batch_size = trial.suggest_categorical('batch_size', [16, 32, 64])\n",
    "    epochs = trial.suggest_categorical('epochs', [10, 15, 20])\n",
    "    optimizer_name = trial.suggest_categorical('optimizer', ['adam', 'sgd', 'rmsprop', 'adagrad', 'adadelta', 'adamax', 'nadam'])\n",
    "    batch_norm = trial.suggest_categorical('batch_norm', [True, False])\n",
    "    drop_out = trial.suggest_categorical('drop_out', [0.1, 0.2, 0.3])\n",
    "\n",
    "\n",
    "    model = create_optuna_model(num_filters, num_layers, batch_norm, drop_out=drop_out)\n",
    "\n",
    "    optimizer = get_optimizer(optimizer_name, learning_rate)\n",
    "    model.compile(optimizer=Adam(learning_rate=0.001), loss='categorical_crossentropy', metrics=['accuracy'])\n",
    "\n",
    "    # Split the data into training and validation sets\n",
    "    train_generator = datagen.flow_from_directory(\n",
    "        base_dir,  \n",
    "        target_size=(224, 224),  \n",
    "        batch_size=batch_size,\n",
    "        class_mode='categorical',  \n",
    "        color_mode='grayscale',  \n",
    "        subset='training'  \n",
    "    )\n",
    "\n",
    "    val_generator = datagen.flow_from_directory(\n",
    "        base_dir,  \n",
    "        target_size=(224, 224),  \n",
    "        batch_size=batch_size,\n",
    "        class_mode='categorical',  \n",
    "        color_mode='grayscale',  \n",
    "        subset='validation'  \n",
    "    )\n",
    "\n",
    "    history = model.fit(\n",
    "        train_generator,\n",
    "        steps_per_epoch=train_generator.n // train_generator.batch_size,\n",
    "        epochs=epochs,\n",
    "        validation_data=val_generator,\n",
    "        validation_steps=val_generator.n // val_generator.batch_size,\n",
    "        verbose=0\n",
    "    )\n",
    "\n",
    "    # Return the validation accuracy for Optuna to optimize\n",
    "    return history.history['val_accuracy'][-1]"
   ]
  },
  {
   "cell_type": "code",
   "execution_count": 41,
   "metadata": {},
   "outputs": [
    {
     "name": "stderr",
     "output_type": "stream",
     "text": [
      "[I 2024-01-18 21:22:53,230] A new study created in memory with name: no-name-e68b12dc-3d1f-4c7e-8f3d-4a3dc77ef555\n"
     ]
    },
    {
     "name": "stdout",
     "output_type": "stream",
     "text": [
      "Found 3756 images belonging to 3 classes.\n",
      "Found 937 images belonging to 3 classes.\n"
     ]
    },
    {
     "name": "stderr",
     "output_type": "stream",
     "text": [
      "[I 2024-01-18 21:27:03,503] Trial 0 finished with value: 0.3976293206214905 and parameters: {'learning_rate': 0.1, 'num_filters': 16, 'num_layers': 1, 'batch_size': 16, 'epochs': 20, 'optimizer': 'rmsprop', 'batch_norm': False, 'drop_out': 0.1}. Best is trial 0 with value: 0.3976293206214905.\n"
     ]
    },
    {
     "name": "stdout",
     "output_type": "stream",
     "text": [
      "Found 3756 images belonging to 3 classes.\n",
      "Found 937 images belonging to 3 classes.\n"
     ]
    },
    {
     "name": "stderr",
     "output_type": "stream",
     "text": [
      "[I 2024-01-18 21:30:08,732] Trial 1 finished with value: 0.39116379618644714 and parameters: {'learning_rate': 0.01, 'num_filters': 16, 'num_layers': 1, 'batch_size': 16, 'epochs': 15, 'optimizer': 'adagrad', 'batch_norm': False, 'drop_out': 0.2}. Best is trial 0 with value: 0.3976293206214905.\n"
     ]
    },
    {
     "name": "stdout",
     "output_type": "stream",
     "text": [
      "Found 3756 images belonging to 3 classes.\n",
      "Found 937 images belonging to 3 classes.\n"
     ]
    },
    {
     "name": "stderr",
     "output_type": "stream",
     "text": [
      "[I 2024-01-18 21:31:54,291] Trial 2 finished with value: 0.4170258641242981 and parameters: {'learning_rate': 0.1, 'num_filters': 32, 'num_layers': 1, 'batch_size': 32, 'epochs': 10, 'optimizer': 'adadelta', 'batch_norm': True, 'drop_out': 0.1}. Best is trial 2 with value: 0.4170258641242981.\n"
     ]
    },
    {
     "name": "stdout",
     "output_type": "stream",
     "text": [
      "Found 3756 images belonging to 3 classes.\n",
      "Found 937 images belonging to 3 classes.\n"
     ]
    },
    {
     "name": "stderr",
     "output_type": "stream",
     "text": [
      "[I 2024-01-18 21:34:31,512] Trial 3 finished with value: 0.3857758641242981 and parameters: {'learning_rate': 0.01, 'num_filters': 32, 'num_layers': 1, 'batch_size': 32, 'epochs': 15, 'optimizer': 'adagrad', 'batch_norm': True, 'drop_out': 0.2}. Best is trial 2 with value: 0.4170258641242981.\n"
     ]
    },
    {
     "name": "stdout",
     "output_type": "stream",
     "text": [
      "Found 3756 images belonging to 3 classes.\n",
      "Found 937 images belonging to 3 classes.\n"
     ]
    },
    {
     "name": "stderr",
     "output_type": "stream",
     "text": [
      "[I 2024-01-18 21:38:03,083] Trial 4 finished with value: 0.4612068831920624 and parameters: {'learning_rate': 0.01, 'num_filters': 32, 'num_layers': 2, 'batch_size': 32, 'epochs': 20, 'optimizer': 'adamax', 'batch_norm': False, 'drop_out': 0.1}. Best is trial 4 with value: 0.4612068831920624.\n"
     ]
    },
    {
     "name": "stdout",
     "output_type": "stream",
     "text": [
      "Found 3756 images belonging to 3 classes.\n",
      "Found 937 images belonging to 3 classes.\n"
     ]
    },
    {
     "name": "stderr",
     "output_type": "stream",
     "text": [
      "[I 2024-01-18 21:42:25,401] Trial 5 finished with value: 0.4030172526836395 and parameters: {'learning_rate': 0.1, 'num_filters': 16, 'num_layers': 2, 'batch_size': 16, 'epochs': 20, 'optimizer': 'adamax', 'batch_norm': True, 'drop_out': 0.2}. Best is trial 4 with value: 0.4612068831920624.\n"
     ]
    },
    {
     "name": "stdout",
     "output_type": "stream",
     "text": [
      "Found 3756 images belonging to 3 classes.\n",
      "Found 937 images belonging to 3 classes.\n"
     ]
    },
    {
     "name": "stderr",
     "output_type": "stream",
     "text": [
      "[I 2024-01-18 21:44:04,119] Trial 6 finished with value: 0.3973214328289032 and parameters: {'learning_rate': 0.01, 'num_filters': 16, 'num_layers': 2, 'batch_size': 64, 'epochs': 10, 'optimizer': 'adadelta', 'batch_norm': True, 'drop_out': 0.3}. Best is trial 4 with value: 0.4612068831920624.\n"
     ]
    },
    {
     "name": "stdout",
     "output_type": "stream",
     "text": [
      "Found 3756 images belonging to 3 classes.\n",
      "Found 937 images belonging to 3 classes.\n"
     ]
    },
    {
     "name": "stderr",
     "output_type": "stream",
     "text": [
      "[I 2024-01-18 21:46:22,303] Trial 7 finished with value: 0.3943965435028076 and parameters: {'learning_rate': 0.1, 'num_filters': 32, 'num_layers': 1, 'batch_size': 16, 'epochs': 10, 'optimizer': 'rmsprop', 'batch_norm': False, 'drop_out': 0.2}. Best is trial 4 with value: 0.4612068831920624.\n"
     ]
    },
    {
     "name": "stdout",
     "output_type": "stream",
     "text": [
      "Found 3756 images belonging to 3 classes.\n",
      "Found 937 images belonging to 3 classes.\n"
     ]
    },
    {
     "name": "stderr",
     "output_type": "stream",
     "text": [
      "[I 2024-01-18 21:48:17,114] Trial 8 finished with value: 0.4590517282485962 and parameters: {'learning_rate': 0.001, 'num_filters': 32, 'num_layers': 1, 'batch_size': 32, 'epochs': 10, 'optimizer': 'rmsprop', 'batch_norm': False, 'drop_out': 0.2}. Best is trial 4 with value: 0.4612068831920624.\n"
     ]
    },
    {
     "name": "stdout",
     "output_type": "stream",
     "text": [
      "Found 3756 images belonging to 3 classes.\n",
      "Found 937 images belonging to 3 classes.\n"
     ]
    },
    {
     "name": "stderr",
     "output_type": "stream",
     "text": [
      "[I 2024-01-18 21:52:43,305] Trial 9 finished with value: 0.36853447556495667 and parameters: {'learning_rate': 0.1, 'num_filters': 32, 'num_layers': 1, 'batch_size': 16, 'epochs': 20, 'optimizer': 'sgd', 'batch_norm': True, 'drop_out': 0.3}. Best is trial 4 with value: 0.4612068831920624.\n"
     ]
    },
    {
     "name": "stdout",
     "output_type": "stream",
     "text": [
      "Found 3756 images belonging to 3 classes.\n",
      "Found 937 images belonging to 3 classes.\n"
     ]
    },
    {
     "name": "stderr",
     "output_type": "stream",
     "text": [
      "[I 2024-01-18 21:55:57,308] Trial 10 finished with value: 0.4508928656578064 and parameters: {'learning_rate': 0.001, 'num_filters': 32, 'num_layers': 2, 'batch_size': 64, 'epochs': 20, 'optimizer': 'adamax', 'batch_norm': False, 'drop_out': 0.1}. Best is trial 4 with value: 0.4612068831920624.\n"
     ]
    },
    {
     "name": "stdout",
     "output_type": "stream",
     "text": [
      "Found 3756 images belonging to 3 classes.\n",
      "Found 937 images belonging to 3 classes.\n"
     ]
    },
    {
     "name": "stderr",
     "output_type": "stream",
     "text": [
      "[I 2024-01-18 21:57:44,559] Trial 11 finished with value: 0.4612068831920624 and parameters: {'learning_rate': 0.001, 'num_filters': 32, 'num_layers': 2, 'batch_size': 32, 'epochs': 10, 'optimizer': 'adam', 'batch_norm': False, 'drop_out': 0.1}. Best is trial 4 with value: 0.4612068831920624.\n"
     ]
    },
    {
     "name": "stdout",
     "output_type": "stream",
     "text": [
      "Found 3756 images belonging to 3 classes.\n",
      "Found 937 images belonging to 3 classes.\n"
     ]
    },
    {
     "name": "stderr",
     "output_type": "stream",
     "text": [
      "[I 2024-01-18 21:59:31,481] Trial 12 finished with value: 0.4612068831920624 and parameters: {'learning_rate': 0.001, 'num_filters': 32, 'num_layers': 2, 'batch_size': 32, 'epochs': 10, 'optimizer': 'adam', 'batch_norm': False, 'drop_out': 0.1}. Best is trial 4 with value: 0.4612068831920624.\n"
     ]
    },
    {
     "name": "stdout",
     "output_type": "stream",
     "text": [
      "Found 3756 images belonging to 3 classes.\n",
      "Found 937 images belonging to 3 classes.\n"
     ]
    },
    {
     "name": "stderr",
     "output_type": "stream",
     "text": [
      "[I 2024-01-18 22:03:09,446] Trial 13 finished with value: 0.4881465435028076 and parameters: {'learning_rate': 0.001, 'num_filters': 32, 'num_layers': 2, 'batch_size': 32, 'epochs': 20, 'optimizer': 'nadam', 'batch_norm': False, 'drop_out': 0.1}. Best is trial 13 with value: 0.4881465435028076.\n"
     ]
    },
    {
     "name": "stdout",
     "output_type": "stream",
     "text": [
      "Found 3756 images belonging to 3 classes.\n",
      "Found 937 images belonging to 3 classes.\n"
     ]
    },
    {
     "name": "stderr",
     "output_type": "stream",
     "text": [
      "[I 2024-01-18 22:06:46,755] Trial 14 finished with value: 0.4590517282485962 and parameters: {'learning_rate': 0.01, 'num_filters': 32, 'num_layers': 2, 'batch_size': 32, 'epochs': 20, 'optimizer': 'nadam', 'batch_norm': False, 'drop_out': 0.1}. Best is trial 13 with value: 0.4881465435028076.\n"
     ]
    },
    {
     "name": "stdout",
     "output_type": "stream",
     "text": [
      "Found 3756 images belonging to 3 classes.\n",
      "Found 937 images belonging to 3 classes.\n"
     ]
    },
    {
     "name": "stderr",
     "output_type": "stream",
     "text": [
      "[I 2024-01-18 22:10:21,372] Trial 15 finished with value: 0.4493534564971924 and parameters: {'learning_rate': 0.001, 'num_filters': 32, 'num_layers': 2, 'batch_size': 32, 'epochs': 20, 'optimizer': 'nadam', 'batch_norm': False, 'drop_out': 0.1}. Best is trial 13 with value: 0.4881465435028076.\n"
     ]
    },
    {
     "name": "stdout",
     "output_type": "stream",
     "text": [
      "Found 3756 images belonging to 3 classes.\n",
      "Found 937 images belonging to 3 classes.\n"
     ]
    },
    {
     "name": "stderr",
     "output_type": "stream",
     "text": [
      "[I 2024-01-18 22:13:57,069] Trial 16 finished with value: 0.4471982717514038 and parameters: {'learning_rate': 0.01, 'num_filters': 32, 'num_layers': 2, 'batch_size': 32, 'epochs': 20, 'optimizer': 'adamax', 'batch_norm': False, 'drop_out': 0.1}. Best is trial 13 with value: 0.4881465435028076.\n"
     ]
    },
    {
     "name": "stdout",
     "output_type": "stream",
     "text": [
      "Found 3756 images belonging to 3 classes.\n",
      "Found 937 images belonging to 3 classes.\n"
     ]
    },
    {
     "name": "stderr",
     "output_type": "stream",
     "text": [
      "[I 2024-01-18 22:17:06,202] Trial 17 finished with value: 0.4832589328289032 and parameters: {'learning_rate': 0.001, 'num_filters': 32, 'num_layers': 2, 'batch_size': 64, 'epochs': 20, 'optimizer': 'nadam', 'batch_norm': False, 'drop_out': 0.3}. Best is trial 13 with value: 0.4881465435028076.\n"
     ]
    },
    {
     "name": "stdout",
     "output_type": "stream",
     "text": [
      "Found 3756 images belonging to 3 classes.\n",
      "Found 937 images belonging to 3 classes.\n"
     ]
    },
    {
     "name": "stderr",
     "output_type": "stream",
     "text": [
      "[I 2024-01-18 22:19:28,082] Trial 18 finished with value: 0.4888392984867096 and parameters: {'learning_rate': 0.001, 'num_filters': 16, 'num_layers': 2, 'batch_size': 64, 'epochs': 15, 'optimizer': 'nadam', 'batch_norm': False, 'drop_out': 0.3}. Best is trial 18 with value: 0.4888392984867096.\n"
     ]
    },
    {
     "name": "stdout",
     "output_type": "stream",
     "text": [
      "Found 3756 images belonging to 3 classes.\n",
      "Found 937 images belonging to 3 classes.\n"
     ]
    },
    {
     "name": "stderr",
     "output_type": "stream",
     "text": [
      "[I 2024-01-18 22:21:50,198] Trial 19 finished with value: 0.4352678656578064 and parameters: {'learning_rate': 0.001, 'num_filters': 16, 'num_layers': 2, 'batch_size': 64, 'epochs': 15, 'optimizer': 'nadam', 'batch_norm': False, 'drop_out': 0.3}. Best is trial 18 with value: 0.4888392984867096.\n"
     ]
    },
    {
     "name": "stdout",
     "output_type": "stream",
     "text": [
      "Found 3756 images belonging to 3 classes.\n",
      "Found 937 images belonging to 3 classes.\n"
     ]
    },
    {
     "name": "stderr",
     "output_type": "stream",
     "text": [
      "[I 2024-01-18 22:24:15,366] Trial 20 finished with value: 0.4854910671710968 and parameters: {'learning_rate': 0.001, 'num_filters': 16, 'num_layers': 2, 'batch_size': 64, 'epochs': 15, 'optimizer': 'nadam', 'batch_norm': False, 'drop_out': 0.3}. Best is trial 18 with value: 0.4888392984867096.\n"
     ]
    },
    {
     "name": "stdout",
     "output_type": "stream",
     "text": [
      "Found 3756 images belonging to 3 classes.\n",
      "Found 937 images belonging to 3 classes.\n"
     ]
    },
    {
     "name": "stderr",
     "output_type": "stream",
     "text": [
      "[I 2024-01-18 22:26:39,804] Trial 21 finished with value: 0.4308035671710968 and parameters: {'learning_rate': 0.001, 'num_filters': 16, 'num_layers': 2, 'batch_size': 64, 'epochs': 15, 'optimizer': 'nadam', 'batch_norm': False, 'drop_out': 0.3}. Best is trial 18 with value: 0.4888392984867096.\n"
     ]
    },
    {
     "name": "stdout",
     "output_type": "stream",
     "text": [
      "Found 3756 images belonging to 3 classes.\n",
      "Found 937 images belonging to 3 classes.\n"
     ]
    },
    {
     "name": "stderr",
     "output_type": "stream",
     "text": [
      "[I 2024-01-18 22:29:04,117] Trial 22 finished with value: 0.4799107015132904 and parameters: {'learning_rate': 0.001, 'num_filters': 16, 'num_layers': 2, 'batch_size': 64, 'epochs': 15, 'optimizer': 'nadam', 'batch_norm': False, 'drop_out': 0.3}. Best is trial 18 with value: 0.4888392984867096.\n"
     ]
    },
    {
     "name": "stdout",
     "output_type": "stream",
     "text": [
      "Found 3756 images belonging to 3 classes.\n",
      "Found 937 images belonging to 3 classes.\n"
     ]
    },
    {
     "name": "stderr",
     "output_type": "stream",
     "text": [
      "[I 2024-01-18 22:31:27,390] Trial 23 finished with value: 0.4654017984867096 and parameters: {'learning_rate': 0.001, 'num_filters': 16, 'num_layers': 2, 'batch_size': 64, 'epochs': 15, 'optimizer': 'nadam', 'batch_norm': False, 'drop_out': 0.3}. Best is trial 18 with value: 0.4888392984867096.\n"
     ]
    },
    {
     "name": "stdout",
     "output_type": "stream",
     "text": [
      "Found 3756 images belonging to 3 classes.\n",
      "Found 937 images belonging to 3 classes.\n"
     ]
    },
    {
     "name": "stderr",
     "output_type": "stream",
     "text": [
      "[I 2024-01-18 22:33:51,481] Trial 24 finished with value: 0.4709821343421936 and parameters: {'learning_rate': 0.001, 'num_filters': 16, 'num_layers': 2, 'batch_size': 64, 'epochs': 15, 'optimizer': 'sgd', 'batch_norm': False, 'drop_out': 0.3}. Best is trial 18 with value: 0.4888392984867096.\n"
     ]
    },
    {
     "name": "stdout",
     "output_type": "stream",
     "text": [
      "Found 3756 images belonging to 3 classes.\n",
      "Found 937 images belonging to 3 classes.\n"
     ]
    },
    {
     "name": "stderr",
     "output_type": "stream",
     "text": [
      "[I 2024-01-18 22:36:14,705] Trial 25 finished with value: 0.4508928656578064 and parameters: {'learning_rate': 0.001, 'num_filters': 16, 'num_layers': 2, 'batch_size': 64, 'epochs': 15, 'optimizer': 'nadam', 'batch_norm': False, 'drop_out': 0.3}. Best is trial 18 with value: 0.4888392984867096.\n"
     ]
    },
    {
     "name": "stdout",
     "output_type": "stream",
     "text": [
      "Found 3756 images belonging to 3 classes.\n",
      "Found 937 images belonging to 3 classes.\n"
     ]
    },
    {
     "name": "stderr",
     "output_type": "stream",
     "text": [
      "[I 2024-01-18 22:38:36,561] Trial 26 finished with value: 0.3850446343421936 and parameters: {'learning_rate': 0.001, 'num_filters': 16, 'num_layers': 2, 'batch_size': 64, 'epochs': 15, 'optimizer': 'nadam', 'batch_norm': True, 'drop_out': 0.3}. Best is trial 18 with value: 0.4888392984867096.\n"
     ]
    },
    {
     "name": "stdout",
     "output_type": "stream",
     "text": [
      "Found 3756 images belonging to 3 classes.\n",
      "Found 937 images belonging to 3 classes.\n"
     ]
    },
    {
     "name": "stderr",
     "output_type": "stream",
     "text": [
      "[I 2024-01-18 22:40:58,416] Trial 27 finished with value: 0.4185267984867096 and parameters: {'learning_rate': 0.001, 'num_filters': 16, 'num_layers': 2, 'batch_size': 64, 'epochs': 15, 'optimizer': 'nadam', 'batch_norm': False, 'drop_out': 0.3}. Best is trial 18 with value: 0.4888392984867096.\n"
     ]
    },
    {
     "name": "stdout",
     "output_type": "stream",
     "text": [
      "Found 3756 images belonging to 3 classes.\n",
      "Found 937 images belonging to 3 classes.\n"
     ]
    },
    {
     "name": "stderr",
     "output_type": "stream",
     "text": [
      "[I 2024-01-18 22:43:20,398] Trial 28 finished with value: 0.4508928656578064 and parameters: {'learning_rate': 0.001, 'num_filters': 16, 'num_layers': 2, 'batch_size': 64, 'epochs': 15, 'optimizer': 'nadam', 'batch_norm': False, 'drop_out': 0.3}. Best is trial 18 with value: 0.4888392984867096.\n"
     ]
    },
    {
     "name": "stdout",
     "output_type": "stream",
     "text": [
      "Found 3756 images belonging to 3 classes.\n",
      "Found 937 images belonging to 3 classes.\n"
     ]
    },
    {
     "name": "stderr",
     "output_type": "stream",
     "text": [
      "[I 2024-01-18 22:45:42,467] Trial 29 finished with value: 0.46875 and parameters: {'learning_rate': 0.001, 'num_filters': 16, 'num_layers': 2, 'batch_size': 64, 'epochs': 15, 'optimizer': 'sgd', 'batch_norm': False, 'drop_out': 0.3}. Best is trial 18 with value: 0.4888392984867096.\n"
     ]
    },
    {
     "name": "stdout",
     "output_type": "stream",
     "text": [
      "Found 3756 images belonging to 3 classes.\n",
      "Found 937 images belonging to 3 classes.\n"
     ]
    },
    {
     "name": "stderr",
     "output_type": "stream",
     "text": [
      "[I 2024-01-18 22:49:01,823] Trial 30 finished with value: 0.3943965435028076 and parameters: {'learning_rate': 0.001, 'num_filters': 16, 'num_layers': 1, 'batch_size': 16, 'epochs': 15, 'optimizer': 'adam', 'batch_norm': False, 'drop_out': 0.1}. Best is trial 18 with value: 0.4888392984867096.\n"
     ]
    },
    {
     "name": "stdout",
     "output_type": "stream",
     "text": [
      "Found 3756 images belonging to 3 classes.\n",
      "Found 937 images belonging to 3 classes.\n"
     ]
    },
    {
     "name": "stderr",
     "output_type": "stream",
     "text": [
      "[I 2024-01-18 22:52:11,019] Trial 31 finished with value: 0.4542410671710968 and parameters: {'learning_rate': 0.001, 'num_filters': 32, 'num_layers': 2, 'batch_size': 64, 'epochs': 20, 'optimizer': 'nadam', 'batch_norm': False, 'drop_out': 0.3}. Best is trial 18 with value: 0.4888392984867096.\n"
     ]
    },
    {
     "name": "stdout",
     "output_type": "stream",
     "text": [
      "Found 3756 images belonging to 3 classes.\n",
      "Found 937 images belonging to 3 classes.\n"
     ]
    },
    {
     "name": "stderr",
     "output_type": "stream",
     "text": [
      "[I 2024-01-18 22:55:17,967] Trial 32 finished with value: 0.4642857015132904 and parameters: {'learning_rate': 0.001, 'num_filters': 32, 'num_layers': 2, 'batch_size': 64, 'epochs': 20, 'optimizer': 'adagrad', 'batch_norm': False, 'drop_out': 0.3}. Best is trial 18 with value: 0.4888392984867096.\n"
     ]
    },
    {
     "name": "stdout",
     "output_type": "stream",
     "text": [
      "Found 3756 images belonging to 3 classes.\n",
      "Found 937 images belonging to 3 classes.\n"
     ]
    },
    {
     "name": "stderr",
     "output_type": "stream",
     "text": [
      "[I 2024-01-18 22:58:27,726] Trial 33 finished with value: 0.4564732015132904 and parameters: {'learning_rate': 0.001, 'num_filters': 16, 'num_layers': 2, 'batch_size': 64, 'epochs': 20, 'optimizer': 'nadam', 'batch_norm': False, 'drop_out': 0.3}. Best is trial 18 with value: 0.4888392984867096.\n"
     ]
    },
    {
     "name": "stdout",
     "output_type": "stream",
     "text": [
      "Found 3756 images belonging to 3 classes.\n",
      "Found 937 images belonging to 3 classes.\n"
     ]
    },
    {
     "name": "stderr",
     "output_type": "stream",
     "text": [
      "[I 2024-01-18 23:01:36,442] Trial 34 finished with value: 0.4430803656578064 and parameters: {'learning_rate': 0.1, 'num_filters': 32, 'num_layers': 2, 'batch_size': 64, 'epochs': 20, 'optimizer': 'adadelta', 'batch_norm': False, 'drop_out': 0.3}. Best is trial 18 with value: 0.4888392984867096.\n"
     ]
    },
    {
     "name": "stdout",
     "output_type": "stream",
     "text": [
      "Found 3756 images belonging to 3 classes.\n",
      "Found 937 images belonging to 3 classes.\n"
     ]
    },
    {
     "name": "stderr",
     "output_type": "stream",
     "text": [
      "[I 2024-01-18 23:05:11,334] Trial 35 finished with value: 0.5290948152542114 and parameters: {'learning_rate': 0.001, 'num_filters': 32, 'num_layers': 2, 'batch_size': 32, 'epochs': 20, 'optimizer': 'adagrad', 'batch_norm': True, 'drop_out': 0.2}. Best is trial 35 with value: 0.5290948152542114.\n"
     ]
    },
    {
     "name": "stdout",
     "output_type": "stream",
     "text": [
      "Found 3756 images belonging to 3 classes.\n",
      "Found 937 images belonging to 3 classes.\n"
     ]
    },
    {
     "name": "stderr",
     "output_type": "stream",
     "text": [
      "[I 2024-01-18 23:08:45,380] Trial 36 finished with value: 0.3512931168079376 and parameters: {'learning_rate': 0.001, 'num_filters': 16, 'num_layers': 2, 'batch_size': 32, 'epochs': 20, 'optimizer': 'adagrad', 'batch_norm': True, 'drop_out': 0.2}. Best is trial 35 with value: 0.5290948152542114.\n"
     ]
    },
    {
     "name": "stdout",
     "output_type": "stream",
     "text": [
      "Found 3756 images belonging to 3 classes.\n",
      "Found 937 images belonging to 3 classes.\n"
     ]
    },
    {
     "name": "stderr",
     "output_type": "stream",
     "text": [
      "[I 2024-01-18 23:11:25,191] Trial 37 finished with value: 0.23275862634181976 and parameters: {'learning_rate': 0.1, 'num_filters': 32, 'num_layers': 2, 'batch_size': 32, 'epochs': 15, 'optimizer': 'adagrad', 'batch_norm': True, 'drop_out': 0.2}. Best is trial 35 with value: 0.5290948152542114.\n"
     ]
    },
    {
     "name": "stdout",
     "output_type": "stream",
     "text": [
      "Found 3756 images belonging to 3 classes.\n",
      "Found 937 images belonging to 3 classes.\n"
     ]
    },
    {
     "name": "stderr",
     "output_type": "stream",
     "text": [
      "[I 2024-01-18 23:14:56,655] Trial 38 finished with value: 0.3857758641242981 and parameters: {'learning_rate': 0.01, 'num_filters': 16, 'num_layers': 1, 'batch_size': 32, 'epochs': 20, 'optimizer': 'adagrad', 'batch_norm': True, 'drop_out': 0.2}. Best is trial 35 with value: 0.5290948152542114.\n"
     ]
    },
    {
     "name": "stdout",
     "output_type": "stream",
     "text": [
      "Found 3756 images belonging to 3 classes.\n",
      "Found 937 images belonging to 3 classes.\n"
     ]
    },
    {
     "name": "stderr",
     "output_type": "stream",
     "text": [
      "[I 2024-01-18 23:17:36,835] Trial 39 finished with value: 0.4364224076271057 and parameters: {'learning_rate': 0.001, 'num_filters': 32, 'num_layers': 2, 'batch_size': 32, 'epochs': 15, 'optimizer': 'rmsprop', 'batch_norm': True, 'drop_out': 0.2}. Best is trial 35 with value: 0.5290948152542114.\n"
     ]
    },
    {
     "name": "stdout",
     "output_type": "stream",
     "text": [
      "Best trial:\n",
      "Accuracy: 0.5290948152542114\n",
      "Best hyperparameters: {'learning_rate': 0.001, 'num_filters': 32, 'num_layers': 2, 'batch_size': 32, 'epochs': 20, 'optimizer': 'adagrad', 'batch_norm': True, 'drop_out': 0.2}\n"
     ]
    }
   ],
   "source": [
    "# with more hyper parameter\n",
    "# Create a study and optimize the objective function\n",
    "study = optuna.create_study(direction='maximize')\n",
    "study.optimize(objective, n_trials=40)\n",
    "\n",
    "# Print the best parameters found by Optuna\n",
    "print('Best trial:')\n",
    "trial = study.best_trial\n",
    "print('Accuracy: {}'.format(trial.value))\n",
    "print(\"Best hyperparameters: {}\".format(trial.params))"
   ]
  },
  {
   "cell_type": "code",
   "execution_count": 53,
   "metadata": {},
   "outputs": [
    {
     "data": {
      "application/vnd.plotly.v1+json": {
       "config": {
        "plotlyServerURL": "https://plot.ly",
        "staticPlot": true
       },
       "data": [
        {
         "mode": "markers",
         "name": "Objective Value",
         "type": "scatter",
         "x": [
          0,
          1,
          2,
          3,
          4,
          5,
          6,
          7,
          8,
          9,
          10,
          11,
          12,
          13,
          14,
          15,
          16,
          17,
          18,
          19,
          20,
          21,
          22,
          23,
          24,
          25,
          26,
          27,
          28,
          29,
          30,
          31,
          32,
          33,
          34,
          35,
          36,
          37,
          38,
          39
         ],
         "y": [
          0.3976293206214905,
          0.39116379618644714,
          0.4170258641242981,
          0.3857758641242981,
          0.4612068831920624,
          0.4030172526836395,
          0.3973214328289032,
          0.3943965435028076,
          0.4590517282485962,
          0.36853447556495667,
          0.4508928656578064,
          0.4612068831920624,
          0.4612068831920624,
          0.4881465435028076,
          0.4590517282485962,
          0.4493534564971924,
          0.4471982717514038,
          0.4832589328289032,
          0.4888392984867096,
          0.4352678656578064,
          0.4854910671710968,
          0.4308035671710968,
          0.4799107015132904,
          0.4654017984867096,
          0.4709821343421936,
          0.4508928656578064,
          0.3850446343421936,
          0.4185267984867096,
          0.4508928656578064,
          0.46875,
          0.3943965435028076,
          0.4542410671710968,
          0.4642857015132904,
          0.4564732015132904,
          0.4430803656578064,
          0.5290948152542114,
          0.3512931168079376,
          0.23275862634181976,
          0.3857758641242981,
          0.4364224076271057
         ]
        },
        {
         "mode": "lines",
         "name": "Best Value",
         "type": "scatter",
         "x": [
          0,
          1,
          2,
          3,
          4,
          5,
          6,
          7,
          8,
          9,
          10,
          11,
          12,
          13,
          14,
          15,
          16,
          17,
          18,
          19,
          20,
          21,
          22,
          23,
          24,
          25,
          26,
          27,
          28,
          29,
          30,
          31,
          32,
          33,
          34,
          35,
          36,
          37,
          38,
          39
         ],
         "y": [
          0.3976293206214905,
          0.3976293206214905,
          0.4170258641242981,
          0.4170258641242981,
          0.4612068831920624,
          0.4612068831920624,
          0.4612068831920624,
          0.4612068831920624,
          0.4612068831920624,
          0.4612068831920624,
          0.4612068831920624,
          0.4612068831920624,
          0.4612068831920624,
          0.4881465435028076,
          0.4881465435028076,
          0.4881465435028076,
          0.4881465435028076,
          0.4881465435028076,
          0.4888392984867096,
          0.4888392984867096,
          0.4888392984867096,
          0.4888392984867096,
          0.4888392984867096,
          0.4888392984867096,
          0.4888392984867096,
          0.4888392984867096,
          0.4888392984867096,
          0.4888392984867096,
          0.4888392984867096,
          0.4888392984867096,
          0.4888392984867096,
          0.4888392984867096,
          0.4888392984867096,
          0.4888392984867096,
          0.4888392984867096,
          0.5290948152542114,
          0.5290948152542114,
          0.5290948152542114,
          0.5290948152542114,
          0.5290948152542114
         ]
        },
        {
         "marker": {
          "color": "#cccccc"
         },
         "mode": "markers",
         "name": "Infeasible Trial",
         "showlegend": false,
         "type": "scatter",
         "x": [],
         "y": []
        }
       ],
       "layout": {
        "template": {
         "data": {
          "bar": [
           {
            "error_x": {
             "color": "#2a3f5f"
            },
            "error_y": {
             "color": "#2a3f5f"
            },
            "marker": {
             "line": {
              "color": "#E5ECF6",
              "width": 0.5
             },
             "pattern": {
              "fillmode": "overlay",
              "size": 10,
              "solidity": 0.2
             }
            },
            "type": "bar"
           }
          ],
          "barpolar": [
           {
            "marker": {
             "line": {
              "color": "#E5ECF6",
              "width": 0.5
             },
             "pattern": {
              "fillmode": "overlay",
              "size": 10,
              "solidity": 0.2
             }
            },
            "type": "barpolar"
           }
          ],
          "carpet": [
           {
            "aaxis": {
             "endlinecolor": "#2a3f5f",
             "gridcolor": "white",
             "linecolor": "white",
             "minorgridcolor": "white",
             "startlinecolor": "#2a3f5f"
            },
            "baxis": {
             "endlinecolor": "#2a3f5f",
             "gridcolor": "white",
             "linecolor": "white",
             "minorgridcolor": "white",
             "startlinecolor": "#2a3f5f"
            },
            "type": "carpet"
           }
          ],
          "choropleth": [
           {
            "colorbar": {
             "outlinewidth": 0,
             "ticks": ""
            },
            "type": "choropleth"
           }
          ],
          "contour": [
           {
            "colorbar": {
             "outlinewidth": 0,
             "ticks": ""
            },
            "colorscale": [
             [
              0,
              "#0d0887"
             ],
             [
              0.1111111111111111,
              "#46039f"
             ],
             [
              0.2222222222222222,
              "#7201a8"
             ],
             [
              0.3333333333333333,
              "#9c179e"
             ],
             [
              0.4444444444444444,
              "#bd3786"
             ],
             [
              0.5555555555555556,
              "#d8576b"
             ],
             [
              0.6666666666666666,
              "#ed7953"
             ],
             [
              0.7777777777777778,
              "#fb9f3a"
             ],
             [
              0.8888888888888888,
              "#fdca26"
             ],
             [
              1,
              "#f0f921"
             ]
            ],
            "type": "contour"
           }
          ],
          "contourcarpet": [
           {
            "colorbar": {
             "outlinewidth": 0,
             "ticks": ""
            },
            "type": "contourcarpet"
           }
          ],
          "heatmap": [
           {
            "colorbar": {
             "outlinewidth": 0,
             "ticks": ""
            },
            "colorscale": [
             [
              0,
              "#0d0887"
             ],
             [
              0.1111111111111111,
              "#46039f"
             ],
             [
              0.2222222222222222,
              "#7201a8"
             ],
             [
              0.3333333333333333,
              "#9c179e"
             ],
             [
              0.4444444444444444,
              "#bd3786"
             ],
             [
              0.5555555555555556,
              "#d8576b"
             ],
             [
              0.6666666666666666,
              "#ed7953"
             ],
             [
              0.7777777777777778,
              "#fb9f3a"
             ],
             [
              0.8888888888888888,
              "#fdca26"
             ],
             [
              1,
              "#f0f921"
             ]
            ],
            "type": "heatmap"
           }
          ],
          "heatmapgl": [
           {
            "colorbar": {
             "outlinewidth": 0,
             "ticks": ""
            },
            "colorscale": [
             [
              0,
              "#0d0887"
             ],
             [
              0.1111111111111111,
              "#46039f"
             ],
             [
              0.2222222222222222,
              "#7201a8"
             ],
             [
              0.3333333333333333,
              "#9c179e"
             ],
             [
              0.4444444444444444,
              "#bd3786"
             ],
             [
              0.5555555555555556,
              "#d8576b"
             ],
             [
              0.6666666666666666,
              "#ed7953"
             ],
             [
              0.7777777777777778,
              "#fb9f3a"
             ],
             [
              0.8888888888888888,
              "#fdca26"
             ],
             [
              1,
              "#f0f921"
             ]
            ],
            "type": "heatmapgl"
           }
          ],
          "histogram": [
           {
            "marker": {
             "pattern": {
              "fillmode": "overlay",
              "size": 10,
              "solidity": 0.2
             }
            },
            "type": "histogram"
           }
          ],
          "histogram2d": [
           {
            "colorbar": {
             "outlinewidth": 0,
             "ticks": ""
            },
            "colorscale": [
             [
              0,
              "#0d0887"
             ],
             [
              0.1111111111111111,
              "#46039f"
             ],
             [
              0.2222222222222222,
              "#7201a8"
             ],
             [
              0.3333333333333333,
              "#9c179e"
             ],
             [
              0.4444444444444444,
              "#bd3786"
             ],
             [
              0.5555555555555556,
              "#d8576b"
             ],
             [
              0.6666666666666666,
              "#ed7953"
             ],
             [
              0.7777777777777778,
              "#fb9f3a"
             ],
             [
              0.8888888888888888,
              "#fdca26"
             ],
             [
              1,
              "#f0f921"
             ]
            ],
            "type": "histogram2d"
           }
          ],
          "histogram2dcontour": [
           {
            "colorbar": {
             "outlinewidth": 0,
             "ticks": ""
            },
            "colorscale": [
             [
              0,
              "#0d0887"
             ],
             [
              0.1111111111111111,
              "#46039f"
             ],
             [
              0.2222222222222222,
              "#7201a8"
             ],
             [
              0.3333333333333333,
              "#9c179e"
             ],
             [
              0.4444444444444444,
              "#bd3786"
             ],
             [
              0.5555555555555556,
              "#d8576b"
             ],
             [
              0.6666666666666666,
              "#ed7953"
             ],
             [
              0.7777777777777778,
              "#fb9f3a"
             ],
             [
              0.8888888888888888,
              "#fdca26"
             ],
             [
              1,
              "#f0f921"
             ]
            ],
            "type": "histogram2dcontour"
           }
          ],
          "mesh3d": [
           {
            "colorbar": {
             "outlinewidth": 0,
             "ticks": ""
            },
            "type": "mesh3d"
           }
          ],
          "parcoords": [
           {
            "line": {
             "colorbar": {
              "outlinewidth": 0,
              "ticks": ""
             }
            },
            "type": "parcoords"
           }
          ],
          "pie": [
           {
            "automargin": true,
            "type": "pie"
           }
          ],
          "scatter": [
           {
            "fillpattern": {
             "fillmode": "overlay",
             "size": 10,
             "solidity": 0.2
            },
            "type": "scatter"
           }
          ],
          "scatter3d": [
           {
            "line": {
             "colorbar": {
              "outlinewidth": 0,
              "ticks": ""
             }
            },
            "marker": {
             "colorbar": {
              "outlinewidth": 0,
              "ticks": ""
             }
            },
            "type": "scatter3d"
           }
          ],
          "scattercarpet": [
           {
            "marker": {
             "colorbar": {
              "outlinewidth": 0,
              "ticks": ""
             }
            },
            "type": "scattercarpet"
           }
          ],
          "scattergeo": [
           {
            "marker": {
             "colorbar": {
              "outlinewidth": 0,
              "ticks": ""
             }
            },
            "type": "scattergeo"
           }
          ],
          "scattergl": [
           {
            "marker": {
             "colorbar": {
              "outlinewidth": 0,
              "ticks": ""
             }
            },
            "type": "scattergl"
           }
          ],
          "scattermapbox": [
           {
            "marker": {
             "colorbar": {
              "outlinewidth": 0,
              "ticks": ""
             }
            },
            "type": "scattermapbox"
           }
          ],
          "scatterpolar": [
           {
            "marker": {
             "colorbar": {
              "outlinewidth": 0,
              "ticks": ""
             }
            },
            "type": "scatterpolar"
           }
          ],
          "scatterpolargl": [
           {
            "marker": {
             "colorbar": {
              "outlinewidth": 0,
              "ticks": ""
             }
            },
            "type": "scatterpolargl"
           }
          ],
          "scatterternary": [
           {
            "marker": {
             "colorbar": {
              "outlinewidth": 0,
              "ticks": ""
             }
            },
            "type": "scatterternary"
           }
          ],
          "surface": [
           {
            "colorbar": {
             "outlinewidth": 0,
             "ticks": ""
            },
            "colorscale": [
             [
              0,
              "#0d0887"
             ],
             [
              0.1111111111111111,
              "#46039f"
             ],
             [
              0.2222222222222222,
              "#7201a8"
             ],
             [
              0.3333333333333333,
              "#9c179e"
             ],
             [
              0.4444444444444444,
              "#bd3786"
             ],
             [
              0.5555555555555556,
              "#d8576b"
             ],
             [
              0.6666666666666666,
              "#ed7953"
             ],
             [
              0.7777777777777778,
              "#fb9f3a"
             ],
             [
              0.8888888888888888,
              "#fdca26"
             ],
             [
              1,
              "#f0f921"
             ]
            ],
            "type": "surface"
           }
          ],
          "table": [
           {
            "cells": {
             "fill": {
              "color": "#EBF0F8"
             },
             "line": {
              "color": "white"
             }
            },
            "header": {
             "fill": {
              "color": "#C8D4E3"
             },
             "line": {
              "color": "white"
             }
            },
            "type": "table"
           }
          ]
         },
         "layout": {
          "annotationdefaults": {
           "arrowcolor": "#2a3f5f",
           "arrowhead": 0,
           "arrowwidth": 1
          },
          "autotypenumbers": "strict",
          "coloraxis": {
           "colorbar": {
            "outlinewidth": 0,
            "ticks": ""
           }
          },
          "colorscale": {
           "diverging": [
            [
             0,
             "#8e0152"
            ],
            [
             0.1,
             "#c51b7d"
            ],
            [
             0.2,
             "#de77ae"
            ],
            [
             0.3,
             "#f1b6da"
            ],
            [
             0.4,
             "#fde0ef"
            ],
            [
             0.5,
             "#f7f7f7"
            ],
            [
             0.6,
             "#e6f5d0"
            ],
            [
             0.7,
             "#b8e186"
            ],
            [
             0.8,
             "#7fbc41"
            ],
            [
             0.9,
             "#4d9221"
            ],
            [
             1,
             "#276419"
            ]
           ],
           "sequential": [
            [
             0,
             "#0d0887"
            ],
            [
             0.1111111111111111,
             "#46039f"
            ],
            [
             0.2222222222222222,
             "#7201a8"
            ],
            [
             0.3333333333333333,
             "#9c179e"
            ],
            [
             0.4444444444444444,
             "#bd3786"
            ],
            [
             0.5555555555555556,
             "#d8576b"
            ],
            [
             0.6666666666666666,
             "#ed7953"
            ],
            [
             0.7777777777777778,
             "#fb9f3a"
            ],
            [
             0.8888888888888888,
             "#fdca26"
            ],
            [
             1,
             "#f0f921"
            ]
           ],
           "sequentialminus": [
            [
             0,
             "#0d0887"
            ],
            [
             0.1111111111111111,
             "#46039f"
            ],
            [
             0.2222222222222222,
             "#7201a8"
            ],
            [
             0.3333333333333333,
             "#9c179e"
            ],
            [
             0.4444444444444444,
             "#bd3786"
            ],
            [
             0.5555555555555556,
             "#d8576b"
            ],
            [
             0.6666666666666666,
             "#ed7953"
            ],
            [
             0.7777777777777778,
             "#fb9f3a"
            ],
            [
             0.8888888888888888,
             "#fdca26"
            ],
            [
             1,
             "#f0f921"
            ]
           ]
          },
          "colorway": [
           "#636efa",
           "#EF553B",
           "#00cc96",
           "#ab63fa",
           "#FFA15A",
           "#19d3f3",
           "#FF6692",
           "#B6E880",
           "#FF97FF",
           "#FECB52"
          ],
          "font": {
           "color": "#2a3f5f"
          },
          "geo": {
           "bgcolor": "white",
           "lakecolor": "white",
           "landcolor": "#E5ECF6",
           "showlakes": true,
           "showland": true,
           "subunitcolor": "white"
          },
          "hoverlabel": {
           "align": "left"
          },
          "hovermode": "closest",
          "mapbox": {
           "style": "light"
          },
          "paper_bgcolor": "white",
          "plot_bgcolor": "#E5ECF6",
          "polar": {
           "angularaxis": {
            "gridcolor": "white",
            "linecolor": "white",
            "ticks": ""
           },
           "bgcolor": "#E5ECF6",
           "radialaxis": {
            "gridcolor": "white",
            "linecolor": "white",
            "ticks": ""
           }
          },
          "scene": {
           "xaxis": {
            "backgroundcolor": "#E5ECF6",
            "gridcolor": "white",
            "gridwidth": 2,
            "linecolor": "white",
            "showbackground": true,
            "ticks": "",
            "zerolinecolor": "white"
           },
           "yaxis": {
            "backgroundcolor": "#E5ECF6",
            "gridcolor": "white",
            "gridwidth": 2,
            "linecolor": "white",
            "showbackground": true,
            "ticks": "",
            "zerolinecolor": "white"
           },
           "zaxis": {
            "backgroundcolor": "#E5ECF6",
            "gridcolor": "white",
            "gridwidth": 2,
            "linecolor": "white",
            "showbackground": true,
            "ticks": "",
            "zerolinecolor": "white"
           }
          },
          "shapedefaults": {
           "line": {
            "color": "#2a3f5f"
           }
          },
          "ternary": {
           "aaxis": {
            "gridcolor": "white",
            "linecolor": "white",
            "ticks": ""
           },
           "baxis": {
            "gridcolor": "white",
            "linecolor": "white",
            "ticks": ""
           },
           "bgcolor": "#E5ECF6",
           "caxis": {
            "gridcolor": "white",
            "linecolor": "white",
            "ticks": ""
           }
          },
          "title": {
           "x": 0.05
          },
          "xaxis": {
           "automargin": true,
           "gridcolor": "white",
           "linecolor": "white",
           "ticks": "",
           "title": {
            "standoff": 15
           },
           "zerolinecolor": "white",
           "zerolinewidth": 2
          },
          "yaxis": {
           "automargin": true,
           "gridcolor": "white",
           "linecolor": "white",
           "ticks": "",
           "title": {
            "standoff": 15
           },
           "zerolinecolor": "white",
           "zerolinewidth": 2
          }
         }
        },
        "title": {
         "text": "Optimization History Plot"
        },
        "xaxis": {
         "title": {
          "text": "Trial"
         }
        },
        "yaxis": {
         "title": {
          "text": "Objective Value"
         }
        }
       }
      }
     },
     "metadata": {},
     "output_type": "display_data"
    }
   ],
   "source": [
    "from optuna.visualization import plot_optimization_history\n",
    "\n",
    "plotly_config = {\"staticPlot\": True}\n",
    "\n",
    "fig = plot_optimization_history(study)\n",
    "fig.show(config=plotly_config)"
   ]
  },
  {
   "cell_type": "code",
   "execution_count": 131,
   "metadata": {},
   "outputs": [
    {
     "data": {
      "image/png": "[encoded data removed]",
      "text/plain": [
       "<Figure size 800x400 with 2 Axes>"
      ]
     },
     "metadata": {},
     "output_type": "display_data"
    }
   ],
   "source": [
    "import matplotlib.pyplot as plt\n",
    "from tensorflow.keras.preprocessing.image import load_img, img_to_array\n",
    "\n",
    "# Assuming you have the original and normalized images stored in original_image and normalized_image\n",
    "\n",
    "# Load the original image\n",
    "original_image_path = '../output/tiles/branch_line_coupler_0_250_0_5.png'\n",
    "original_image = load_img(original_image_path, color_mode='grayscale', target_size=(500, 500))\n",
    "\n",
    "# Convert the original image to an array\n",
    "original_array = img_to_array(original_image)\n",
    "\n",
    "# Normalize the pixel values\n",
    "normalized_array = original_array / 255.0\n",
    "\n",
    "# Display the original and normalized images side by side\n",
    "plt.figure(figsize=(8, 4))\n",
    "\n",
    "# # Original Image\n",
    "# plt.subplot(1, 2, 1)\n",
    "# plt.imshow(np.squeeze(original_array), cmap='gray')\n",
    "# plt.title('Original Image')\n",
    "# plt.axis('off')\n",
    "\n",
    "# # Normalized Image\n",
    "# plt.subplot(1, 2, 2)\n",
    "# plt.imshow(np.squeeze(normalized_array), cmap='gray')\n",
    "# plt.title('Normalized Image')\n",
    "# plt.axis('off')\n",
    "\n",
    "# plt.show()\n",
    "\n",
    "# Plot the original image\n",
    "plt.subplot(1, 2, 1)\n",
    "plt.imshow(original_array.reshape(500, 500), cmap='gray')  # Assuming it's a grayscale image\n",
    "plt.title('Original Image')\n",
    "\n",
    "# Plot the normalized image\n",
    "plt.subplot(1, 2, 2)\n",
    "plt.imshow(normalized_array.reshape(500, 500), cmap='gray')  # Assuming it's a grayscale image\n",
    "plt.title('Normalized Image')\n",
    "\n",
    "plt.show()\n"
   ]
  },
  {
   "cell_type": "code",
   "execution_count": 133,
   "metadata": {},
   "outputs": [
    {
     "data": {
      "text/plain": [
       "array([[1.],\n",
       "       [1.],\n",
       "       [1.],\n",
       "       [1.],\n",
       "       [1.],\n",
       "       [1.],\n",
       "       [1.],\n",
       "       [1.],\n",
       "       [1.],\n",
       "       [1.],\n",
       "       [1.],\n",
       "       [1.],\n",
       "       [1.],\n",
       "       [1.],\n",
       "       [1.],\n",
       "       [1.],\n",
       "       [1.],\n",
       "       [1.],\n",
       "       [1.],\n",
       "       [1.],\n",
       "       [1.],\n",
       "       [1.],\n",
       "       [1.],\n",
       "       [1.],\n",
       "       [1.],\n",
       "       [1.],\n",
       "       [1.],\n",
       "       [1.],\n",
       "       [1.],\n",
       "       [1.],\n",
       "       [1.],\n",
       "       [1.],\n",
       "       [1.],\n",
       "       [1.],\n",
       "       [1.],\n",
       "       [1.],\n",
       "       [1.],\n",
       "       [1.],\n",
       "       [1.],\n",
       "       [1.],\n",
       "       [1.],\n",
       "       [1.],\n",
       "       [1.],\n",
       "       [1.],\n",
       "       [1.],\n",
       "       [1.],\n",
       "       [1.],\n",
       "       [1.],\n",
       "       [1.],\n",
       "       [1.],\n",
       "       [1.],\n",
       "       [1.],\n",
       "       [1.],\n",
       "       [1.],\n",
       "       [1.],\n",
       "       [1.],\n",
       "       [1.],\n",
       "       [1.],\n",
       "       [1.],\n",
       "       [1.],\n",
       "       [1.],\n",
       "       [1.],\n",
       "       [1.],\n",
       "       [1.],\n",
       "       [1.],\n",
       "       [1.],\n",
       "       [1.],\n",
       "       [1.],\n",
       "       [1.],\n",
       "       [1.],\n",
       "       [1.],\n",
       "       [1.],\n",
       "       [1.],\n",
       "       [1.],\n",
       "       [1.],\n",
       "       [1.],\n",
       "       [1.],\n",
       "       [1.],\n",
       "       [1.],\n",
       "       [1.],\n",
       "       [1.],\n",
       "       [1.],\n",
       "       [1.],\n",
       "       [1.],\n",
       "       [1.],\n",
       "       [1.],\n",
       "       [1.],\n",
       "       [1.],\n",
       "       [1.],\n",
       "       [1.],\n",
       "       [1.],\n",
       "       [1.],\n",
       "       [1.],\n",
       "       [1.],\n",
       "       [1.],\n",
       "       [1.],\n",
       "       [1.],\n",
       "       [1.],\n",
       "       [1.],\n",
       "       [1.],\n",
       "       [1.],\n",
       "       [1.],\n",
       "       [1.],\n",
       "       [1.],\n",
       "       [1.],\n",
       "       [1.],\n",
       "       [1.],\n",
       "       [1.],\n",
       "       [1.],\n",
       "       [1.],\n",
       "       [1.],\n",
       "       [1.],\n",
       "       [1.],\n",
       "       [1.],\n",
       "       [1.],\n",
       "       [1.],\n",
       "       [1.],\n",
       "       [1.],\n",
       "       [1.],\n",
       "       [1.],\n",
       "       [1.],\n",
       "       [1.],\n",
       "       [1.],\n",
       "       [1.],\n",
       "       [1.],\n",
       "       [1.],\n",
       "       [1.],\n",
       "       [1.],\n",
       "       [1.],\n",
       "       [1.],\n",
       "       [1.],\n",
       "       [1.],\n",
       "       [1.],\n",
       "       [1.],\n",
       "       [1.],\n",
       "       [1.],\n",
       "       [1.],\n",
       "       [1.],\n",
       "       [1.],\n",
       "       [1.],\n",
       "       [1.],\n",
       "       [1.],\n",
       "       [1.],\n",
       "       [1.],\n",
       "       [1.],\n",
       "       [1.],\n",
       "       [1.],\n",
       "       [1.],\n",
       "       [1.],\n",
       "       [1.],\n",
       "       [1.],\n",
       "       [1.],\n",
       "       [1.],\n",
       "       [1.],\n",
       "       [1.],\n",
       "       [1.],\n",
       "       [1.],\n",
       "       [1.],\n",
       "       [1.],\n",
       "       [1.],\n",
       "       [1.],\n",
       "       [1.],\n",
       "       [1.],\n",
       "       [1.],\n",
       "       [1.],\n",
       "       [1.],\n",
       "       [1.],\n",
       "       [1.],\n",
       "       [1.],\n",
       "       [1.],\n",
       "       [1.],\n",
       "       [1.],\n",
       "       [1.],\n",
       "       [1.],\n",
       "       [1.],\n",
       "       [1.],\n",
       "       [1.],\n",
       "       [1.],\n",
       "       [1.],\n",
       "       [1.],\n",
       "       [1.],\n",
       "       [1.],\n",
       "       [1.],\n",
       "       [1.],\n",
       "       [1.],\n",
       "       [1.],\n",
       "       [1.],\n",
       "       [1.],\n",
       "       [1.],\n",
       "       [1.],\n",
       "       [1.],\n",
       "       [1.],\n",
       "       [1.],\n",
       "       [1.],\n",
       "       [1.],\n",
       "       [1.],\n",
       "       [1.],\n",
       "       [1.],\n",
       "       [1.],\n",
       "       [1.],\n",
       "       [1.],\n",
       "       [1.],\n",
       "       [1.],\n",
       "       [1.],\n",
       "       [1.],\n",
       "       [1.],\n",
       "       [1.],\n",
       "       [1.],\n",
       "       [1.],\n",
       "       [1.],\n",
       "       [1.],\n",
       "       [1.],\n",
       "       [1.],\n",
       "       [1.],\n",
       "       [1.],\n",
       "       [1.],\n",
       "       [1.],\n",
       "       [1.],\n",
       "       [1.],\n",
       "       [1.],\n",
       "       [1.],\n",
       "       [1.],\n",
       "       [1.],\n",
       "       [1.],\n",
       "       [1.],\n",
       "       [1.],\n",
       "       [1.],\n",
       "       [1.],\n",
       "       [1.],\n",
       "       [1.],\n",
       "       [1.],\n",
       "       [1.],\n",
       "       [1.],\n",
       "       [1.],\n",
       "       [1.],\n",
       "       [1.],\n",
       "       [1.],\n",
       "       [1.],\n",
       "       [1.],\n",
       "       [1.],\n",
       "       [1.],\n",
       "       [1.],\n",
       "       [1.],\n",
       "       [1.],\n",
       "       [1.],\n",
       "       [1.],\n",
       "       [1.],\n",
       "       [1.],\n",
       "       [1.],\n",
       "       [1.],\n",
       "       [1.],\n",
       "       [1.],\n",
       "       [1.],\n",
       "       [1.],\n",
       "       [1.],\n",
       "       [1.],\n",
       "       [1.],\n",
       "       [1.],\n",
       "       [1.],\n",
       "       [1.],\n",
       "       [1.],\n",
       "       [1.],\n",
       "       [1.],\n",
       "       [1.],\n",
       "       [1.],\n",
       "       [1.],\n",
       "       [1.],\n",
       "       [1.],\n",
       "       [1.],\n",
       "       [1.],\n",
       "       [1.],\n",
       "       [1.],\n",
       "       [1.],\n",
       "       [1.],\n",
       "       [1.],\n",
       "       [1.],\n",
       "       [1.],\n",
       "       [1.],\n",
       "       [1.],\n",
       "       [1.],\n",
       "       [1.],\n",
       "       [1.],\n",
       "       [1.],\n",
       "       [1.],\n",
       "       [1.],\n",
       "       [1.],\n",
       "       [1.],\n",
       "       [1.],\n",
       "       [1.],\n",
       "       [1.],\n",
       "       [1.],\n",
       "       [1.],\n",
       "       [1.],\n",
       "       [1.],\n",
       "       [1.],\n",
       "       [1.],\n",
       "       [1.],\n",
       "       [1.],\n",
       "       [1.],\n",
       "       [1.],\n",
       "       [1.],\n",
       "       [1.],\n",
       "       [1.],\n",
       "       [1.],\n",
       "       [1.],\n",
       "       [1.],\n",
       "       [1.],\n",
       "       [1.],\n",
       "       [1.],\n",
       "       [1.],\n",
       "       [1.],\n",
       "       [1.],\n",
       "       [0.],\n",
       "       [0.],\n",
       "       [0.],\n",
       "       [0.],\n",
       "       [0.],\n",
       "       [0.],\n",
       "       [0.],\n",
       "       [0.],\n",
       "       [0.],\n",
       "       [0.],\n",
       "       [0.],\n",
       "       [0.],\n",
       "       [0.],\n",
       "       [0.],\n",
       "       [0.],\n",
       "       [0.],\n",
       "       [0.],\n",
       "       [0.],\n",
       "       [0.],\n",
       "       [0.],\n",
       "       [0.],\n",
       "       [0.],\n",
       "       [0.],\n",
       "       [0.],\n",
       "       [0.],\n",
       "       [0.],\n",
       "       [0.],\n",
       "       [0.],\n",
       "       [0.],\n",
       "       [0.],\n",
       "       [0.],\n",
       "       [0.],\n",
       "       [0.],\n",
       "       [0.],\n",
       "       [0.],\n",
       "       [0.],\n",
       "       [0.],\n",
       "       [0.],\n",
       "       [0.],\n",
       "       [0.],\n",
       "       [0.],\n",
       "       [0.],\n",
       "       [0.],\n",
       "       [0.],\n",
       "       [0.],\n",
       "       [0.],\n",
       "       [0.],\n",
       "       [0.],\n",
       "       [0.],\n",
       "       [0.],\n",
       "       [0.],\n",
       "       [0.],\n",
       "       [0.],\n",
       "       [0.],\n",
       "       [0.],\n",
       "       [0.],\n",
       "       [0.],\n",
       "       [0.],\n",
       "       [0.],\n",
       "       [0.],\n",
       "       [0.],\n",
       "       [0.],\n",
       "       [0.],\n",
       "       [0.],\n",
       "       [0.],\n",
       "       [0.],\n",
       "       [0.],\n",
       "       [0.],\n",
       "       [0.],\n",
       "       [0.],\n",
       "       [0.],\n",
       "       [0.],\n",
       "       [0.],\n",
       "       [0.],\n",
       "       [0.],\n",
       "       [0.],\n",
       "       [0.],\n",
       "       [0.],\n",
       "       [0.],\n",
       "       [0.],\n",
       "       [0.],\n",
       "       [0.],\n",
       "       [0.],\n",
       "       [0.],\n",
       "       [0.],\n",
       "       [0.],\n",
       "       [0.],\n",
       "       [0.],\n",
       "       [0.],\n",
       "       [0.],\n",
       "       [0.],\n",
       "       [0.],\n",
       "       [0.],\n",
       "       [0.],\n",
       "       [0.],\n",
       "       [0.],\n",
       "       [0.],\n",
       "       [0.],\n",
       "       [0.],\n",
       "       [0.],\n",
       "       [0.],\n",
       "       [0.],\n",
       "       [0.],\n",
       "       [0.],\n",
       "       [0.],\n",
       "       [0.],\n",
       "       [0.],\n",
       "       [0.],\n",
       "       [0.],\n",
       "       [0.],\n",
       "       [0.],\n",
       "       [0.],\n",
       "       [0.],\n",
       "       [0.],\n",
       "       [0.],\n",
       "       [0.],\n",
       "       [0.],\n",
       "       [0.],\n",
       "       [0.],\n",
       "       [0.],\n",
       "       [0.],\n",
       "       [0.],\n",
       "       [0.],\n",
       "       [0.],\n",
       "       [0.],\n",
       "       [0.],\n",
       "       [0.],\n",
       "       [0.],\n",
       "       [0.],\n",
       "       [0.],\n",
       "       [0.],\n",
       "       [0.],\n",
       "       [0.],\n",
       "       [0.],\n",
       "       [0.],\n",
       "       [0.],\n",
       "       [0.],\n",
       "       [0.],\n",
       "       [0.],\n",
       "       [0.],\n",
       "       [0.],\n",
       "       [0.],\n",
       "       [0.],\n",
       "       [0.],\n",
       "       [0.],\n",
       "       [0.],\n",
       "       [0.],\n",
       "       [0.],\n",
       "       [0.],\n",
       "       [0.],\n",
       "       [0.],\n",
       "       [0.],\n",
       "       [0.],\n",
       "       [0.],\n",
       "       [0.],\n",
       "       [0.],\n",
       "       [0.],\n",
       "       [0.],\n",
       "       [0.],\n",
       "       [0.],\n",
       "       [0.],\n",
       "       [0.],\n",
       "       [0.],\n",
       "       [0.],\n",
       "       [0.],\n",
       "       [0.],\n",
       "       [0.],\n",
       "       [0.],\n",
       "       [0.],\n",
       "       [0.],\n",
       "       [0.],\n",
       "       [0.],\n",
       "       [0.],\n",
       "       [0.],\n",
       "       [0.],\n",
       "       [0.],\n",
       "       [0.],\n",
       "       [0.],\n",
       "       [0.],\n",
       "       [0.],\n",
       "       [0.],\n",
       "       [0.],\n",
       "       [0.],\n",
       "       [0.],\n",
       "       [0.],\n",
       "       [0.],\n",
       "       [0.],\n",
       "       [0.]], dtype=float32)"
      ]
     },
     "execution_count": 133,
     "metadata": {},
     "output_type": "execute_result"
    }
   ],
   "source": [
    "normalized_array[50]"
   ]
  },
  {
   "cell_type": "code",
   "execution_count": 119,
   "metadata": {},
   "outputs": [
    {
     "name": "stdout",
     "output_type": "stream",
     "text": [
      "Epoch 1/20\n",
      "58/58 [==============================] - 9s 146ms/step - loss: 1.1030 - accuracy: 0.4076 - val_loss: 1.1042 - val_accuracy: 0.3973\n",
      "Epoch 2/20\n",
      "58/58 [==============================] - 8s 141ms/step - loss: 1.0324 - accuracy: 0.5160 - val_loss: 1.0757 - val_accuracy: 0.4576\n",
      "Epoch 3/20\n",
      "58/58 [==============================] - 8s 139ms/step - loss: 0.9679 - accuracy: 0.5431 - val_loss: 1.0449 - val_accuracy: 0.4754\n",
      "Epoch 4/20\n",
      "58/58 [==============================] - 7s 124ms/step - loss: 0.8927 - accuracy: 0.5791 - val_loss: 1.0258 - val_accuracy: 0.4821\n",
      "Epoch 5/20\n",
      "58/58 [==============================] - 8s 140ms/step - loss: 0.8383 - accuracy: 0.6108 - val_loss: 1.0130 - val_accuracy: 0.4900\n",
      "Epoch 6/20\n",
      "58/58 [==============================] - 8s 137ms/step - loss: 0.7774 - accuracy: 0.6528 - val_loss: 1.0449 - val_accuracy: 0.5033\n",
      "Epoch 7/20\n",
      "58/58 [==============================] - 8s 143ms/step - loss: 0.7573 - accuracy: 0.6506 - val_loss: 1.0049 - val_accuracy: 0.4900\n",
      "Epoch 8/20\n",
      "58/58 [==============================] - 8s 139ms/step - loss: 0.7259 - accuracy: 0.6736 - val_loss: 1.0047 - val_accuracy: 0.4955\n",
      "Epoch 9/20\n",
      "58/58 [==============================] - 8s 137ms/step - loss: 0.7041 - accuracy: 0.6904 - val_loss: 1.0063 - val_accuracy: 0.5011\n",
      "Epoch 10/20\n",
      "58/58 [==============================] - 8s 141ms/step - loss: 0.6906 - accuracy: 0.6991 - val_loss: 1.0033 - val_accuracy: 0.5056\n",
      "Epoch 11/20\n",
      "58/58 [==============================] - 8s 142ms/step - loss: 0.6786 - accuracy: 0.7067 - val_loss: 1.0241 - val_accuracy: 0.5112\n",
      "Epoch 12/20\n",
      "58/58 [==============================] - 8s 137ms/step - loss: 0.6703 - accuracy: 0.7075 - val_loss: 1.0136 - val_accuracy: 0.5022\n",
      "Epoch 13/20\n",
      "58/58 [==============================] - 8s 142ms/step - loss: 0.6638 - accuracy: 0.7207 - val_loss: 1.0079 - val_accuracy: 0.5223\n",
      "Epoch 14/20\n",
      "58/58 [==============================] - 8s 140ms/step - loss: 0.6496 - accuracy: 0.7221 - val_loss: 0.9960 - val_accuracy: 0.5212\n",
      "Epoch 15/20\n",
      "58/58 [==============================] - 8s 143ms/step - loss: 0.6566 - accuracy: 0.7156 - val_loss: 0.9947 - val_accuracy: 0.5123\n",
      "Epoch 16/20\n",
      "58/58 [==============================] - 8s 142ms/step - loss: 0.6427 - accuracy: 0.7297 - val_loss: 1.0449 - val_accuracy: 0.5112\n",
      "Epoch 17/20\n",
      "58/58 [==============================] - 8s 140ms/step - loss: 0.6285 - accuracy: 0.7335 - val_loss: 1.0562 - val_accuracy: 0.4922\n",
      "Epoch 18/20\n",
      "58/58 [==============================] - 8s 139ms/step - loss: 0.6255 - accuracy: 0.7346 - val_loss: 1.0293 - val_accuracy: 0.5268\n",
      "Epoch 19/20\n",
      "58/58 [==============================] - 8s 139ms/step - loss: 0.6213 - accuracy: 0.7367 - val_loss: 1.0009 - val_accuracy: 0.5413\n",
      "Epoch 20/20\n",
      "58/58 [==============================] - 8s 141ms/step - loss: 0.6111 - accuracy: 0.7375 - val_loss: 1.0470 - val_accuracy: 0.4944\n"
     ]
    }
   ],
   "source": [
    "model_3 = create_model_3()\n",
    "model_3.compile(optimizer=Adagrad(learning_rate=0.01), loss='categorical_crossentropy', metrics=['accuracy'])\n",
    "history = model_3.fit(\n",
    "    train_generator,\n",
    "    steps_per_epoch=train_generator.n // train_generator.batch_size,\n",
    "    epochs=20,\n",
    "    validation_data=val_generator,\n",
    "    validation_steps=val_generator.n // val_generator.batch_size  \n",
    ")"
   ]
  },
  {
   "cell_type": "code",
   "execution_count": 27,
   "metadata": {},
   "outputs": [],
   "source": [
    "model.save('../output/model.h5')"
   ]
  },
  {
   "cell_type": "code",
   "execution_count": 112,
   "metadata": {},
   "outputs": [],
   "source": [
    "plt.rcParams.update({'font.size': 15})\n",
    "def showDetails_3(history, k):\n",
    "    plt.figure(figsize=(8, 6))\n",
    "    #plt.subplot(1, 2, 1)\n",
    "    plt.plot(history.history['accuracy'], label='Training Accuracy')\n",
    "    plt.plot(history.history['val_accuracy'], label='Validation Accuracy')\n",
    "    plt.ylim([0,1.2])\n",
    "    plt.xlabel('Epochs')\n",
    "    plt.ylabel('Accuracy')\n",
    "    plt.legend()\n",
    "    #plt.title(k)\n",
    "    plt.show()\n",
    "\n",
    "    plt.figure(figsize=(8,6))\n",
    "    #plt.subplot(1, 2, 2)\n",
    "    plt.plot(history.history['loss'], label='Training Loss')\n",
    "    plt.plot(history.history['val_loss'], label='Validation Loss')\n",
    "    plt.ylim([0.0,2])\n",
    "    plt.xlabel('Epochs')\n",
    "    plt.ylabel('Loss')\n",
    "    plt.legend()\n",
    "    #plt.title(k)\n",
    "\n",
    "    plt.show()"
   ]
  },
  {
   "cell_type": "code",
   "execution_count": 134,
   "metadata": {},
   "outputs": [
    {
     "data": {
      "image/png": "[encoded data removed]",
      "text/plain": [
       "<Figure size 800x600 with 1 Axes>"
      ]
     },
     "metadata": {},
     "output_type": "display_data"
    },
    {
     "data": {
      "image/png": "[encoded data removed]",
      "text/plain": [
       "<Figure size 800x600 with 1 Axes>"
      ]
     },
     "metadata": {},
     "output_type": "display_data"
    }
   ],
   "source": [
    "showDetails_3(history, 'Classification')"
   ]
  },
  {
   "cell_type": "code",
   "execution_count": 135,
   "metadata": {},
   "outputs": [
    {
     "name": "stdout",
     "output_type": "stream",
     "text": [
      "15/15 [==============================] - 13s 902ms/step\n"
     ]
    }
   ],
   "source": [
    "# Get predictions\n",
    "Y_pred = model_3.predict(val_generator)\n",
    "y_pred = np.argmax(Y_pred, axis=1)\n",
    "labels = {0: 'Low', 1: 'Mid', 2: 'High'}\n",
    "#labels = {0: 'Low', 1: 'High'}\n",
    "#validation_labels = [labels[k] for k in val_generator.classes]\n",
    "validation_labels = val_generator.classes\n",
    "#print(y_pred)\n",
    "y_true = val_generator.classes"
   ]
  },
  {
   "cell_type": "code",
   "execution_count": 136,
   "metadata": {},
   "outputs": [
    {
     "data": {
      "image/png": "[encoded data removed]",
      "text/plain": [
       "<Figure size 800x600 with 2 Axes>"
      ]
     },
     "metadata": {},
     "output_type": "display_data"
    },
    {
     "name": "stdout",
     "output_type": "stream",
     "text": [
      "              precision    recall  f1-score   support\n",
      "\n",
      "         Low       0.28      0.17      0.21       271\n",
      "         Mid       0.33      0.50      0.39       297\n",
      "        High       0.41      0.35      0.37       369\n",
      "\n",
      "    accuracy                           0.34       937\n",
      "   macro avg       0.34      0.34      0.33       937\n",
      "weighted avg       0.34      0.34      0.33       937\n",
      "\n"
     ]
    }
   ],
   "source": [
    "# Plot confusion matrix with numerical values\n",
    "conf_mat = confusion_matrix(y_true, y_pred)\n",
    "plt.figure(figsize=(8, 6))\n",
    "sns.heatmap(conf_mat, annot=True, fmt='d', cmap='Blues', xticklabels=labels.values(), yticklabels=labels.values())\n",
    "plt.title('Confusion Matrix')\n",
    "plt.xlabel('Predicted')\n",
    "plt.ylabel('True')\n",
    "plt.show()\n",
    "\n",
    "# Print classification report\n",
    "print(classification_report(y_true, y_pred, target_names=labels.values()))"
   ]
  },
  {
   "cell_type": "code",
   "execution_count": null,
   "metadata": {},
   "outputs": [],
   "source": []
  },
  {
   "cell_type": "code",
   "execution_count": 35,
   "metadata": {},
   "outputs": [],
   "source": [
    "import os\n",
    "from PIL import Image\n",
    "import numpy as np\n",
    "from tensorflow.keras.preprocessing.image import ImageDataGenerator, img_to_array\n",
    "from tensorflow.keras.models import Sequential\n",
    "from tensorflow.keras.layers import Conv2D, MaxPooling2D, Flatten, Dense\n",
    "from tensorflow.keras.regularizers import l2\n",
    "import cv2"
   ]
  },
  {
   "cell_type": "code",
   "execution_count": 29,
   "metadata": {},
   "outputs": [],
   "source": [
    "base_dir = '../output/approach-2/'"
   ]
  },
  {
   "cell_type": "code",
   "execution_count": 30,
   "metadata": {},
   "outputs": [],
   "source": [
    "# Create an ImageDataGenerator with rescaling\n",
    "datagen = ImageDataGenerator(rescale=1./255, validation_split=0.2)"
   ]
  },
  {
   "cell_type": "code",
   "execution_count": 31,
   "metadata": {},
   "outputs": [],
   "source": [
    "def apply_sobel(image_array):\n",
    "    sobel_image_array = cv2.Sobel(image_array, cv2.CV_64F, 1, 0, ksize=3)\n",
    "    return np.expand_dims(sobel_image_array, axis=-1)"
   ]
  },
  {
   "cell_type": "code",
   "execution_count": 32,
   "metadata": {},
   "outputs": [],
   "source": [
    "def custom_data_generator(directory, subset, batch_size):\n",
    "    generator = datagen.flow_from_directory(\n",
    "        directory,\n",
    "        target_size=(64, 64),\n",
    "        batch_size=batch_size,\n",
    "        class_mode='categorical',\n",
    "        color_mode='grayscale',\n",
    "        subset=subset\n",
    "    )\n",
    "\n",
    "    for data_batch, labels_batch in generator:\n",
    "        sobel_data_batch = np.array([apply_sobel(image) for image in data_batch])\n",
    "        yield sobel_data_batch, labels_batch"
   ]
  },
  {
   "cell_type": "code",
   "execution_count": 33,
   "metadata": {},
   "outputs": [],
   "source": [
    "model = Sequential()\n",
    "model.add(Conv2D(16, (3, 3), activation='relu', input_shape=(64, 64, 1), kernel_regularizer=l2(0.001)))\n",
    "model.add(MaxPooling2D((2, 2)))\n",
    "model.add(Conv2D(32, (3, 3), activation='relu', kernel_regularizer=l2(0.001)))\n",
    "model.add(MaxPooling2D((2, 2)))\n",
    "model.add(Flatten())\n",
    "model.add(Dense(32, activation='relu', kernel_regularizer=l2(0.001)))\n",
    "model.add(Dense(3, activation='softmax'))  # Assuming 3 classes\n",
    "\n",
    "model.compile(optimizer='adam', loss='categorical_crossentropy', metrics=['accuracy'])\n"
   ]
  },
  {
   "cell_type": "code",
   "execution_count": 36,
   "metadata": {},
   "outputs": [
    {
     "name": "stdout",
     "output_type": "stream",
     "text": [
      "Found 3756 images belonging to 3 classes.\n",
      "Epoch 1/10\n",
      "100/100 [==============================] - ETA: 0s - loss: 0.9733 - accuracy: 0.5628Found 937 images belonging to 3 classes.\n",
      "100/100 [==============================] - 51s 513ms/step - loss: 0.9733 - accuracy: 0.5628 - val_loss: 1.1364 - val_accuracy: 0.4344\n",
      "Epoch 2/10\n",
      "100/100 [==============================] - 14s 142ms/step - loss: 0.7863 - accuracy: 0.6764 - val_loss: 1.2682 - val_accuracy: 0.4395\n",
      "Epoch 3/10\n",
      "100/100 [==============================] - 9s 88ms/step - loss: 0.7003 - accuracy: 0.7220 - val_loss: 1.3501 - val_accuracy: 0.4961\n",
      "Epoch 4/10\n",
      "100/100 [==============================] - 9s 88ms/step - loss: 0.6240 - accuracy: 0.7563 - val_loss: 1.3843 - val_accuracy: 0.4933\n",
      "Epoch 5/10\n",
      "100/100 [==============================] - 9s 87ms/step - loss: 0.6003 - accuracy: 0.7789 - val_loss: 1.4143 - val_accuracy: 0.4903\n",
      "Epoch 6/10\n",
      "100/100 [==============================] - 8s 85ms/step - loss: 0.5762 - accuracy: 0.7991 - val_loss: 1.5106 - val_accuracy: 0.4595\n",
      "Epoch 7/10\n",
      "100/100 [==============================] - 9s 87ms/step - loss: 0.5038 - accuracy: 0.8484 - val_loss: 1.5528 - val_accuracy: 0.4781\n",
      "Epoch 8/10\n",
      "100/100 [==============================] - 9s 93ms/step - loss: 0.4662 - accuracy: 0.8597 - val_loss: 1.6503 - val_accuracy: 0.4936\n",
      "Epoch 9/10\n",
      "100/100 [==============================] - 9s 91ms/step - loss: 0.4316 - accuracy: 0.8849 - val_loss: 1.9209 - val_accuracy: 0.4891\n",
      "Epoch 10/10\n",
      "100/100 [==============================] - 9s 88ms/step - loss: 0.4146 - accuracy: 0.8947 - val_loss: 1.9836 - val_accuracy: 0.4965\n"
     ]
    }
   ],
   "source": [
    "history = model.fit(\n",
    "    custom_data_generator(base_dir, 'training', batch_size=32),\n",
    "    steps_per_epoch=100,  # Adjust as needed\n",
    "    epochs=10,\n",
    "    validation_data=custom_data_generator(base_dir, 'validation', batch_size=32),\n",
    "    validation_steps=50  # Adjust as needed\n",
    ")"
   ]
  },
  {
   "cell_type": "code",
   "execution_count": 52,
   "metadata": {},
   "outputs": [],
   "source": [
    "import numpy as np\n",
    "from sklearn.metrics import confusion_matrix, accuracy_score\n",
    "import matplotlib.pyplot as plt\n",
    "import seaborn as sns\n",
    "from tensorflow.keras.utils import to_categorical\n",
    "\n",
    "# Function to plot confusion matrix\n",
    "def plot_confusion_matrix(y_true, y_pred, class_names):\n",
    "    cm = confusion_matrix(y_true, y_pred)\n",
    "    plt.figure(figsize=(8, 6))\n",
    "    sns.heatmap(cm, annot=True, fmt='g', cmap='Blues', xticklabels=class_names, yticklabels=class_names)\n",
    "    plt.xlabel('Predicted')\n",
    "    plt.ylabel('True')\n",
    "    plt.title('Confusion Matrix')\n",
    "    plt.show()"
   ]
  },
  {
   "cell_type": "code",
   "execution_count": 48,
   "metadata": {},
   "outputs": [
    {
     "ename": "NameError",
     "evalue": "name 'custom_data_generator' is not defined",
     "output_type": "error",
     "traceback": [
      "\u001b[1;31m---------------------------------------------------------------------------\u001b[0m",
      "\u001b[1;31mNameError\u001b[0m                                 Traceback (most recent call last)",
      "\u001b[1;32md:\\rohit-ai-mesh-generation\\ai-mesh-generation\\notebooks\\manual-model.ipynb Cell 45\u001b[0m line \u001b[0;36m2\n\u001b[0;32m      <a href='vscode-notebook-cell:/d%3A/rohit-ai-mesh-generation/ai-mesh-generation/notebooks/manual-model.ipynb#X61sZmlsZQ%3D%3D?line=0'>1</a>\u001b[0m \u001b[39m# Generate test data\u001b[39;00m\n\u001b[1;32m----> <a href='vscode-notebook-cell:/d%3A/rohit-ai-mesh-generation/ai-mesh-generation/notebooks/manual-model.ipynb#X61sZmlsZQ%3D%3D?line=1'>2</a>\u001b[0m test_generator \u001b[39m=\u001b[39m custom_data_generator(base_dir, \u001b[39m'\u001b[39m\u001b[39mvalidation\u001b[39m\u001b[39m'\u001b[39m, batch_size\u001b[39m=\u001b[39m\u001b[39m32\u001b[39m)\n\u001b[0;32m      <a href='vscode-notebook-cell:/d%3A/rohit-ai-mesh-generation/ai-mesh-generation/notebooks/manual-model.ipynb#X61sZmlsZQ%3D%3D?line=2'>3</a>\u001b[0m \u001b[39m# Get the number of batches (steps) in the generator\u001b[39;00m\n\u001b[0;32m      <a href='vscode-notebook-cell:/d%3A/rohit-ai-mesh-generation/ai-mesh-generation/notebooks/manual-model.ipynb#X61sZmlsZQ%3D%3D?line=3'>4</a>\u001b[0m test_steps \u001b[39m=\u001b[39m test_generator\u001b[39m.\u001b[39mn \u001b[39m/\u001b[39m\u001b[39m/\u001b[39m test_generator\u001b[39m.\u001b[39mbatch_size\n",
      "\u001b[1;31mNameError\u001b[0m: name 'custom_data_generator' is not defined"
     ]
    }
   ],
   "source": [
    "# Generate test data\n",
    "test_generator = custom_data_generator(base_dir, 'validation', batch_size=32)\n",
    "# Get the number of batches (steps) in the generator\n",
    "test_steps = test_generator.n // test_generator.batch_size\n",
    "\n",
    "# Account for the last batch if it's not a full batch\n",
    "if test_generator.n % test_generator.batch_size != 0:\n",
    "    test_steps += 1\n",
    "\n",
    "# Get true labels\n",
    "true_labels = []\n",
    "for _ in range(test_steps):\n",
    "    _, labels_batch = next(test_generator)\n",
    "    true_labels.extend(np.argmax(labels_batch, axis=1))"
   ]
  },
  {
   "cell_type": "code",
   "execution_count": 49,
   "metadata": {},
   "outputs": [
    {
     "ename": "NameError",
     "evalue": "name 'test_generator' is not defined",
     "output_type": "error",
     "traceback": [
      "\u001b[1;31m---------------------------------------------------------------------------\u001b[0m",
      "\u001b[1;31mNameError\u001b[0m                                 Traceback (most recent call last)",
      "\u001b[1;32md:\\rohit-ai-mesh-generation\\ai-mesh-generation\\notebooks\\manual-model.ipynb Cell 46\u001b[0m line \u001b[0;36m1\n\u001b[1;32m----> <a href='vscode-notebook-cell:/d%3A/rohit-ai-mesh-generation/ai-mesh-generation/notebooks/manual-model.ipynb#X64sZmlsZQ%3D%3D?line=0'>1</a>\u001b[0m predictions \u001b[39m=\u001b[39m model\u001b[39m.\u001b[39mpredict_generator(test_generator, steps\u001b[39m=\u001b[39mtest_steps, verbose\u001b[39m=\u001b[39m\u001b[39m1\u001b[39m)\n\u001b[0;32m      <a href='vscode-notebook-cell:/d%3A/rohit-ai-mesh-generation/ai-mesh-generation/notebooks/manual-model.ipynb#X64sZmlsZQ%3D%3D?line=1'>2</a>\u001b[0m predicted_labels \u001b[39m=\u001b[39m np\u001b[39m.\u001b[39margmax(predictions, axis\u001b[39m=\u001b[39m\u001b[39m1\u001b[39m)\n\u001b[0;32m      <a href='vscode-notebook-cell:/d%3A/rohit-ai-mesh-generation/ai-mesh-generation/notebooks/manual-model.ipynb#X64sZmlsZQ%3D%3D?line=3'>4</a>\u001b[0m \u001b[39m# Map classes to their names\u001b[39;00m\n",
      "\u001b[1;31mNameError\u001b[0m: name 'test_generator' is not defined"
     ]
    }
   ],
   "source": [
    "predictions = model.predict_generator(test_generator, steps=test_steps, verbose=1)\n",
    "predicted_labels = np.argmax(predictions, axis=1)\n",
    "\n",
    "# Map classes to their names\n",
    "class_names = {v: k for k, v in train_generator.class_indices.items()}\n",
    "\n",
    "# Plot confusion matrix\n",
    "plot_confusion_matrix(true_labels, predicted_labels, class_names.values())\n",
    "\n",
    "# Evaluate accuracy\n",
    "accuracy = accuracy_score(true_labels, predicted_labels)\n",
    "print(f\"Accuracy: {accuracy * 100:.2f}%\")"
   ]
  },
  {
   "cell_type": "code",
   "execution_count": 50,
   "metadata": {},
   "outputs": [
    {
     "ename": "NameError",
     "evalue": "name 'custom_data_generator' is not defined",
     "output_type": "error",
     "traceback": [
      "\u001b[1;31m---------------------------------------------------------------------------\u001b[0m",
      "\u001b[1;31mNameError\u001b[0m                                 Traceback (most recent call last)",
      "\u001b[1;32md:\\rohit-ai-mesh-generation\\ai-mesh-generation\\notebooks\\manual-model.ipynb Cell 47\u001b[0m line \u001b[0;36m2\n\u001b[0;32m      <a href='vscode-notebook-cell:/d%3A/rohit-ai-mesh-generation/ai-mesh-generation/notebooks/manual-model.ipynb#X62sZmlsZQ%3D%3D?line=0'>1</a>\u001b[0m \u001b[39m# Get predictions\u001b[39;00m\n\u001b[1;32m----> <a href='vscode-notebook-cell:/d%3A/rohit-ai-mesh-generation/ai-mesh-generation/notebooks/manual-model.ipynb#X62sZmlsZQ%3D%3D?line=1'>2</a>\u001b[0m val_generator \u001b[39m=\u001b[39m custom_data_generator(base_dir, \u001b[39m'\u001b[39m\u001b[39mvalidation\u001b[39m\u001b[39m'\u001b[39m, batch_size\u001b[39m=\u001b[39m\u001b[39m32\u001b[39m)\n",
      "\u001b[1;31mNameError\u001b[0m: name 'custom_data_generator' is not defined"
     ]
    }
   ],
   "source": [
    "# Get predictions\n",
    "val_generator = custom_data_generator(base_dir, 'validation', batch_size=32)\n"
   ]
  },
  {
   "cell_type": "code",
   "execution_count": null,
   "metadata": {},
   "outputs": [],
   "source": [
    "list(val_generator)"
   ]
  },
  {
   "cell_type": "code",
   "execution_count": 47,
   "metadata": {},
   "outputs": [
    {
     "name": "stdout",
     "output_type": "stream",
     "text": [
      "Found 937 images belonging to 3 classes.\n",
      "   8551/Unknown - 462s 54ms/step"
     ]
    },
    {
     "ename": "KeyboardInterrupt",
     "evalue": "",
     "output_type": "error",
     "traceback": [
      "\u001b[1;31m---------------------------------------------------------------------------\u001b[0m",
      "\u001b[1;31mKeyboardInterrupt\u001b[0m                         Traceback (most recent call last)",
      "\u001b[1;32md:\\rohit-ai-mesh-generation\\ai-mesh-generation\\notebooks\\manual-model.ipynb Cell 48\u001b[0m line \u001b[0;36m1\n\u001b[1;32m----> <a href='vscode-notebook-cell:/d%3A/rohit-ai-mesh-generation/ai-mesh-generation/notebooks/manual-model.ipynb#X65sZmlsZQ%3D%3D?line=0'>1</a>\u001b[0m Y_pred \u001b[39m=\u001b[39m model\u001b[39m.\u001b[39;49mpredict(val_generator)\n\u001b[0;32m      <a href='vscode-notebook-cell:/d%3A/rohit-ai-mesh-generation/ai-mesh-generation/notebooks/manual-model.ipynb#X65sZmlsZQ%3D%3D?line=1'>2</a>\u001b[0m y_pred \u001b[39m=\u001b[39m np\u001b[39m.\u001b[39margmax(Y_pred, axis\u001b[39m=\u001b[39m\u001b[39m1\u001b[39m)\n\u001b[0;32m      <a href='vscode-notebook-cell:/d%3A/rohit-ai-mesh-generation/ai-mesh-generation/notebooks/manual-model.ipynb#X65sZmlsZQ%3D%3D?line=2'>3</a>\u001b[0m labels \u001b[39m=\u001b[39m {\u001b[39m0\u001b[39m: \u001b[39m'\u001b[39m\u001b[39mLow\u001b[39m\u001b[39m'\u001b[39m, \u001b[39m1\u001b[39m: \u001b[39m'\u001b[39m\u001b[39mAverage\u001b[39m\u001b[39m'\u001b[39m, \u001b[39m2\u001b[39m: \u001b[39m'\u001b[39m\u001b[39mHigh\u001b[39m\u001b[39m'\u001b[39m}\n",
      "File \u001b[1;32md:\\rohit-ai-mesh-generation\\ai-mesh-generation\\venv\\lib\\site-packages\\keras\\utils\\traceback_utils.py:65\u001b[0m, in \u001b[0;36mfilter_traceback.<locals>.error_handler\u001b[1;34m(*args, **kwargs)\u001b[0m\n\u001b[0;32m     63\u001b[0m filtered_tb \u001b[39m=\u001b[39m \u001b[39mNone\u001b[39;00m\n\u001b[0;32m     64\u001b[0m \u001b[39mtry\u001b[39;00m:\n\u001b[1;32m---> 65\u001b[0m     \u001b[39mreturn\u001b[39;00m fn(\u001b[39m*\u001b[39margs, \u001b[39m*\u001b[39m\u001b[39m*\u001b[39mkwargs)\n\u001b[0;32m     66\u001b[0m \u001b[39mexcept\u001b[39;00m \u001b[39mException\u001b[39;00m \u001b[39mas\u001b[39;00m e:\n\u001b[0;32m     67\u001b[0m     filtered_tb \u001b[39m=\u001b[39m _process_traceback_frames(e\u001b[39m.\u001b[39m__traceback__)\n",
      "File \u001b[1;32md:\\rohit-ai-mesh-generation\\ai-mesh-generation\\venv\\lib\\site-packages\\keras\\engine\\training.py:2253\u001b[0m, in \u001b[0;36mModel.predict\u001b[1;34m(self, x, batch_size, verbose, steps, callbacks, max_queue_size, workers, use_multiprocessing)\u001b[0m\n\u001b[0;32m   2251\u001b[0m \u001b[39mfor\u001b[39;00m step \u001b[39min\u001b[39;00m data_handler\u001b[39m.\u001b[39msteps():\n\u001b[0;32m   2252\u001b[0m     callbacks\u001b[39m.\u001b[39mon_predict_batch_begin(step)\n\u001b[1;32m-> 2253\u001b[0m     tmp_batch_outputs \u001b[39m=\u001b[39m \u001b[39mself\u001b[39;49m\u001b[39m.\u001b[39;49mpredict_function(iterator)\n\u001b[0;32m   2254\u001b[0m     \u001b[39mif\u001b[39;00m data_handler\u001b[39m.\u001b[39mshould_sync:\n\u001b[0;32m   2255\u001b[0m         context\u001b[39m.\u001b[39masync_wait()\n",
      "File \u001b[1;32m~\\AppData\\Roaming\\Python\\Python310\\site-packages\\tensorflow\\python\\util\\traceback_utils.py:150\u001b[0m, in \u001b[0;36mfilter_traceback.<locals>.error_handler\u001b[1;34m(*args, **kwargs)\u001b[0m\n\u001b[0;32m    148\u001b[0m filtered_tb \u001b[39m=\u001b[39m \u001b[39mNone\u001b[39;00m\n\u001b[0;32m    149\u001b[0m \u001b[39mtry\u001b[39;00m:\n\u001b[1;32m--> 150\u001b[0m   \u001b[39mreturn\u001b[39;00m fn(\u001b[39m*\u001b[39margs, \u001b[39m*\u001b[39m\u001b[39m*\u001b[39mkwargs)\n\u001b[0;32m    151\u001b[0m \u001b[39mexcept\u001b[39;00m \u001b[39mException\u001b[39;00m \u001b[39mas\u001b[39;00m e:\n\u001b[0;32m    152\u001b[0m   filtered_tb \u001b[39m=\u001b[39m _process_traceback_frames(e\u001b[39m.\u001b[39m__traceback__)\n",
      "File \u001b[1;32m~\\AppData\\Roaming\\Python\\Python310\\site-packages\\tensorflow\\python\\eager\\def_function.py:915\u001b[0m, in \u001b[0;36mFunction.__call__\u001b[1;34m(self, *args, **kwds)\u001b[0m\n\u001b[0;32m    912\u001b[0m compiler \u001b[39m=\u001b[39m \u001b[39m\"\u001b[39m\u001b[39mxla\u001b[39m\u001b[39m\"\u001b[39m \u001b[39mif\u001b[39;00m \u001b[39mself\u001b[39m\u001b[39m.\u001b[39m_jit_compile \u001b[39melse\u001b[39;00m \u001b[39m\"\u001b[39m\u001b[39mnonXla\u001b[39m\u001b[39m\"\u001b[39m\n\u001b[0;32m    914\u001b[0m \u001b[39mwith\u001b[39;00m OptionalXlaContext(\u001b[39mself\u001b[39m\u001b[39m.\u001b[39m_jit_compile):\n\u001b[1;32m--> 915\u001b[0m   result \u001b[39m=\u001b[39m \u001b[39mself\u001b[39m\u001b[39m.\u001b[39m_call(\u001b[39m*\u001b[39margs, \u001b[39m*\u001b[39m\u001b[39m*\u001b[39mkwds)\n\u001b[0;32m    917\u001b[0m new_tracing_count \u001b[39m=\u001b[39m \u001b[39mself\u001b[39m\u001b[39m.\u001b[39mexperimental_get_tracing_count()\n\u001b[0;32m    918\u001b[0m without_tracing \u001b[39m=\u001b[39m (tracing_count \u001b[39m==\u001b[39m new_tracing_count)\n",
      "File \u001b[1;32m~\\AppData\\Roaming\\Python\\Python310\\site-packages\\tensorflow\\python\\eager\\def_function.py:954\u001b[0m, in \u001b[0;36mFunction._call\u001b[1;34m(self, *args, **kwds)\u001b[0m\n\u001b[0;32m    951\u001b[0m \u001b[39mself\u001b[39m\u001b[39m.\u001b[39m_lock\u001b[39m.\u001b[39mrelease()\n\u001b[0;32m    952\u001b[0m \u001b[39m# In this case we have not created variables on the first call. So we can\u001b[39;00m\n\u001b[0;32m    953\u001b[0m \u001b[39m# run the first trace but we should fail if variables are created.\u001b[39;00m\n\u001b[1;32m--> 954\u001b[0m results \u001b[39m=\u001b[39m \u001b[39mself\u001b[39m\u001b[39m.\u001b[39m_stateful_fn(\u001b[39m*\u001b[39margs, \u001b[39m*\u001b[39m\u001b[39m*\u001b[39mkwds)\n\u001b[0;32m    955\u001b[0m \u001b[39mif\u001b[39;00m \u001b[39mself\u001b[39m\u001b[39m.\u001b[39m_created_variables \u001b[39mand\u001b[39;00m \u001b[39mnot\u001b[39;00m ALLOW_DYNAMIC_VARIABLE_CREATION:\n\u001b[0;32m    956\u001b[0m   \u001b[39mraise\u001b[39;00m \u001b[39mValueError\u001b[39;00m(\u001b[39m\"\u001b[39m\u001b[39mCreating variables on a non-first call to a function\u001b[39m\u001b[39m\"\u001b[39m\n\u001b[0;32m    957\u001b[0m                    \u001b[39m\"\u001b[39m\u001b[39m decorated with tf.function.\u001b[39m\u001b[39m\"\u001b[39m)\n",
      "File \u001b[1;32m~\\AppData\\Roaming\\Python\\Python310\\site-packages\\tensorflow\\python\\eager\\function.py:2496\u001b[0m, in \u001b[0;36mFunction.__call__\u001b[1;34m(self, *args, **kwargs)\u001b[0m\n\u001b[0;32m   2493\u001b[0m \u001b[39mwith\u001b[39;00m \u001b[39mself\u001b[39m\u001b[39m.\u001b[39m_lock:\n\u001b[0;32m   2494\u001b[0m   (graph_function,\n\u001b[0;32m   2495\u001b[0m    filtered_flat_args) \u001b[39m=\u001b[39m \u001b[39mself\u001b[39m\u001b[39m.\u001b[39m_maybe_define_function(args, kwargs)\n\u001b[1;32m-> 2496\u001b[0m \u001b[39mreturn\u001b[39;00m graph_function\u001b[39m.\u001b[39;49m_call_flat(\n\u001b[0;32m   2497\u001b[0m     filtered_flat_args, captured_inputs\u001b[39m=\u001b[39;49mgraph_function\u001b[39m.\u001b[39;49mcaptured_inputs)\n",
      "File \u001b[1;32m~\\AppData\\Roaming\\Python\\Python310\\site-packages\\tensorflow\\python\\eager\\function.py:1862\u001b[0m, in \u001b[0;36mConcreteFunction._call_flat\u001b[1;34m(self, args, captured_inputs, cancellation_manager)\u001b[0m\n\u001b[0;32m   1858\u001b[0m possible_gradient_type \u001b[39m=\u001b[39m gradients_util\u001b[39m.\u001b[39mPossibleTapeGradientTypes(args)\n\u001b[0;32m   1859\u001b[0m \u001b[39mif\u001b[39;00m (possible_gradient_type \u001b[39m==\u001b[39m gradients_util\u001b[39m.\u001b[39mPOSSIBLE_GRADIENT_TYPES_NONE\n\u001b[0;32m   1860\u001b[0m     \u001b[39mand\u001b[39;00m executing_eagerly):\n\u001b[0;32m   1861\u001b[0m   \u001b[39m# No tape is watching; skip to running the function.\u001b[39;00m\n\u001b[1;32m-> 1862\u001b[0m   \u001b[39mreturn\u001b[39;00m \u001b[39mself\u001b[39m\u001b[39m.\u001b[39m_build_call_outputs(\u001b[39mself\u001b[39;49m\u001b[39m.\u001b[39;49m_inference_function\u001b[39m.\u001b[39;49mcall(\n\u001b[0;32m   1863\u001b[0m       ctx, args, cancellation_manager\u001b[39m=\u001b[39;49mcancellation_manager))\n\u001b[0;32m   1864\u001b[0m forward_backward \u001b[39m=\u001b[39m \u001b[39mself\u001b[39m\u001b[39m.\u001b[39m_select_forward_and_backward_functions(\n\u001b[0;32m   1865\u001b[0m     args,\n\u001b[0;32m   1866\u001b[0m     possible_gradient_type,\n\u001b[0;32m   1867\u001b[0m     executing_eagerly)\n\u001b[0;32m   1868\u001b[0m forward_function, args_with_tangents \u001b[39m=\u001b[39m forward_backward\u001b[39m.\u001b[39mforward()\n",
      "File \u001b[1;32m~\\AppData\\Roaming\\Python\\Python310\\site-packages\\tensorflow\\python\\eager\\function.py:499\u001b[0m, in \u001b[0;36m_EagerDefinedFunction.call\u001b[1;34m(self, ctx, args, cancellation_manager)\u001b[0m\n\u001b[0;32m    497\u001b[0m \u001b[39mwith\u001b[39;00m _InterpolateFunctionError(\u001b[39mself\u001b[39m):\n\u001b[0;32m    498\u001b[0m   \u001b[39mif\u001b[39;00m cancellation_manager \u001b[39mis\u001b[39;00m \u001b[39mNone\u001b[39;00m:\n\u001b[1;32m--> 499\u001b[0m     outputs \u001b[39m=\u001b[39m execute\u001b[39m.\u001b[39;49mexecute(\n\u001b[0;32m    500\u001b[0m         \u001b[39mstr\u001b[39;49m(\u001b[39mself\u001b[39;49m\u001b[39m.\u001b[39;49msignature\u001b[39m.\u001b[39;49mname),\n\u001b[0;32m    501\u001b[0m         num_outputs\u001b[39m=\u001b[39;49m\u001b[39mself\u001b[39;49m\u001b[39m.\u001b[39;49m_num_outputs,\n\u001b[0;32m    502\u001b[0m         inputs\u001b[39m=\u001b[39;49margs,\n\u001b[0;32m    503\u001b[0m         attrs\u001b[39m=\u001b[39;49mattrs,\n\u001b[0;32m    504\u001b[0m         ctx\u001b[39m=\u001b[39;49mctx)\n\u001b[0;32m    505\u001b[0m   \u001b[39melse\u001b[39;00m:\n\u001b[0;32m    506\u001b[0m     outputs \u001b[39m=\u001b[39m execute\u001b[39m.\u001b[39mexecute_with_cancellation(\n\u001b[0;32m    507\u001b[0m         \u001b[39mstr\u001b[39m(\u001b[39mself\u001b[39m\u001b[39m.\u001b[39msignature\u001b[39m.\u001b[39mname),\n\u001b[0;32m    508\u001b[0m         num_outputs\u001b[39m=\u001b[39m\u001b[39mself\u001b[39m\u001b[39m.\u001b[39m_num_outputs,\n\u001b[1;32m   (...)\u001b[0m\n\u001b[0;32m    511\u001b[0m         ctx\u001b[39m=\u001b[39mctx,\n\u001b[0;32m    512\u001b[0m         cancellation_manager\u001b[39m=\u001b[39mcancellation_manager)\n",
      "File \u001b[1;32m~\\AppData\\Roaming\\Python\\Python310\\site-packages\\tensorflow\\python\\eager\\execute.py:54\u001b[0m, in \u001b[0;36mquick_execute\u001b[1;34m(op_name, num_outputs, inputs, attrs, ctx, name)\u001b[0m\n\u001b[0;32m     52\u001b[0m \u001b[39mtry\u001b[39;00m:\n\u001b[0;32m     53\u001b[0m   ctx\u001b[39m.\u001b[39mensure_initialized()\n\u001b[1;32m---> 54\u001b[0m   tensors \u001b[39m=\u001b[39m pywrap_tfe\u001b[39m.\u001b[39;49mTFE_Py_Execute(ctx\u001b[39m.\u001b[39;49m_handle, device_name, op_name,\n\u001b[0;32m     55\u001b[0m                                       inputs, attrs, num_outputs)\n\u001b[0;32m     56\u001b[0m \u001b[39mexcept\u001b[39;00m core\u001b[39m.\u001b[39m_NotOkStatusException \u001b[39mas\u001b[39;00m e:\n\u001b[0;32m     57\u001b[0m   \u001b[39mif\u001b[39;00m name \u001b[39mis\u001b[39;00m \u001b[39mnot\u001b[39;00m \u001b[39mNone\u001b[39;00m:\n",
      "\u001b[1;31mKeyboardInterrupt\u001b[0m: "
     ]
    }
   ],
   "source": [
    "Y_pred = model.predict(val_generator)\n",
    "y_pred = np.argmax(Y_pred, axis=1)\n",
    "labels = {0: 'Low', 1: 'Average', 2: 'High'}\n",
    "#labels = {0: 'Low', 1: 'High'}\n",
    "#validation_labels = [labels[k] for k in val_generator.classes]\n",
    "validation_labels = val_generator.classes\n",
    "#print(y_pred)\n",
    "y_true = val_generator.classes"
   ]
  },
  {
   "cell_type": "code",
   "execution_count": 51,
   "metadata": {},
   "outputs": [
    {
     "data": {
      "image/png": "[encoded data removed]",
      "text/plain": [
       "<Figure size 400x400 with 2 Axes>"
      ]
     },
     "metadata": {},
     "output_type": "display_data"
    },
    {
     "ename": "ValueError",
     "evalue": "Number of classes, 2, does not match size of target_names, 3. Try specifying the labels parameter",
     "output_type": "error",
     "traceback": [
      "\u001b[1;31m---------------------------------------------------------------------------\u001b[0m",
      "\u001b[1;31mValueError\u001b[0m                                Traceback (most recent call last)",
      "\u001b[1;32md:\\rohit-ai-mesh-generation\\ai-mesh-generation\\notebooks\\manual-model.ipynb Cell 50\u001b[0m line \u001b[0;36m1\n\u001b[0;32m      <a href='vscode-notebook-cell:/d%3A/rohit-ai-mesh-generation/ai-mesh-generation/notebooks/manual-model.ipynb#X63sZmlsZQ%3D%3D?line=7'>8</a>\u001b[0m plt\u001b[39m.\u001b[39mshow()\n\u001b[0;32m     <a href='vscode-notebook-cell:/d%3A/rohit-ai-mesh-generation/ai-mesh-generation/notebooks/manual-model.ipynb#X63sZmlsZQ%3D%3D?line=9'>10</a>\u001b[0m \u001b[39m# Print classification report\u001b[39;00m\n\u001b[1;32m---> <a href='vscode-notebook-cell:/d%3A/rohit-ai-mesh-generation/ai-mesh-generation/notebooks/manual-model.ipynb#X63sZmlsZQ%3D%3D?line=10'>11</a>\u001b[0m \u001b[39mprint\u001b[39m(classification_report(y_true, y_pred, target_names\u001b[39m=\u001b[39;49mlabels\u001b[39m.\u001b[39;49mvalues()))\n",
      "File \u001b[1;32md:\\rohit-ai-mesh-generation\\ai-mesh-generation\\venv\\lib\\site-packages\\sklearn\\utils\\_param_validation.py:211\u001b[0m, in \u001b[0;36mvalidate_params.<locals>.decorator.<locals>.wrapper\u001b[1;34m(*args, **kwargs)\u001b[0m\n\u001b[0;32m    205\u001b[0m \u001b[39mtry\u001b[39;00m:\n\u001b[0;32m    206\u001b[0m     \u001b[39mwith\u001b[39;00m config_context(\n\u001b[0;32m    207\u001b[0m         skip_parameter_validation\u001b[39m=\u001b[39m(\n\u001b[0;32m    208\u001b[0m             prefer_skip_nested_validation \u001b[39mor\u001b[39;00m global_skip_validation\n\u001b[0;32m    209\u001b[0m         )\n\u001b[0;32m    210\u001b[0m     ):\n\u001b[1;32m--> 211\u001b[0m         \u001b[39mreturn\u001b[39;00m func(\u001b[39m*\u001b[39margs, \u001b[39m*\u001b[39m\u001b[39m*\u001b[39mkwargs)\n\u001b[0;32m    212\u001b[0m \u001b[39mexcept\u001b[39;00m InvalidParameterError \u001b[39mas\u001b[39;00m e:\n\u001b[0;32m    213\u001b[0m     \u001b[39m# When the function is just a wrapper around an estimator, we allow\u001b[39;00m\n\u001b[0;32m    214\u001b[0m     \u001b[39m# the function to delegate validation to the estimator, but we replace\u001b[39;00m\n\u001b[0;32m    215\u001b[0m     \u001b[39m# the name of the estimator by the name of the function in the error\u001b[39;00m\n\u001b[0;32m    216\u001b[0m     \u001b[39m# message to avoid confusion.\u001b[39;00m\n\u001b[0;32m    217\u001b[0m     msg \u001b[39m=\u001b[39m re\u001b[39m.\u001b[39msub(\n\u001b[0;32m    218\u001b[0m         \u001b[39mr\u001b[39m\u001b[39m\"\u001b[39m\u001b[39mparameter of \u001b[39m\u001b[39m\\\u001b[39m\u001b[39mw+ must be\u001b[39m\u001b[39m\"\u001b[39m,\n\u001b[0;32m    219\u001b[0m         \u001b[39mf\u001b[39m\u001b[39m\"\u001b[39m\u001b[39mparameter of \u001b[39m\u001b[39m{\u001b[39;00mfunc\u001b[39m.\u001b[39m\u001b[39m__qualname__\u001b[39m\u001b[39m}\u001b[39;00m\u001b[39m must be\u001b[39m\u001b[39m\"\u001b[39m,\n\u001b[0;32m    220\u001b[0m         \u001b[39mstr\u001b[39m(e),\n\u001b[0;32m    221\u001b[0m     )\n",
      "File \u001b[1;32md:\\rohit-ai-mesh-generation\\ai-mesh-generation\\venv\\lib\\site-packages\\sklearn\\metrics\\_classification.py:2561\u001b[0m, in \u001b[0;36mclassification_report\u001b[1;34m(y_true, y_pred, labels, target_names, sample_weight, digits, output_dict, zero_division)\u001b[0m\n\u001b[0;32m   2555\u001b[0m         warnings\u001b[39m.\u001b[39mwarn(\n\u001b[0;32m   2556\u001b[0m             \u001b[39m\"\u001b[39m\u001b[39mlabels size, \u001b[39m\u001b[39m{0}\u001b[39;00m\u001b[39m, does not match size of target_names, \u001b[39m\u001b[39m{1}\u001b[39;00m\u001b[39m\"\u001b[39m\u001b[39m.\u001b[39mformat(\n\u001b[0;32m   2557\u001b[0m                 \u001b[39mlen\u001b[39m(labels), \u001b[39mlen\u001b[39m(target_names)\n\u001b[0;32m   2558\u001b[0m             )\n\u001b[0;32m   2559\u001b[0m         )\n\u001b[0;32m   2560\u001b[0m     \u001b[39melse\u001b[39;00m:\n\u001b[1;32m-> 2561\u001b[0m         \u001b[39mraise\u001b[39;00m \u001b[39mValueError\u001b[39;00m(\n\u001b[0;32m   2562\u001b[0m             \u001b[39m\"\u001b[39m\u001b[39mNumber of classes, \u001b[39m\u001b[39m{0}\u001b[39;00m\u001b[39m, does not match size of \u001b[39m\u001b[39m\"\u001b[39m\n\u001b[0;32m   2563\u001b[0m             \u001b[39m\"\u001b[39m\u001b[39mtarget_names, \u001b[39m\u001b[39m{1}\u001b[39;00m\u001b[39m. Try specifying the labels \u001b[39m\u001b[39m\"\u001b[39m\n\u001b[0;32m   2564\u001b[0m             \u001b[39m\"\u001b[39m\u001b[39mparameter\u001b[39m\u001b[39m\"\u001b[39m\u001b[39m.\u001b[39mformat(\u001b[39mlen\u001b[39m(labels), \u001b[39mlen\u001b[39m(target_names))\n\u001b[0;32m   2565\u001b[0m         )\n\u001b[0;32m   2566\u001b[0m \u001b[39mif\u001b[39;00m target_names \u001b[39mis\u001b[39;00m \u001b[39mNone\u001b[39;00m:\n\u001b[0;32m   2567\u001b[0m     target_names \u001b[39m=\u001b[39m [\u001b[39m\"\u001b[39m\u001b[39m%s\u001b[39;00m\u001b[39m\"\u001b[39m \u001b[39m%\u001b[39m l \u001b[39mfor\u001b[39;00m l \u001b[39min\u001b[39;00m labels]\n",
      "\u001b[1;31mValueError\u001b[0m: Number of classes, 2, does not match size of target_names, 3. Try specifying the labels parameter"
     ]
    }
   ],
   "source": [
    "# Plot confusion matrix with numerical values\n",
    "conf_mat = confusion_matrix(y_true, y_pred)\n",
    "plt.figure(figsize=(4, 4))\n",
    "sns.heatmap(conf_mat, annot=True, fmt='d', cmap='Blues', xticklabels=labels.values(), yticklabels=labels.values())\n",
    "plt.title('Confusion Matrix')\n",
    "plt.xlabel('Predicted')\n",
    "plt.ylabel('True')\n",
    "plt.show()\n",
    "\n",
    "# Print classification report\n",
    "print(classification_report(y_true, y_pred, target_names=labels.values()))"
   ]
  },
  {
   "cell_type": "code",
   "execution_count": 49,
   "metadata": {},
   "outputs": [],
   "source": [
    "import os\n",
    "import cv2\n",
    "import numpy as np\n",
    "\n",
    "# Function to apply Sobel filter to an image\n",
    "def apply_sobel(image):\n",
    "    # Your Sobel filter implementation\n",
    "    # For example:\n",
    "    sobel_image = cv2.Sobel(image, cv2.CV_64F, 1, 1, ksize=3)\n",
    "    return sobel_image\n",
    "\n",
    "# Source and destination directories\n",
    "source_directory = '../output/approach-2/'\n",
    "destination_directory = '../output/sobel/'\n",
    "\n",
    "# Iterate through the source directory\n",
    "for category_folder in os.listdir(source_directory):\n",
    "    category_path = os.path.join(source_directory, category_folder)\n",
    "    \n",
    "    # Ensure it's a directory\n",
    "    if os.path.isdir(category_path):\n",
    "        # Create a subdirectory in the destination folder\n",
    "        destination_category_path = os.path.join(destination_directory, category_folder)\n",
    "        os.makedirs(destination_category_path, exist_ok=True)\n",
    "        \n",
    "        # Process each image in the category folder\n",
    "        for filename in os.listdir(category_path):\n",
    "            if filename.endswith(('.jpg', '.png')):  # Adjust based on your image format\n",
    "                # Read the image\n",
    "                image_path = os.path.join(category_path, filename)\n",
    "                image = cv2.imread(image_path, cv2.IMREAD_GRAYSCALE)\n",
    "                \n",
    "                # Apply Sobel filter\n",
    "                sobel_image = apply_sobel(image)\n",
    "                \n",
    "                # Save the processed image to the destination folder\n",
    "                destination_path = os.path.join(destination_category_path, filename)\n",
    "                cv2.imwrite(destination_path, sobel_image)\n"
   ]
  },
  {
   "cell_type": "code",
   "execution_count": 199,
   "metadata": {},
   "outputs": [
    {
     "name": "stderr",
     "output_type": "stream",
     "text": [
      "Clipping input data to the valid range for imshow with RGB data ([0..1] for floats or [0..255] for integers).\n"
     ]
    },
    {
     "data": {
      "image/png": "[encoded data removed]",
      "text/plain": [
       "<Figure size 1500x700 with 6 Axes>"
      ]
     },
     "metadata": {},
     "output_type": "display_data"
    }
   ],
   "source": [
    "import numpy as np\n",
    "import matplotlib.pyplot as plt\n",
    "plt.rcParams.update({'font.size': 15})\n",
    "from tensorflow.keras.preprocessing import image\n",
    "from tensorflow.keras.preprocessing.image import img_to_array\n",
    "\n",
    "# Load or create your image\n",
    "img_path = '../output/3D_34.png'\n",
    "img = image.load_img(img_path, target_size=(400, 400))  # Adjust target_size as needed\n",
    "\n",
    "# Convert the image to a NumPy array\n",
    "img_array = img_to_array(img)\n",
    "\n",
    "# Type 1: Scaling to [0, 1]\n",
    "normalized_image_1 = img_array / 255.0\n",
    "\n",
    "# Type 2: Zero-centering\n",
    "mean_intensity = np.mean(img_array)\n",
    "normalized_image_2 = img_array - mean_intensity\n",
    "\n",
    "# Plot the original and normalized images along with pixel intensity distribution\n",
    "plt.figure(figsize=(15, 7))\n",
    "\n",
    "# Original Image\n",
    "plt.subplot(2, 3, 1)\n",
    "plt.imshow(img_array.astype('uint8'))\n",
    "plt.title('Original Image')\n",
    "plt.axis('off')\n",
    "\n",
    "# Pixel intensity distribution for Original Image\n",
    "plt.subplot(2, 3, 4)\n",
    "plt.hist(img_array.flatten(), bins=256, range=[0, 255], color='g', alpha=0.5)\n",
    "plt.yticks([])\n",
    "plt.title(\"Original\")\n",
    "plt.xlabel(\"Pixel Intensity\")\n",
    "plt.ylabel(\"Frequency\")\n",
    "\n",
    "# Normalized Image (Type 1)\n",
    "plt.subplot(2, 3, 2)\n",
    "plt.imshow(normalized_image_1)\n",
    "plt.title('Normalized (Scaling)')\n",
    "plt.axis('off')\n",
    "\n",
    "# Pixel intensity distribution for Type 1\n",
    "plt.subplot(2, 3, 5)\n",
    "plt.hist(normalized_image_1.flatten(), bins=256, range=[0, 1], color='r', alpha=0.5)\n",
    "plt.yticks([])\n",
    "plt.title(\"Scaling\")\n",
    "plt.xlabel(\"Pixel Intensity\")\n",
    "plt.ylabel(\"Frequency\")\n",
    "\n",
    "# Normalized Image (Type 2)\n",
    "plt.subplot(2, 3, 3)\n",
    "plt.imshow(normalized_image_2)\n",
    "plt.title('Normalized (Zero-Centering)')\n",
    "plt.axis('off')\n",
    "\n",
    "# Pixel intensity distribution for Type 2\n",
    "plt.subplot(2, 3, 6)\n",
    "plt.hist(normalized_image_2.flatten(), bins=256, color='b', alpha=0.5)\n",
    "plt.title(\"Zero-Centering\")\n",
    "plt.yticks([])\n",
    "plt.xlabel(\"Pixel Intensity\")\n",
    "plt.ylabel(\"Frequency\")\n",
    "\n",
    "plt.show()"
   ]
  },
  {
   "cell_type": "code",
   "execution_count": 203,
   "metadata": {},
   "outputs": [
    {
     "data": {
      "image/png": "[encoded data removed]",
      "text/plain": [
       "<Figure size 1500x700 with 4 Axes>"
      ]
     },
     "metadata": {},
     "output_type": "display_data"
    }
   ],
   "source": [
    "import numpy as np\n",
    "import matplotlib.pyplot as plt\n",
    "plt.rcParams.update({'font.size': 15})\n",
    "from tensorflow.keras.preprocessing import image\n",
    "from tensorflow.keras.preprocessing.image import img_to_array\n",
    "\n",
    "# Load or create your image\n",
    "img_path = '../output/tiles/branch_line_coupler_65_500_2_2.png'\n",
    "img = image.load_img(img_path, target_size=(400, 400))  # Adjust target_size as needed\n",
    "\n",
    "# Convert the image to a NumPy array\n",
    "img_array = img_to_array(img)\n",
    "\n",
    "# Type 1: Scaling to [0, 1]\n",
    "normalized_image_1 = img_array / 255.0\n",
    "\n",
    "# Type 2: Zero-centering\n",
    "mean_intensity = np.mean(img_array)\n",
    "normalized_image_2 = img_array - mean_intensity\n",
    "\n",
    "# Function to add frame to an image\n",
    "def add_frame(img, color='black', thickness=1):\n",
    "    img_h, img_w, _ = img.shape\n",
    "    framed_img = np.copy(img)\n",
    "    framed_img[:thickness, :, :] = framed_img[-thickness:, :, :] = 0\n",
    "    framed_img[:, :thickness, :] = framed_img[:, -thickness:, :] = 0\n",
    "    return framed_img\n",
    "\n",
    "# Plot the original and normalized images along with pixel intensity distribution\n",
    "plt.figure(figsize=(15, 7))\n",
    "\n",
    "# Original Image\n",
    "\n",
    "plt.subplot(2, 3, 1)\n",
    "framed_original = add_frame(img_array, color='black')\n",
    "plt.imshow(framed_original.astype('uint8'))\n",
    "plt.title('Original Image')\n",
    "plt.axis('off')\n",
    "\n",
    "# Pixel intensity distribution for Original Image\n",
    "plt.subplot(2, 3, 4)\n",
    "plt.hist(img_array.flatten(), bins=256, range=[0, 255], color='g', alpha=0.5)\n",
    "plt.yticks([])\n",
    "plt.title(\"Original\")\n",
    "plt.xlabel(\"Pixel Intensity\")\n",
    "plt.ylabel(\"Frequency\")\n",
    "\n",
    "# Normalized Image (Type 1)\n",
    "plt.subplot(2, 3, 2)\n",
    "framed_normalized_image_1 = add_frame(normalized_image_1, color='black')\n",
    "plt.imshow(framed_normalized_image_1)\n",
    "plt.title('Normalized (Scaling)')\n",
    "plt.axis('off')\n",
    "\n",
    "# Pixel intensity distribution for Type 1\n",
    "plt.subplot(2, 3, 5)\n",
    "plt.hist(normalized_image_1.flatten(), bins=256, range=[0, 1], color='r', alpha=0.5)\n",
    "plt.yticks([])\n",
    "plt.title(\"Scaling\")\n",
    "plt.xlabel(\"Pixel Intensity\")\n",
    "plt.ylabel(\"Frequency\")\n",
    "\n",
    "# # Normalized Image (Type 2)\n",
    "# plt.subplot(2, 3, 3)\n",
    "# framed_normalized_image_2 = add_frame(normalized_image_2, color='black')\n",
    "# plt.imshow(framed_normalized_image_2)\n",
    "# plt.title('Normalized (Zero-Centering)')\n",
    "# plt.axis('off')\n",
    "\n",
    "# # Pixel intensity distribution for Type 2\n",
    "# plt.subplot(2, 3, 6)\n",
    "# plt.hist(normalized_image_2.flatten(), bins=256, color='b', alpha=0.5)\n",
    "# plt.title(\"Zero-Centering\")\n",
    "# plt.yticks([])\n",
    "# plt.xlabel(\"Pixel Intensity\")\n",
    "# plt.ylabel(\"Frequency\")\n",
    "\n",
    "plt.show()"
   ]
  },
  {
   "cell_type": "code",
   "execution_count": 204,
   "metadata": {},
   "outputs": [
    {
     "name": "stdout",
     "output_type": "stream",
     "text": [
      "Original Feature Data: [ 2.  5.  8. 11. 14.]\n",
      "Min-Max Scaled Data: [0.   0.25 0.5  0.75 1.  ]\n",
      "Standardized Data: [-1.41421356 -0.70710678  0.          0.70710678  1.41421356]\n",
      "Robust Scaled Data: [-1.  -0.5  0.   0.5  1. ]\n"
     ]
    }
   ],
   "source": [
    "import numpy as np\n",
    "from sklearn.preprocessing import MinMaxScaler, StandardScaler, RobustScaler\n",
    "\n",
    "# Example feature data\n",
    "feature_data = np.array([2.0, 5.0, 8.0, 11.0, 14.0])\n",
    "\n",
    "# Min-Max Scaling\n",
    "min_max_scaled = MinMaxScaler().fit_transform(feature_data.reshape(-1, 1)).flatten()\n",
    "\n",
    "# Standardization\n",
    "standardized = StandardScaler().fit_transform(feature_data.reshape(-1, 1)).flatten()\n",
    "\n",
    "# Robust Scaling\n",
    "robust_scaled = RobustScaler().fit_transform(feature_data.reshape(-1, 1)).flatten()\n",
    "\n",
    "print(\"Original Feature Data:\", feature_data)\n",
    "print(\"Min-Max Scaled Data:\", min_max_scaled)\n",
    "print(\"Standardized Data:\", standardized)\n",
    "print(\"Robust Scaled Data:\", robust_scaled)\n"
   ]
  }
 ],
 "metadata": {
  "kernelspec": {
   "display_name": "Python 3",
   "language": "python",
   "name": "python3"
  },
  "language_info": {
   "codemirror_mode": {
    "name": "ipython",
    "version": 3
   },
   "file_extension": ".py",
   "mimetype": "text/x-python",
   "name": "python",
   "nbconvert_exporter": "python",
   "pygments_lexer": "ipython3",
   "version": "3.10.0"
  }
 },
 "nbformat": 4,
 "nbformat_minor": 2
}
